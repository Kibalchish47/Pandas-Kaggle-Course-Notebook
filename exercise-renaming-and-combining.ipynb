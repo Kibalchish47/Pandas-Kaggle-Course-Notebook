{
 "cells": [
  {
   "cell_type": "markdown",
   "id": "6b0fdfac",
   "metadata": {
    "papermill": {
     "duration": 0.006076,
     "end_time": "2023-08-22T18:45:30.324503",
     "exception": false,
     "start_time": "2023-08-22T18:45:30.318427",
     "status": "completed"
    },
    "tags": []
   },
   "source": [
    "**This notebook is an exercise in the [Pandas](https://www.kaggle.com/learn/pandas) course.  You can reference the tutorial at [this link](https://www.kaggle.com/residentmario/renaming-and-combining).**\n",
    "\n",
    "---\n"
   ]
  },
  {
   "cell_type": "markdown",
   "id": "7ec1fad1",
   "metadata": {
    "papermill": {
     "duration": 0.004455,
     "end_time": "2023-08-22T18:45:30.334216",
     "exception": false,
     "start_time": "2023-08-22T18:45:30.329761",
     "status": "completed"
    },
    "tags": []
   },
   "source": [
    "# Introduction\n",
    "\n",
    "Run the following cell to load your data and some utility functions."
   ]
  },
  {
   "cell_type": "code",
   "execution_count": 1,
   "id": "cc85d7c4",
   "metadata": {
    "execution": {
     "iopub.execute_input": "2023-08-22T18:45:30.345555Z",
     "iopub.status.busy": "2023-08-22T18:45:30.344907Z",
     "iopub.status.idle": "2023-08-22T18:45:34.340088Z",
     "shell.execute_reply": "2023-08-22T18:45:34.339050Z"
    },
    "papermill": {
     "duration": 4.003833,
     "end_time": "2023-08-22T18:45:34.342750",
     "exception": false,
     "start_time": "2023-08-22T18:45:30.338917",
     "status": "completed"
    },
    "tags": []
   },
   "outputs": [
    {
     "name": "stdout",
     "output_type": "stream",
     "text": [
      "Setup complete.\n"
     ]
    }
   ],
   "source": [
    "import pandas as pd\n",
    "\n",
    "reviews = pd.read_csv(\"../input/wine-reviews/winemag-data-130k-v2.csv\", index_col=0)\n",
    "\n",
    "from learntools.core import binder; binder.bind(globals())\n",
    "from learntools.pandas.renaming_and_combining import *\n",
    "print(\"Setup complete.\")"
   ]
  },
  {
   "cell_type": "markdown",
   "id": "19643e8a",
   "metadata": {
    "papermill": {
     "duration": 0.004718,
     "end_time": "2023-08-22T18:45:34.352401",
     "exception": false,
     "start_time": "2023-08-22T18:45:34.347683",
     "status": "completed"
    },
    "tags": []
   },
   "source": [
    "# Exercises\n",
    "\n",
    "View the first several lines of your data by running the cell below:"
   ]
  },
  {
   "cell_type": "code",
   "execution_count": 2,
   "id": "fafef365",
   "metadata": {
    "execution": {
     "iopub.execute_input": "2023-08-22T18:45:34.364276Z",
     "iopub.status.busy": "2023-08-22T18:45:34.363311Z",
     "iopub.status.idle": "2023-08-22T18:45:34.386238Z",
     "shell.execute_reply": "2023-08-22T18:45:34.385311Z"
    },
    "papermill": {
     "duration": 0.032016,
     "end_time": "2023-08-22T18:45:34.389278",
     "exception": false,
     "start_time": "2023-08-22T18:45:34.357262",
     "status": "completed"
    },
    "tags": []
   },
   "outputs": [
    {
     "data": {
      "text/html": [
       "<div>\n",
       "<style scoped>\n",
       "    .dataframe tbody tr th:only-of-type {\n",
       "        vertical-align: middle;\n",
       "    }\n",
       "\n",
       "    .dataframe tbody tr th {\n",
       "        vertical-align: top;\n",
       "    }\n",
       "\n",
       "    .dataframe thead th {\n",
       "        text-align: right;\n",
       "    }\n",
       "</style>\n",
       "<table border=\"1\" class=\"dataframe\">\n",
       "  <thead>\n",
       "    <tr style=\"text-align: right;\">\n",
       "      <th></th>\n",
       "      <th>country</th>\n",
       "      <th>description</th>\n",
       "      <th>designation</th>\n",
       "      <th>points</th>\n",
       "      <th>price</th>\n",
       "      <th>province</th>\n",
       "      <th>region_1</th>\n",
       "      <th>region_2</th>\n",
       "      <th>taster_name</th>\n",
       "      <th>taster_twitter_handle</th>\n",
       "      <th>title</th>\n",
       "      <th>variety</th>\n",
       "      <th>winery</th>\n",
       "    </tr>\n",
       "  </thead>\n",
       "  <tbody>\n",
       "    <tr>\n",
       "      <th>0</th>\n",
       "      <td>Italy</td>\n",
       "      <td>Aromas include tropical fruit, broom, brimston...</td>\n",
       "      <td>Vulkà Bianco</td>\n",
       "      <td>87</td>\n",
       "      <td>NaN</td>\n",
       "      <td>Sicily &amp; Sardinia</td>\n",
       "      <td>Etna</td>\n",
       "      <td>NaN</td>\n",
       "      <td>Kerin O’Keefe</td>\n",
       "      <td>@kerinokeefe</td>\n",
       "      <td>Nicosia 2013 Vulkà Bianco  (Etna)</td>\n",
       "      <td>White Blend</td>\n",
       "      <td>Nicosia</td>\n",
       "    </tr>\n",
       "    <tr>\n",
       "      <th>1</th>\n",
       "      <td>Portugal</td>\n",
       "      <td>This is ripe and fruity, a wine that is smooth...</td>\n",
       "      <td>Avidagos</td>\n",
       "      <td>87</td>\n",
       "      <td>15.0</td>\n",
       "      <td>Douro</td>\n",
       "      <td>NaN</td>\n",
       "      <td>NaN</td>\n",
       "      <td>Roger Voss</td>\n",
       "      <td>@vossroger</td>\n",
       "      <td>Quinta dos Avidagos 2011 Avidagos Red (Douro)</td>\n",
       "      <td>Portuguese Red</td>\n",
       "      <td>Quinta dos Avidagos</td>\n",
       "    </tr>\n",
       "    <tr>\n",
       "      <th>2</th>\n",
       "      <td>US</td>\n",
       "      <td>Tart and snappy, the flavors of lime flesh and...</td>\n",
       "      <td>NaN</td>\n",
       "      <td>87</td>\n",
       "      <td>14.0</td>\n",
       "      <td>Oregon</td>\n",
       "      <td>Willamette Valley</td>\n",
       "      <td>Willamette Valley</td>\n",
       "      <td>Paul Gregutt</td>\n",
       "      <td>@paulgwine</td>\n",
       "      <td>Rainstorm 2013 Pinot Gris (Willamette Valley)</td>\n",
       "      <td>Pinot Gris</td>\n",
       "      <td>Rainstorm</td>\n",
       "    </tr>\n",
       "    <tr>\n",
       "      <th>3</th>\n",
       "      <td>US</td>\n",
       "      <td>Pineapple rind, lemon pith and orange blossom ...</td>\n",
       "      <td>Reserve Late Harvest</td>\n",
       "      <td>87</td>\n",
       "      <td>13.0</td>\n",
       "      <td>Michigan</td>\n",
       "      <td>Lake Michigan Shore</td>\n",
       "      <td>NaN</td>\n",
       "      <td>Alexander Peartree</td>\n",
       "      <td>NaN</td>\n",
       "      <td>St. Julian 2013 Reserve Late Harvest Riesling ...</td>\n",
       "      <td>Riesling</td>\n",
       "      <td>St. Julian</td>\n",
       "    </tr>\n",
       "    <tr>\n",
       "      <th>4</th>\n",
       "      <td>US</td>\n",
       "      <td>Much like the regular bottling from 2012, this...</td>\n",
       "      <td>Vintner's Reserve Wild Child Block</td>\n",
       "      <td>87</td>\n",
       "      <td>65.0</td>\n",
       "      <td>Oregon</td>\n",
       "      <td>Willamette Valley</td>\n",
       "      <td>Willamette Valley</td>\n",
       "      <td>Paul Gregutt</td>\n",
       "      <td>@paulgwine</td>\n",
       "      <td>Sweet Cheeks 2012 Vintner's Reserve Wild Child...</td>\n",
       "      <td>Pinot Noir</td>\n",
       "      <td>Sweet Cheeks</td>\n",
       "    </tr>\n",
       "  </tbody>\n",
       "</table>\n",
       "</div>"
      ],
      "text/plain": [
       "    country                                        description  \\\n",
       "0     Italy  Aromas include tropical fruit, broom, brimston...   \n",
       "1  Portugal  This is ripe and fruity, a wine that is smooth...   \n",
       "2        US  Tart and snappy, the flavors of lime flesh and...   \n",
       "3        US  Pineapple rind, lemon pith and orange blossom ...   \n",
       "4        US  Much like the regular bottling from 2012, this...   \n",
       "\n",
       "                          designation  points  price           province  \\\n",
       "0                        Vulkà Bianco      87    NaN  Sicily & Sardinia   \n",
       "1                            Avidagos      87   15.0              Douro   \n",
       "2                                 NaN      87   14.0             Oregon   \n",
       "3                Reserve Late Harvest      87   13.0           Michigan   \n",
       "4  Vintner's Reserve Wild Child Block      87   65.0             Oregon   \n",
       "\n",
       "              region_1           region_2         taster_name  \\\n",
       "0                 Etna                NaN       Kerin O’Keefe   \n",
       "1                  NaN                NaN          Roger Voss   \n",
       "2    Willamette Valley  Willamette Valley        Paul Gregutt   \n",
       "3  Lake Michigan Shore                NaN  Alexander Peartree   \n",
       "4    Willamette Valley  Willamette Valley        Paul Gregutt   \n",
       "\n",
       "  taster_twitter_handle                                              title  \\\n",
       "0          @kerinokeefe                  Nicosia 2013 Vulkà Bianco  (Etna)   \n",
       "1            @vossroger      Quinta dos Avidagos 2011 Avidagos Red (Douro)   \n",
       "2           @paulgwine       Rainstorm 2013 Pinot Gris (Willamette Valley)   \n",
       "3                   NaN  St. Julian 2013 Reserve Late Harvest Riesling ...   \n",
       "4           @paulgwine   Sweet Cheeks 2012 Vintner's Reserve Wild Child...   \n",
       "\n",
       "          variety               winery  \n",
       "0     White Blend              Nicosia  \n",
       "1  Portuguese Red  Quinta dos Avidagos  \n",
       "2      Pinot Gris            Rainstorm  \n",
       "3        Riesling           St. Julian  \n",
       "4      Pinot Noir         Sweet Cheeks  "
      ]
     },
     "execution_count": 2,
     "metadata": {},
     "output_type": "execute_result"
    }
   ],
   "source": [
    "reviews.head()"
   ]
  },
  {
   "cell_type": "markdown",
   "id": "44964afe",
   "metadata": {
    "papermill": {
     "duration": 0.005036,
     "end_time": "2023-08-22T18:45:34.399671",
     "exception": false,
     "start_time": "2023-08-22T18:45:34.394635",
     "status": "completed"
    },
    "tags": []
   },
   "source": [
    "## 1.\n",
    "`region_1` and `region_2` are pretty uninformative names for locale columns in the dataset. Create a copy of `reviews` with these columns renamed to `region` and `locale`, respectively."
   ]
  },
  {
   "cell_type": "code",
   "execution_count": 3,
   "id": "fc4d75f5",
   "metadata": {
    "execution": {
     "iopub.execute_input": "2023-08-22T18:45:34.412223Z",
     "iopub.status.busy": "2023-08-22T18:45:34.411262Z",
     "iopub.status.idle": "2023-08-22T18:45:34.432256Z",
     "shell.execute_reply": "2023-08-22T18:45:34.431144Z"
    },
    "papermill": {
     "duration": 0.029477,
     "end_time": "2023-08-22T18:45:34.434315",
     "exception": false,
     "start_time": "2023-08-22T18:45:34.404838",
     "status": "completed"
    },
    "tags": []
   },
   "outputs": [
    {
     "data": {
      "application/javascript": [
       "parent.postMessage({\"jupyterEvent\": \"custom.exercise_interaction\", \"data\": {\"outcomeType\": 1, \"valueTowardsCompletion\": 0.25, \"interactionType\": 1, \"questionType\": 1, \"questionId\": \"1_RenameCols\", \"learnToolsVersion\": \"0.3.4\", \"failureMessage\": \"\", \"exceptionClass\": \"\", \"trace\": \"\"}}, \"*\")"
      ],
      "text/plain": [
       "<IPython.core.display.Javascript object>"
      ]
     },
     "metadata": {},
     "output_type": "display_data"
    },
    {
     "data": {
      "text/markdown": [
       "<span style=\"color:#33cc33\">Correct</span>"
      ],
      "text/plain": [
       "Correct"
      ]
     },
     "metadata": {},
     "output_type": "display_data"
    }
   ],
   "source": [
    "# Your code here\n",
    "renamed = reviews.rename(columns={'region_1': 'region', \"region_2\": \"locale\"})\n",
    "\n",
    "# Check your answer\n",
    "q1.check()"
   ]
  },
  {
   "cell_type": "code",
   "execution_count": 4,
   "id": "7bf2d0a4",
   "metadata": {
    "execution": {
     "iopub.execute_input": "2023-08-22T18:45:34.447283Z",
     "iopub.status.busy": "2023-08-22T18:45:34.446616Z",
     "iopub.status.idle": "2023-08-22T18:45:34.450547Z",
     "shell.execute_reply": "2023-08-22T18:45:34.449817Z"
    },
    "papermill": {
     "duration": 0.012376,
     "end_time": "2023-08-22T18:45:34.452353",
     "exception": false,
     "start_time": "2023-08-22T18:45:34.439977",
     "status": "completed"
    },
    "tags": []
   },
   "outputs": [],
   "source": [
    "#q1.hint()\n",
    "#q1.solution()"
   ]
  },
  {
   "cell_type": "markdown",
   "id": "5a36c72c",
   "metadata": {
    "papermill": {
     "duration": 0.005158,
     "end_time": "2023-08-22T18:45:34.464336",
     "exception": false,
     "start_time": "2023-08-22T18:45:34.459178",
     "status": "completed"
    },
    "tags": []
   },
   "source": [
    "## 2.\n",
    "Set the index name in the dataset to `wines`."
   ]
  },
  {
   "cell_type": "code",
   "execution_count": 5,
   "id": "e95ed3b9",
   "metadata": {
    "execution": {
     "iopub.execute_input": "2023-08-22T18:45:34.477339Z",
     "iopub.status.busy": "2023-08-22T18:45:34.476345Z",
     "iopub.status.idle": "2023-08-22T18:45:34.495445Z",
     "shell.execute_reply": "2023-08-22T18:45:34.494299Z"
    },
    "papermill": {
     "duration": 0.02787,
     "end_time": "2023-08-22T18:45:34.497550",
     "exception": false,
     "start_time": "2023-08-22T18:45:34.469680",
     "status": "completed"
    },
    "tags": []
   },
   "outputs": [
    {
     "data": {
      "application/javascript": [
       "parent.postMessage({\"jupyterEvent\": \"custom.exercise_interaction\", \"data\": {\"outcomeType\": 1, \"valueTowardsCompletion\": 0.25, \"interactionType\": 1, \"questionType\": 1, \"questionId\": \"2_RenameIndex\", \"learnToolsVersion\": \"0.3.4\", \"failureMessage\": \"\", \"exceptionClass\": \"\", \"trace\": \"\"}}, \"*\")"
      ],
      "text/plain": [
       "<IPython.core.display.Javascript object>"
      ]
     },
     "metadata": {},
     "output_type": "display_data"
    },
    {
     "data": {
      "text/markdown": [
       "<span style=\"color:#33cc33\">Correct</span>"
      ],
      "text/plain": [
       "Correct"
      ]
     },
     "metadata": {},
     "output_type": "display_data"
    }
   ],
   "source": [
    "reindexed = reviews.rename_axis(\"wines\", axis='index')\n",
    "\n",
    "# Check your answer\n",
    "q2.check()"
   ]
  },
  {
   "cell_type": "code",
   "execution_count": 6,
   "id": "7147155f",
   "metadata": {
    "execution": {
     "iopub.execute_input": "2023-08-22T18:45:34.511197Z",
     "iopub.status.busy": "2023-08-22T18:45:34.510347Z",
     "iopub.status.idle": "2023-08-22T18:45:34.514033Z",
     "shell.execute_reply": "2023-08-22T18:45:34.513349Z"
    },
    "papermill": {
     "duration": 0.012448,
     "end_time": "2023-08-22T18:45:34.515832",
     "exception": false,
     "start_time": "2023-08-22T18:45:34.503384",
     "status": "completed"
    },
    "tags": []
   },
   "outputs": [],
   "source": [
    "#q2.hint()\n",
    "#q2.solution()"
   ]
  },
  {
   "cell_type": "markdown",
   "id": "46cac7d8",
   "metadata": {
    "papermill": {
     "duration": 0.005557,
     "end_time": "2023-08-22T18:45:34.527246",
     "exception": false,
     "start_time": "2023-08-22T18:45:34.521689",
     "status": "completed"
    },
    "tags": []
   },
   "source": [
    "## 3.\n",
    "The [Things on Reddit](https://www.kaggle.com/residentmario/things-on-reddit/data) dataset includes product links from a selection of top-ranked forums (\"subreddits\") on reddit.com. Run the cell below to load a dataframe of products mentioned on the */r/gaming* subreddit and another dataframe for products mentioned on the *r//movies* subreddit."
   ]
  },
  {
   "cell_type": "code",
   "execution_count": 7,
   "id": "a0aa01dc",
   "metadata": {
    "execution": {
     "iopub.execute_input": "2023-08-22T18:45:34.540473Z",
     "iopub.status.busy": "2023-08-22T18:45:34.539653Z",
     "iopub.status.idle": "2023-08-22T18:45:34.556408Z",
     "shell.execute_reply": "2023-08-22T18:45:34.555276Z"
    },
    "papermill": {
     "duration": 0.025918,
     "end_time": "2023-08-22T18:45:34.558893",
     "exception": false,
     "start_time": "2023-08-22T18:45:34.532975",
     "status": "completed"
    },
    "tags": []
   },
   "outputs": [],
   "source": [
    "gaming_products = pd.read_csv(\"../input/things-on-reddit/top-things/top-things/reddits/g/gaming.csv\")\n",
    "gaming_products['subreddit'] = \"r/gaming\"\n",
    "movie_products = pd.read_csv(\"../input/things-on-reddit/top-things/top-things/reddits/m/movies.csv\")\n",
    "movie_products['subreddit'] = \"r/movies\""
   ]
  },
  {
   "cell_type": "markdown",
   "id": "4f1a83ae",
   "metadata": {
    "papermill": {
     "duration": 0.005591,
     "end_time": "2023-08-22T18:45:34.570513",
     "exception": false,
     "start_time": "2023-08-22T18:45:34.564922",
     "status": "completed"
    },
    "tags": []
   },
   "source": [
    "Create a `DataFrame` of products mentioned on *either* subreddit."
   ]
  },
  {
   "cell_type": "code",
   "execution_count": 8,
   "id": "1898714a",
   "metadata": {
    "execution": {
     "iopub.execute_input": "2023-08-22T18:45:34.585262Z",
     "iopub.status.busy": "2023-08-22T18:45:34.584570Z",
     "iopub.status.idle": "2023-08-22T18:45:34.594925Z",
     "shell.execute_reply": "2023-08-22T18:45:34.593989Z"
    },
    "papermill": {
     "duration": 0.019509,
     "end_time": "2023-08-22T18:45:34.597014",
     "exception": false,
     "start_time": "2023-08-22T18:45:34.577505",
     "status": "completed"
    },
    "tags": []
   },
   "outputs": [
    {
     "data": {
      "application/javascript": [
       "parent.postMessage({\"jupyterEvent\": \"custom.exercise_interaction\", \"data\": {\"outcomeType\": 1, \"valueTowardsCompletion\": 0.25, \"interactionType\": 1, \"questionType\": 2, \"questionId\": \"3_ConcatReddit\", \"learnToolsVersion\": \"0.3.4\", \"failureMessage\": \"\", \"exceptionClass\": \"\", \"trace\": \"\"}}, \"*\")"
      ],
      "text/plain": [
       "<IPython.core.display.Javascript object>"
      ]
     },
     "metadata": {},
     "output_type": "display_data"
    },
    {
     "data": {
      "text/markdown": [
       "<span style=\"color:#33cc33\">Correct</span>"
      ],
      "text/plain": [
       "Correct"
      ]
     },
     "metadata": {},
     "output_type": "display_data"
    }
   ],
   "source": [
    "combined_products = pd.concat([gaming_products, movie_products])\n",
    "\n",
    "# Check your answer\n",
    "q3.check()"
   ]
  },
  {
   "cell_type": "code",
   "execution_count": 9,
   "id": "7725f4f4",
   "metadata": {
    "execution": {
     "iopub.execute_input": "2023-08-22T18:45:34.610278Z",
     "iopub.status.busy": "2023-08-22T18:45:34.609922Z",
     "iopub.status.idle": "2023-08-22T18:45:34.613597Z",
     "shell.execute_reply": "2023-08-22T18:45:34.612930Z"
    },
    "papermill": {
     "duration": 0.012389,
     "end_time": "2023-08-22T18:45:34.615403",
     "exception": false,
     "start_time": "2023-08-22T18:45:34.603014",
     "status": "completed"
    },
    "tags": []
   },
   "outputs": [],
   "source": [
    "#q3.hint()\n",
    "#q3.solution()"
   ]
  },
  {
   "cell_type": "markdown",
   "id": "48d214dd",
   "metadata": {
    "papermill": {
     "duration": 0.005611,
     "end_time": "2023-08-22T18:45:34.627064",
     "exception": false,
     "start_time": "2023-08-22T18:45:34.621453",
     "status": "completed"
    },
    "tags": []
   },
   "source": [
    "## 4.\n",
    "The [Powerlifting Database](https://www.kaggle.com/open-powerlifting/powerlifting-database) dataset on Kaggle includes one CSV table for powerlifting meets and a separate one for powerlifting competitors. Run the cell below to load these datasets into dataframes:"
   ]
  },
  {
   "cell_type": "code",
   "execution_count": 10,
   "id": "355ff081",
   "metadata": {
    "execution": {
     "iopub.execute_input": "2023-08-22T18:45:34.640405Z",
     "iopub.status.busy": "2023-08-22T18:45:34.639802Z",
     "iopub.status.idle": "2023-08-22T18:45:35.417869Z",
     "shell.execute_reply": "2023-08-22T18:45:35.416992Z"
    },
    "papermill": {
     "duration": 0.787625,
     "end_time": "2023-08-22T18:45:35.420472",
     "exception": false,
     "start_time": "2023-08-22T18:45:34.632847",
     "status": "completed"
    },
    "tags": []
   },
   "outputs": [],
   "source": [
    "powerlifting_meets = pd.read_csv(\"../input/powerlifting-database/meets.csv\")\n",
    "powerlifting_competitors = pd.read_csv(\"../input/powerlifting-database/openpowerlifting.csv\")"
   ]
  },
  {
   "cell_type": "markdown",
   "id": "00e6a244",
   "metadata": {
    "papermill": {
     "duration": 0.005976,
     "end_time": "2023-08-22T18:45:35.433161",
     "exception": false,
     "start_time": "2023-08-22T18:45:35.427185",
     "status": "completed"
    },
    "tags": []
   },
   "source": [
    "Both tables include references to a `MeetID`, a unique key for each meet (competition) included in the database. Using this, generate a dataset combining the two tables into one."
   ]
  },
  {
   "cell_type": "code",
   "execution_count": 11,
   "id": "c93db099",
   "metadata": {
    "execution": {
     "iopub.execute_input": "2023-08-22T18:45:35.447143Z",
     "iopub.status.busy": "2023-08-22T18:45:35.446209Z",
     "iopub.status.idle": "2023-08-22T18:45:36.522248Z",
     "shell.execute_reply": "2023-08-22T18:45:36.521218Z"
    },
    "papermill": {
     "duration": 1.085121,
     "end_time": "2023-08-22T18:45:36.524317",
     "exception": false,
     "start_time": "2023-08-22T18:45:35.439196",
     "status": "completed"
    },
    "tags": []
   },
   "outputs": [
    {
     "data": {
      "application/javascript": [
       "parent.postMessage({\"jupyterEvent\": \"custom.exercise_interaction\", \"data\": {\"outcomeType\": 1, \"valueTowardsCompletion\": 0.25, \"interactionType\": 1, \"questionType\": 2, \"questionId\": \"4_JoinLifting\", \"learnToolsVersion\": \"0.3.4\", \"failureMessage\": \"\", \"exceptionClass\": \"\", \"trace\": \"\"}}, \"*\")"
      ],
      "text/plain": [
       "<IPython.core.display.Javascript object>"
      ]
     },
     "metadata": {},
     "output_type": "display_data"
    },
    {
     "data": {
      "text/markdown": [
       "<span style=\"color:#33cc33\">Correct</span>"
      ],
      "text/plain": [
       "Correct"
      ]
     },
     "metadata": {},
     "output_type": "display_data"
    }
   ],
   "source": [
    "powerlifting_combined = powerlifting_combined = powerlifting_meets.set_index(\"MeetID\").join(powerlifting_competitors.set_index(\"MeetID\"))\n",
    "\n",
    "# Check your answer\n",
    "q4.check()"
   ]
  },
  {
   "cell_type": "code",
   "execution_count": 12,
   "id": "6eeb8e67",
   "metadata": {
    "execution": {
     "iopub.execute_input": "2023-08-22T18:45:36.539014Z",
     "iopub.status.busy": "2023-08-22T18:45:36.538104Z",
     "iopub.status.idle": "2023-08-22T18:45:36.542465Z",
     "shell.execute_reply": "2023-08-22T18:45:36.541434Z"
    },
    "papermill": {
     "duration": 0.013904,
     "end_time": "2023-08-22T18:45:36.544416",
     "exception": false,
     "start_time": "2023-08-22T18:45:36.530512",
     "status": "completed"
    },
    "tags": []
   },
   "outputs": [],
   "source": [
    "#q4.hint()\n",
    "#q4.solution()"
   ]
  },
  {
   "cell_type": "markdown",
   "id": "36851d39",
   "metadata": {
    "papermill": {
     "duration": 0.00591,
     "end_time": "2023-08-22T18:45:36.556733",
     "exception": false,
     "start_time": "2023-08-22T18:45:36.550823",
     "status": "completed"
    },
    "tags": []
   },
   "source": [
    "# Congratulations!\n",
    "\n",
    "You've finished the Pandas micro-course.  Many data scientists feel efficiency with Pandas is the most useful and practical skill they have, because it allows you to progress quickly in any project you have.\n",
    "\n",
    "If you'd like to apply your new skills to examining geospatial data, you're encouraged to check out our **[Geospatial Analysis](https://www.kaggle.com/learn/geospatial-analysis)** micro-course.\n",
    "\n",
    "You can also take advantage of your Pandas skills by entering a **[Kaggle Competition](https://www.kaggle.com/competitions)** or by answering a question you find interesting using **[Kaggle Datasets](https://www.kaggle.com/datasets)**."
   ]
  },
  {
   "cell_type": "markdown",
   "id": "1546f02f",
   "metadata": {
    "papermill": {
     "duration": 0.005793,
     "end_time": "2023-08-22T18:45:36.568615",
     "exception": false,
     "start_time": "2023-08-22T18:45:36.562822",
     "status": "completed"
    },
    "tags": []
   },
   "source": [
    "---\n",
    "\n",
    "\n",
    "\n",
    "\n",
    "*Have questions or comments? Visit the [course discussion forum](https://www.kaggle.com/learn/pandas/discussion) to chat with other learners.*"
   ]
  }
 ],
 "metadata": {
  "kernelspec": {
   "display_name": "Python 3",
   "language": "python",
   "name": "python3"
  },
  "language_info": {
   "codemirror_mode": {
    "name": "ipython",
    "version": 3
   },
   "file_extension": ".py",
   "mimetype": "text/x-python",
   "name": "python",
   "nbconvert_exporter": "python",
   "pygments_lexer": "ipython3",
   "version": "3.10.12"
  },
  "papermill": {
   "default_parameters": {},
   "duration": 15.871654,
   "end_time": "2023-08-22T18:45:37.396387",
   "environment_variables": {},
   "exception": null,
   "input_path": "__notebook__.ipynb",
   "output_path": "__notebook__.ipynb",
   "parameters": {},
   "start_time": "2023-08-22T18:45:21.524733",
   "version": "2.4.0"
  }
 },
 "nbformat": 4,
 "nbformat_minor": 5
}
