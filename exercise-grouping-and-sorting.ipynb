{
 "cells": [
  {
   "cell_type": "markdown",
   "id": "a2a8d724",
   "metadata": {
    "papermill": {
     "duration": 0.008286,
     "end_time": "2023-08-22T18:22:17.217770",
     "exception": false,
     "start_time": "2023-08-22T18:22:17.209484",
     "status": "completed"
    },
    "tags": []
   },
   "source": [
    "**This notebook is an exercise in the [Pandas](https://www.kaggle.com/learn/pandas) course.  You can reference the tutorial at [this link](https://www.kaggle.com/residentmario/grouping-and-sorting).**\n",
    "\n",
    "---\n"
   ]
  },
  {
   "cell_type": "markdown",
   "id": "e2018122",
   "metadata": {
    "papermill": {
     "duration": 0.007495,
     "end_time": "2023-08-22T18:22:17.233573",
     "exception": false,
     "start_time": "2023-08-22T18:22:17.226078",
     "status": "completed"
    },
    "tags": []
   },
   "source": [
    "# Introduction\n",
    "\n",
    "In these exercises we'll apply groupwise analysis to our dataset.\n",
    "\n",
    "Run the code cell below to load the data before running the exercises."
   ]
  },
  {
   "cell_type": "code",
   "execution_count": 1,
   "id": "9db073d8",
   "metadata": {
    "execution": {
     "iopub.execute_input": "2023-08-22T18:22:17.250636Z",
     "iopub.status.busy": "2023-08-22T18:22:17.250204Z",
     "iopub.status.idle": "2023-08-22T18:22:20.921312Z",
     "shell.execute_reply": "2023-08-22T18:22:20.920045Z"
    },
    "papermill": {
     "duration": 3.682992,
     "end_time": "2023-08-22T18:22:20.924281",
     "exception": false,
     "start_time": "2023-08-22T18:22:17.241289",
     "status": "completed"
    },
    "tags": []
   },
   "outputs": [
    {
     "name": "stdout",
     "output_type": "stream",
     "text": [
      "Setup complete.\n"
     ]
    }
   ],
   "source": [
    "import pandas as pd\n",
    "\n",
    "reviews = pd.read_csv(\"../input/wine-reviews/winemag-data-130k-v2.csv\", index_col=0)\n",
    "#pd.set_option(\"display.max_rows\", 5)\n",
    "\n",
    "from learntools.core import binder; binder.bind(globals())\n",
    "from learntools.pandas.grouping_and_sorting import *\n",
    "print(\"Setup complete.\")"
   ]
  },
  {
   "cell_type": "markdown",
   "id": "7a026c03",
   "metadata": {
    "papermill": {
     "duration": 0.007436,
     "end_time": "2023-08-22T18:22:20.939637",
     "exception": false,
     "start_time": "2023-08-22T18:22:20.932201",
     "status": "completed"
    },
    "tags": []
   },
   "source": [
    "# Exercises"
   ]
  },
  {
   "cell_type": "markdown",
   "id": "bdee660d",
   "metadata": {
    "papermill": {
     "duration": 0.007461,
     "end_time": "2023-08-22T18:22:20.954778",
     "exception": false,
     "start_time": "2023-08-22T18:22:20.947317",
     "status": "completed"
    },
    "tags": []
   },
   "source": [
    "## 1.\n",
    "Who are the most common wine reviewers in the dataset? Create a `Series` whose index is the `taster_twitter_handle` category from the dataset, and whose values count how many reviews each person wrote."
   ]
  },
  {
   "cell_type": "code",
   "execution_count": 2,
   "id": "737b4712",
   "metadata": {
    "execution": {
     "iopub.execute_input": "2023-08-22T18:22:20.972013Z",
     "iopub.status.busy": "2023-08-22T18:22:20.971627Z",
     "iopub.status.idle": "2023-08-22T18:22:21.008131Z",
     "shell.execute_reply": "2023-08-22T18:22:21.007306Z"
    },
    "papermill": {
     "duration": 0.047975,
     "end_time": "2023-08-22T18:22:21.010392",
     "exception": false,
     "start_time": "2023-08-22T18:22:20.962417",
     "status": "completed"
    },
    "tags": []
   },
   "outputs": [
    {
     "data": {
      "application/javascript": [
       "parent.postMessage({\"jupyterEvent\": \"custom.exercise_interaction\", \"data\": {\"outcomeType\": 1, \"valueTowardsCompletion\": 0.16666666666666666, \"interactionType\": 1, \"questionType\": 1, \"questionId\": \"1_ReviewsWritten\", \"learnToolsVersion\": \"0.3.4\", \"failureMessage\": \"\", \"exceptionClass\": \"\", \"trace\": \"\"}}, \"*\")"
      ],
      "text/plain": [
       "<IPython.core.display.Javascript object>"
      ]
     },
     "metadata": {},
     "output_type": "display_data"
    },
    {
     "data": {
      "text/markdown": [
       "<span style=\"color:#33cc33\">Correct:</span> \n",
       "\n",
       "\n",
       "```python\n",
       "reviews_written = reviews.groupby('taster_twitter_handle').size()\n",
       "```\n",
       "or\n",
       "```python\n",
       "reviews_written = reviews.groupby('taster_twitter_handle').taster_twitter_handle.count()\n",
       "```\n"
      ],
      "text/plain": [
       "Correct: \n",
       "\n",
       "\n",
       "```python\n",
       "reviews_written = reviews.groupby('taster_twitter_handle').size()\n",
       "```\n",
       "or\n",
       "```python\n",
       "reviews_written = reviews.groupby('taster_twitter_handle').taster_twitter_handle.count()\n",
       "```"
      ]
     },
     "metadata": {},
     "output_type": "display_data"
    }
   ],
   "source": [
    "# Your code here\n",
    "reviews_written = reviews.groupby('taster_twitter_handle').size()\n",
    "# Check your answer\n",
    "q1.check()"
   ]
  },
  {
   "cell_type": "code",
   "execution_count": 3,
   "id": "088d4cc5",
   "metadata": {
    "execution": {
     "iopub.execute_input": "2023-08-22T18:22:21.028990Z",
     "iopub.status.busy": "2023-08-22T18:22:21.028099Z",
     "iopub.status.idle": "2023-08-22T18:22:21.032935Z",
     "shell.execute_reply": "2023-08-22T18:22:21.032040Z"
    },
    "papermill": {
     "duration": 0.016437,
     "end_time": "2023-08-22T18:22:21.035086",
     "exception": false,
     "start_time": "2023-08-22T18:22:21.018649",
     "status": "completed"
    },
    "tags": []
   },
   "outputs": [],
   "source": [
    "#q1.hint()\n",
    "#q1.solution()"
   ]
  },
  {
   "cell_type": "markdown",
   "id": "e489ea42",
   "metadata": {
    "papermill": {
     "duration": 0.009082,
     "end_time": "2023-08-22T18:22:21.052411",
     "exception": false,
     "start_time": "2023-08-22T18:22:21.043329",
     "status": "completed"
    },
    "tags": []
   },
   "source": [
    "## 2.\n",
    "What is the best wine I can buy for a given amount of money? Create a `Series` whose index is wine prices and whose values is the maximum number of points a wine costing that much was given in a review. Sort the values by price, ascending (so that `4.0` dollars is at the top and `3300.0` dollars is at the bottom)."
   ]
  },
  {
   "cell_type": "code",
   "execution_count": 4,
   "id": "cf95a422",
   "metadata": {
    "execution": {
     "iopub.execute_input": "2023-08-22T18:22:21.071385Z",
     "iopub.status.busy": "2023-08-22T18:22:21.070640Z",
     "iopub.status.idle": "2023-08-22T18:22:21.084407Z",
     "shell.execute_reply": "2023-08-22T18:22:21.083395Z"
    },
    "papermill": {
     "duration": 0.026223,
     "end_time": "2023-08-22T18:22:21.086701",
     "exception": false,
     "start_time": "2023-08-22T18:22:21.060478",
     "status": "completed"
    },
    "tags": []
   },
   "outputs": [
    {
     "data": {
      "application/javascript": [
       "parent.postMessage({\"jupyterEvent\": \"custom.exercise_interaction\", \"data\": {\"outcomeType\": 1, \"valueTowardsCompletion\": 0.16666666666666666, \"interactionType\": 1, \"questionType\": 1, \"questionId\": \"2_BestRatingPerPrice\", \"learnToolsVersion\": \"0.3.4\", \"failureMessage\": \"\", \"exceptionClass\": \"\", \"trace\": \"\"}}, \"*\")"
      ],
      "text/plain": [
       "<IPython.core.display.Javascript object>"
      ]
     },
     "metadata": {},
     "output_type": "display_data"
    },
    {
     "data": {
      "text/markdown": [
       "<span style=\"color:#33cc33\">Correct</span>"
      ],
      "text/plain": [
       "Correct"
      ]
     },
     "metadata": {},
     "output_type": "display_data"
    }
   ],
   "source": [
    "best_rating_per_price = reviews.groupby('price')['points'].max().sort_index()\n",
    "\n",
    "# Check your answer\n",
    "q2.check()"
   ]
  },
  {
   "cell_type": "code",
   "execution_count": 5,
   "id": "ecfa327d",
   "metadata": {
    "execution": {
     "iopub.execute_input": "2023-08-22T18:22:21.106357Z",
     "iopub.status.busy": "2023-08-22T18:22:21.105257Z",
     "iopub.status.idle": "2023-08-22T18:22:21.109610Z",
     "shell.execute_reply": "2023-08-22T18:22:21.108709Z"
    },
    "papermill": {
     "duration": 0.016589,
     "end_time": "2023-08-22T18:22:21.111876",
     "exception": false,
     "start_time": "2023-08-22T18:22:21.095287",
     "status": "completed"
    },
    "tags": []
   },
   "outputs": [],
   "source": [
    "#q2.hint()\n",
    "#q2.solution()"
   ]
  },
  {
   "cell_type": "markdown",
   "id": "70689fb4",
   "metadata": {
    "papermill": {
     "duration": 0.008122,
     "end_time": "2023-08-22T18:22:21.128543",
     "exception": false,
     "start_time": "2023-08-22T18:22:21.120421",
     "status": "completed"
    },
    "tags": []
   },
   "source": [
    "## 3.\n",
    "What are the minimum and maximum prices for each `variety` of wine? Create a `DataFrame` whose index is the `variety` category from the dataset and whose values are the `min` and `max` values thereof."
   ]
  },
  {
   "cell_type": "code",
   "execution_count": 6,
   "id": "4c3025e4",
   "metadata": {
    "execution": {
     "iopub.execute_input": "2023-08-22T18:22:21.147483Z",
     "iopub.status.busy": "2023-08-22T18:22:21.146985Z",
     "iopub.status.idle": "2023-08-22T18:22:21.189787Z",
     "shell.execute_reply": "2023-08-22T18:22:21.188358Z"
    },
    "papermill": {
     "duration": 0.05511,
     "end_time": "2023-08-22T18:22:21.192191",
     "exception": false,
     "start_time": "2023-08-22T18:22:21.137081",
     "status": "completed"
    },
    "tags": []
   },
   "outputs": [
    {
     "data": {
      "application/javascript": [
       "parent.postMessage({\"jupyterEvent\": \"custom.exercise_interaction\", \"data\": {\"outcomeType\": 1, \"valueTowardsCompletion\": 0.16666666666666666, \"interactionType\": 1, \"questionType\": 1, \"questionId\": \"3_PriceExtremes\", \"learnToolsVersion\": \"0.3.4\", \"failureMessage\": \"\", \"exceptionClass\": \"\", \"trace\": \"\"}}, \"*\")"
      ],
      "text/plain": [
       "<IPython.core.display.Javascript object>"
      ]
     },
     "metadata": {},
     "output_type": "display_data"
    },
    {
     "data": {
      "text/markdown": [
       "<span style=\"color:#33cc33\">Correct</span>"
      ],
      "text/plain": [
       "Correct"
      ]
     },
     "metadata": {},
     "output_type": "display_data"
    }
   ],
   "source": [
    "price_extremes = reviews.groupby(\"variety\").price.agg([min, max])\n",
    "\n",
    "# Check your answer\n",
    "q3.check()"
   ]
  },
  {
   "cell_type": "code",
   "execution_count": 7,
   "id": "9a6103aa",
   "metadata": {
    "execution": {
     "iopub.execute_input": "2023-08-22T18:22:21.212643Z",
     "iopub.status.busy": "2023-08-22T18:22:21.211540Z",
     "iopub.status.idle": "2023-08-22T18:22:21.216678Z",
     "shell.execute_reply": "2023-08-22T18:22:21.215584Z"
    },
    "papermill": {
     "duration": 0.018079,
     "end_time": "2023-08-22T18:22:21.219050",
     "exception": false,
     "start_time": "2023-08-22T18:22:21.200971",
     "status": "completed"
    },
    "tags": []
   },
   "outputs": [],
   "source": [
    "#q3.hint()\n",
    "#q3.solution()"
   ]
  },
  {
   "cell_type": "markdown",
   "id": "1d694616",
   "metadata": {
    "papermill": {
     "duration": 0.008462,
     "end_time": "2023-08-22T18:22:21.236781",
     "exception": false,
     "start_time": "2023-08-22T18:22:21.228319",
     "status": "completed"
    },
    "tags": []
   },
   "source": [
    "## 4.\n",
    "What are the most expensive wine varieties? Create a variable `sorted_varieties` containing a copy of the dataframe from the previous question where varieties are sorted in descending order based on minimum price, then on maximum price (to break ties)."
   ]
  },
  {
   "cell_type": "code",
   "execution_count": 8,
   "id": "faa4e8c0",
   "metadata": {
    "execution": {
     "iopub.execute_input": "2023-08-22T18:22:21.256030Z",
     "iopub.status.busy": "2023-08-22T18:22:21.255593Z",
     "iopub.status.idle": "2023-08-22T18:22:21.268001Z",
     "shell.execute_reply": "2023-08-22T18:22:21.266830Z"
    },
    "papermill": {
     "duration": 0.024889,
     "end_time": "2023-08-22T18:22:21.270309",
     "exception": false,
     "start_time": "2023-08-22T18:22:21.245420",
     "status": "completed"
    },
    "tags": []
   },
   "outputs": [
    {
     "data": {
      "application/javascript": [
       "parent.postMessage({\"jupyterEvent\": \"custom.exercise_interaction\", \"data\": {\"outcomeType\": 1, \"valueTowardsCompletion\": 0.16666666666666666, \"interactionType\": 1, \"questionType\": 1, \"questionId\": \"4_SortedVarieties\", \"learnToolsVersion\": \"0.3.4\", \"failureMessage\": \"\", \"exceptionClass\": \"\", \"trace\": \"\"}}, \"*\")"
      ],
      "text/plain": [
       "<IPython.core.display.Javascript object>"
      ]
     },
     "metadata": {},
     "output_type": "display_data"
    },
    {
     "data": {
      "text/markdown": [
       "<span style=\"color:#33cc33\">Correct</span>"
      ],
      "text/plain": [
       "Correct"
      ]
     },
     "metadata": {},
     "output_type": "display_data"
    }
   ],
   "source": [
    "sorted_varieties = price_extremes.sort_values(by=['min', 'max'], ascending=False)\n",
    "# Check your answer\n",
    "q4.check()"
   ]
  },
  {
   "cell_type": "code",
   "execution_count": 9,
   "id": "0db3122d",
   "metadata": {
    "execution": {
     "iopub.execute_input": "2023-08-22T18:22:21.290979Z",
     "iopub.status.busy": "2023-08-22T18:22:21.290339Z",
     "iopub.status.idle": "2023-08-22T18:22:21.294073Z",
     "shell.execute_reply": "2023-08-22T18:22:21.293251Z"
    },
    "papermill": {
     "duration": 0.01692,
     "end_time": "2023-08-22T18:22:21.296410",
     "exception": false,
     "start_time": "2023-08-22T18:22:21.279490",
     "status": "completed"
    },
    "tags": []
   },
   "outputs": [],
   "source": [
    "#q4.hint()\n",
    "#q4.solution()"
   ]
  },
  {
   "cell_type": "markdown",
   "id": "0a8f4061",
   "metadata": {
    "papermill": {
     "duration": 0.008825,
     "end_time": "2023-08-22T18:22:21.314369",
     "exception": false,
     "start_time": "2023-08-22T18:22:21.305544",
     "status": "completed"
    },
    "tags": []
   },
   "source": [
    "## 5.\n",
    "Create a `Series` whose index is reviewers and whose values is the average review score given out by that reviewer. Hint: you will need the `taster_name` and `points` columns."
   ]
  },
  {
   "cell_type": "code",
   "execution_count": 10,
   "id": "cc992b43",
   "metadata": {
    "execution": {
     "iopub.execute_input": "2023-08-22T18:22:21.335042Z",
     "iopub.status.busy": "2023-08-22T18:22:21.333906Z",
     "iopub.status.idle": "2023-08-22T18:22:21.368957Z",
     "shell.execute_reply": "2023-08-22T18:22:21.367761Z"
    },
    "papermill": {
     "duration": 0.04832,
     "end_time": "2023-08-22T18:22:21.371875",
     "exception": false,
     "start_time": "2023-08-22T18:22:21.323555",
     "status": "completed"
    },
    "tags": []
   },
   "outputs": [
    {
     "data": {
      "application/javascript": [
       "parent.postMessage({\"jupyterEvent\": \"custom.exercise_interaction\", \"data\": {\"outcomeType\": 1, \"valueTowardsCompletion\": 0.16666666666666666, \"interactionType\": 1, \"questionType\": 1, \"questionId\": \"5_ReviewerMeanRatings\", \"learnToolsVersion\": \"0.3.4\", \"failureMessage\": \"\", \"exceptionClass\": \"\", \"trace\": \"\"}}, \"*\")"
      ],
      "text/plain": [
       "<IPython.core.display.Javascript object>"
      ]
     },
     "metadata": {},
     "output_type": "display_data"
    },
    {
     "data": {
      "text/markdown": [
       "<span style=\"color:#33cc33\">Correct</span>"
      ],
      "text/plain": [
       "Correct"
      ]
     },
     "metadata": {},
     "output_type": "display_data"
    }
   ],
   "source": [
    "reviewer_mean_ratings = reviews.groupby(\"taster_name\").points.mean()\n",
    "\n",
    "# Check your answer\n",
    "q5.check()"
   ]
  },
  {
   "cell_type": "code",
   "execution_count": 11,
   "id": "b9a587ca",
   "metadata": {
    "execution": {
     "iopub.execute_input": "2023-08-22T18:22:21.393392Z",
     "iopub.status.busy": "2023-08-22T18:22:21.392980Z",
     "iopub.status.idle": "2023-08-22T18:22:21.397198Z",
     "shell.execute_reply": "2023-08-22T18:22:21.396354Z"
    },
    "papermill": {
     "duration": 0.017956,
     "end_time": "2023-08-22T18:22:21.399439",
     "exception": false,
     "start_time": "2023-08-22T18:22:21.381483",
     "status": "completed"
    },
    "tags": []
   },
   "outputs": [],
   "source": [
    "#q5.hint()\n",
    "#q5.solution()"
   ]
  },
  {
   "cell_type": "markdown",
   "id": "998cd2c4",
   "metadata": {
    "papermill": {
     "duration": 0.009285,
     "end_time": "2023-08-22T18:22:21.418426",
     "exception": false,
     "start_time": "2023-08-22T18:22:21.409141",
     "status": "completed"
    },
    "tags": []
   },
   "source": [
    "Are there significant differences in the average scores assigned by the various reviewers? Run the cell below to use the `describe()` method to see a summary of the range of values."
   ]
  },
  {
   "cell_type": "code",
   "execution_count": 12,
   "id": "6ce1c291",
   "metadata": {
    "execution": {
     "iopub.execute_input": "2023-08-22T18:22:21.439436Z",
     "iopub.status.busy": "2023-08-22T18:22:21.438787Z",
     "iopub.status.idle": "2023-08-22T18:22:21.453921Z",
     "shell.execute_reply": "2023-08-22T18:22:21.452651Z"
    },
    "papermill": {
     "duration": 0.029098,
     "end_time": "2023-08-22T18:22:21.456905",
     "exception": false,
     "start_time": "2023-08-22T18:22:21.427807",
     "status": "completed"
    },
    "tags": []
   },
   "outputs": [
    {
     "data": {
      "text/plain": [
       "count    19.000000\n",
       "mean     88.233026\n",
       "std       1.243610\n",
       "min      85.855422\n",
       "25%      87.323501\n",
       "50%      88.536235\n",
       "75%      88.975256\n",
       "max      90.562551\n",
       "Name: points, dtype: float64"
      ]
     },
     "execution_count": 12,
     "metadata": {},
     "output_type": "execute_result"
    }
   ],
   "source": [
    "reviewer_mean_ratings.describe()"
   ]
  },
  {
   "cell_type": "markdown",
   "id": "302b6a12",
   "metadata": {
    "papermill": {
     "duration": 0.009651,
     "end_time": "2023-08-22T18:22:21.476464",
     "exception": false,
     "start_time": "2023-08-22T18:22:21.466813",
     "status": "completed"
    },
    "tags": []
   },
   "source": [
    "## 6.\n",
    "What combination of countries and varieties are most common? Create a `Series` whose index is a `MultiIndex`of `{country, variety}` pairs. For example, a pinot noir produced in the US should map to `{\"US\", \"Pinot Noir\"}`. Sort the values in the `Series` in descending order based on wine count."
   ]
  },
  {
   "cell_type": "code",
   "execution_count": 13,
   "id": "46e51988",
   "metadata": {
    "execution": {
     "iopub.execute_input": "2023-08-22T18:22:21.498059Z",
     "iopub.status.busy": "2023-08-22T18:22:21.497406Z",
     "iopub.status.idle": "2023-08-22T18:22:21.567451Z",
     "shell.execute_reply": "2023-08-22T18:22:21.566550Z"
    },
    "papermill": {
     "duration": 0.083551,
     "end_time": "2023-08-22T18:22:21.569825",
     "exception": false,
     "start_time": "2023-08-22T18:22:21.486274",
     "status": "completed"
    },
    "tags": []
   },
   "outputs": [
    {
     "data": {
      "application/javascript": [
       "parent.postMessage({\"jupyterEvent\": \"custom.exercise_interaction\", \"data\": {\"outcomeType\": 1, \"valueTowardsCompletion\": 0.16666666666666666, \"interactionType\": 1, \"questionType\": 1, \"questionId\": \"6_GroupbyCountryVariety\", \"learnToolsVersion\": \"0.3.4\", \"failureMessage\": \"\", \"exceptionClass\": \"\", \"trace\": \"\"}}, \"*\")"
      ],
      "text/plain": [
       "<IPython.core.display.Javascript object>"
      ]
     },
     "metadata": {},
     "output_type": "display_data"
    },
    {
     "data": {
      "text/markdown": [
       "<span style=\"color:#33cc33\">Correct</span>"
      ],
      "text/plain": [
       "Correct"
      ]
     },
     "metadata": {},
     "output_type": "display_data"
    }
   ],
   "source": [
    "country_variety_counts = reviews.groupby(['country', 'variety']).size().sort_values(ascending=False)\n",
    "\n",
    "# Check your answer\n",
    "q6.check()"
   ]
  },
  {
   "cell_type": "code",
   "execution_count": 14,
   "id": "fdffbb12",
   "metadata": {
    "execution": {
     "iopub.execute_input": "2023-08-22T18:22:21.592640Z",
     "iopub.status.busy": "2023-08-22T18:22:21.591615Z",
     "iopub.status.idle": "2023-08-22T18:22:21.596217Z",
     "shell.execute_reply": "2023-08-22T18:22:21.595309Z"
    },
    "papermill": {
     "duration": 0.018592,
     "end_time": "2023-08-22T18:22:21.598700",
     "exception": false,
     "start_time": "2023-08-22T18:22:21.580108",
     "status": "completed"
    },
    "tags": []
   },
   "outputs": [],
   "source": [
    "#q6.hint()\n",
    "#q6.solution()"
   ]
  },
  {
   "cell_type": "markdown",
   "id": "d6f47b40",
   "metadata": {
    "papermill": {
     "duration": 0.0096,
     "end_time": "2023-08-22T18:22:21.618158",
     "exception": false,
     "start_time": "2023-08-22T18:22:21.608558",
     "status": "completed"
    },
    "tags": []
   },
   "source": [
    "# Keep going\n",
    "\n",
    "Move on to the [**data types and missing data**](https://www.kaggle.com/residentmario/data-types-and-missing-values)."
   ]
  },
  {
   "cell_type": "markdown",
   "id": "9bf27ae4",
   "metadata": {
    "papermill": {
     "duration": 0.00952,
     "end_time": "2023-08-22T18:22:21.637668",
     "exception": false,
     "start_time": "2023-08-22T18:22:21.628148",
     "status": "completed"
    },
    "tags": []
   },
   "source": [
    "---\n",
    "\n",
    "\n",
    "\n",
    "\n",
    "*Have questions or comments? Visit the [course discussion forum](https://www.kaggle.com/learn/pandas/discussion) to chat with other learners.*"
   ]
  }
 ],
 "metadata": {
  "kernelspec": {
   "display_name": "Python 3",
   "language": "python",
   "name": "python3"
  },
  "language_info": {
   "codemirror_mode": {
    "name": "ipython",
    "version": 3
   },
   "file_extension": ".py",
   "mimetype": "text/x-python",
   "name": "python",
   "nbconvert_exporter": "python",
   "pygments_lexer": "ipython3",
   "version": "3.10.12"
  },
  "papermill": {
   "default_parameters": {},
   "duration": 17.567172,
   "end_time": "2023-08-22T18:22:22.572872",
   "environment_variables": {},
   "exception": null,
   "input_path": "__notebook__.ipynb",
   "output_path": "__notebook__.ipynb",
   "parameters": {},
   "start_time": "2023-08-22T18:22:05.005700",
   "version": "2.4.0"
  }
 },
 "nbformat": 4,
 "nbformat_minor": 5
}
