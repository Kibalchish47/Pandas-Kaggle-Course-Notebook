{
 "cells": [
  {
   "cell_type": "markdown",
   "id": "e49e04d7",
   "metadata": {
    "papermill": {
     "duration": 0.009228,
     "end_time": "2023-09-02T18:58:42.551554",
     "exception": false,
     "start_time": "2023-09-02T18:58:42.542326",
     "status": "completed"
    },
    "tags": []
   },
   "source": [
    "**This notebook is an exercise in the [Geospatial Analysis](https://www.kaggle.com/learn/geospatial-analysis) course.  You can reference the tutorial at [this link](https://www.kaggle.com/alexisbcook/proximity-analysis).**\n",
    "\n",
    "---\n"
   ]
  },
  {
   "cell_type": "markdown",
   "id": "828f65cf",
   "metadata": {
    "papermill": {
     "duration": 0.009635,
     "end_time": "2023-09-02T18:58:42.570471",
     "exception": false,
     "start_time": "2023-09-02T18:58:42.560836",
     "status": "completed"
    },
    "tags": []
   },
   "source": [
    "# Introduction \n",
    "\n",
    "You are part of a crisis response team, and you want to identify how hospitals have been responding to crash collisions in New York City.\n",
    "\n",
    "<center>\n",
    "<img src=\"https://storage.googleapis.com/kaggle-media/learn/images/wamd0n7.png\" width=\"450\"><br/>\n",
    "</center>\n",
    "\n",
    "Before you get started, run the code cell below to set everything up."
   ]
  },
  {
   "cell_type": "code",
   "execution_count": 1,
   "id": "b05014a9",
   "metadata": {
    "execution": {
     "iopub.execute_input": "2023-09-02T18:58:42.590103Z",
     "iopub.status.busy": "2023-09-02T18:58:42.589710Z",
     "iopub.status.idle": "2023-09-02T19:01:30.380681Z",
     "shell.execute_reply": "2023-09-02T19:01:30.379193Z"
    },
    "papermill": {
     "duration": 167.804782,
     "end_time": "2023-09-02T19:01:30.384121",
     "exception": false,
     "start_time": "2023-09-02T18:58:42.579339",
     "status": "completed"
    },
    "tags": []
   },
   "outputs": [],
   "source": [
    "import math\n",
    "import geopandas as gpd\n",
    "import pandas as pd\n",
    "from shapely.geometry import MultiPolygon\n",
    "\n",
    "import folium\n",
    "from folium import Choropleth, Marker\n",
    "from folium.plugins import HeatMap, MarkerCluster\n",
    "\n",
    "from learntools.core import binder\n",
    "binder.bind(globals())\n",
    "from learntools.geospatial.ex5 import *"
   ]
  },
  {
   "cell_type": "markdown",
   "id": "5c310b3a",
   "metadata": {
    "papermill": {
     "duration": 0.008732,
     "end_time": "2023-09-02T19:01:30.403065",
     "exception": false,
     "start_time": "2023-09-02T19:01:30.394333",
     "status": "completed"
    },
    "tags": []
   },
   "source": [
    "You'll use the `embed_map()` function to visualize your maps."
   ]
  },
  {
   "cell_type": "code",
   "execution_count": 2,
   "id": "d12d7949",
   "metadata": {
    "execution": {
     "iopub.execute_input": "2023-09-02T19:01:30.424297Z",
     "iopub.status.busy": "2023-09-02T19:01:30.423864Z",
     "iopub.status.idle": "2023-09-02T19:01:30.429946Z",
     "shell.execute_reply": "2023-09-02T19:01:30.428741Z"
    },
    "papermill": {
     "duration": 0.019887,
     "end_time": "2023-09-02T19:01:30.432164",
     "exception": false,
     "start_time": "2023-09-02T19:01:30.412277",
     "status": "completed"
    },
    "tags": []
   },
   "outputs": [],
   "source": [
    "def embed_map(m, file_name):\n",
    "    from IPython.display import IFrame\n",
    "    m.save(file_name)\n",
    "    return IFrame(file_name, width='100%', height='500px')"
   ]
  },
  {
   "cell_type": "markdown",
   "id": "549265bc",
   "metadata": {
    "papermill": {
     "duration": 0.008683,
     "end_time": "2023-09-02T19:01:30.449286",
     "exception": false,
     "start_time": "2023-09-02T19:01:30.440603",
     "status": "completed"
    },
    "tags": []
   },
   "source": [
    "# Exercises\n",
    "\n",
    "### 1) Visualize the collision data.\n",
    "\n",
    "Run the code cell below to load a GeoDataFrame `collisions` tracking major motor vehicle collisions in 2013-2018."
   ]
  },
  {
   "cell_type": "code",
   "execution_count": 3,
   "id": "75717141",
   "metadata": {
    "execution": {
     "iopub.execute_input": "2023-09-02T19:01:30.470497Z",
     "iopub.status.busy": "2023-09-02T19:01:30.469348Z",
     "iopub.status.idle": "2023-09-02T19:04:19.839520Z",
     "shell.execute_reply": "2023-09-02T19:04:19.838149Z"
    },
    "papermill": {
     "duration": 169.394007,
     "end_time": "2023-09-02T19:04:19.851869",
     "exception": false,
     "start_time": "2023-09-02T19:01:30.457862",
     "status": "completed"
    },
    "tags": []
   },
   "outputs": [
    {
     "data": {
      "text/html": [
       "<div>\n",
       "<style scoped>\n",
       "    .dataframe tbody tr th:only-of-type {\n",
       "        vertical-align: middle;\n",
       "    }\n",
       "\n",
       "    .dataframe tbody tr th {\n",
       "        vertical-align: top;\n",
       "    }\n",
       "\n",
       "    .dataframe thead th {\n",
       "        text-align: right;\n",
       "    }\n",
       "</style>\n",
       "<table border=\"1\" class=\"dataframe\">\n",
       "  <thead>\n",
       "    <tr style=\"text-align: right;\">\n",
       "      <th></th>\n",
       "      <th>DATE</th>\n",
       "      <th>TIME</th>\n",
       "      <th>BOROUGH</th>\n",
       "      <th>ZIP CODE</th>\n",
       "      <th>LATITUDE</th>\n",
       "      <th>LONGITUDE</th>\n",
       "      <th>LOCATION</th>\n",
       "      <th>ON STREET</th>\n",
       "      <th>CROSS STRE</th>\n",
       "      <th>OFF STREET</th>\n",
       "      <th>...</th>\n",
       "      <th>CONTRIBU_2</th>\n",
       "      <th>CONTRIBU_3</th>\n",
       "      <th>CONTRIBU_4</th>\n",
       "      <th>UNIQUE KEY</th>\n",
       "      <th>VEHICLE TY</th>\n",
       "      <th>VEHICLE _1</th>\n",
       "      <th>VEHICLE _2</th>\n",
       "      <th>VEHICLE _3</th>\n",
       "      <th>VEHICLE _4</th>\n",
       "      <th>geometry</th>\n",
       "    </tr>\n",
       "  </thead>\n",
       "  <tbody>\n",
       "    <tr>\n",
       "      <th>0</th>\n",
       "      <td>07/30/2019</td>\n",
       "      <td>0:00</td>\n",
       "      <td>BRONX</td>\n",
       "      <td>10464</td>\n",
       "      <td>40.841100</td>\n",
       "      <td>-73.784960</td>\n",
       "      <td>(40.8411, -73.78496)</td>\n",
       "      <td>NaN</td>\n",
       "      <td>NaN</td>\n",
       "      <td>121       PILOT STREET</td>\n",
       "      <td>...</td>\n",
       "      <td>Unspecified</td>\n",
       "      <td>NaN</td>\n",
       "      <td>NaN</td>\n",
       "      <td>4180045</td>\n",
       "      <td>Sedan</td>\n",
       "      <td>Station Wagon/Sport Utility Vehicle</td>\n",
       "      <td>Station Wagon/Sport Utility Vehicle</td>\n",
       "      <td>NaN</td>\n",
       "      <td>NaN</td>\n",
       "      <td>POINT (1043750.211 245785.815)</td>\n",
       "    </tr>\n",
       "    <tr>\n",
       "      <th>1</th>\n",
       "      <td>07/30/2019</td>\n",
       "      <td>0:10</td>\n",
       "      <td>QUEENS</td>\n",
       "      <td>11423</td>\n",
       "      <td>40.710827</td>\n",
       "      <td>-73.770660</td>\n",
       "      <td>(40.710827, -73.77066)</td>\n",
       "      <td>JAMAICA AVENUE</td>\n",
       "      <td>188 STREET</td>\n",
       "      <td>NaN</td>\n",
       "      <td>...</td>\n",
       "      <td>NaN</td>\n",
       "      <td>NaN</td>\n",
       "      <td>NaN</td>\n",
       "      <td>4180007</td>\n",
       "      <td>Sedan</td>\n",
       "      <td>Sedan</td>\n",
       "      <td>NaN</td>\n",
       "      <td>NaN</td>\n",
       "      <td>NaN</td>\n",
       "      <td>POINT (1047831.185 198333.171)</td>\n",
       "    </tr>\n",
       "    <tr>\n",
       "      <th>2</th>\n",
       "      <td>07/30/2019</td>\n",
       "      <td>0:25</td>\n",
       "      <td>NaN</td>\n",
       "      <td>NaN</td>\n",
       "      <td>40.880318</td>\n",
       "      <td>-73.841286</td>\n",
       "      <td>(40.880318, -73.841286)</td>\n",
       "      <td>BOSTON ROAD</td>\n",
       "      <td>NaN</td>\n",
       "      <td>NaN</td>\n",
       "      <td>...</td>\n",
       "      <td>NaN</td>\n",
       "      <td>NaN</td>\n",
       "      <td>NaN</td>\n",
       "      <td>4179575</td>\n",
       "      <td>Sedan</td>\n",
       "      <td>Station Wagon/Sport Utility Vehicle</td>\n",
       "      <td>NaN</td>\n",
       "      <td>NaN</td>\n",
       "      <td>NaN</td>\n",
       "      <td>POINT (1028139.293 260041.178)</td>\n",
       "    </tr>\n",
       "    <tr>\n",
       "      <th>3</th>\n",
       "      <td>07/30/2019</td>\n",
       "      <td>0:35</td>\n",
       "      <td>MANHATTAN</td>\n",
       "      <td>10036</td>\n",
       "      <td>40.756744</td>\n",
       "      <td>-73.984590</td>\n",
       "      <td>(40.756744, -73.98459)</td>\n",
       "      <td>NaN</td>\n",
       "      <td>NaN</td>\n",
       "      <td>155       WEST 44 STREET</td>\n",
       "      <td>...</td>\n",
       "      <td>NaN</td>\n",
       "      <td>NaN</td>\n",
       "      <td>NaN</td>\n",
       "      <td>4179544</td>\n",
       "      <td>Box Truck</td>\n",
       "      <td>Station Wagon/Sport Utility Vehicle</td>\n",
       "      <td>NaN</td>\n",
       "      <td>NaN</td>\n",
       "      <td>NaN</td>\n",
       "      <td>POINT (988519.261 214979.320)</td>\n",
       "    </tr>\n",
       "    <tr>\n",
       "      <th>4</th>\n",
       "      <td>07/30/2019</td>\n",
       "      <td>10:00</td>\n",
       "      <td>BROOKLYN</td>\n",
       "      <td>11223</td>\n",
       "      <td>40.600090</td>\n",
       "      <td>-73.965910</td>\n",
       "      <td>(40.60009, -73.96591)</td>\n",
       "      <td>AVENUE T</td>\n",
       "      <td>OCEAN PARKWAY</td>\n",
       "      <td>NaN</td>\n",
       "      <td>...</td>\n",
       "      <td>NaN</td>\n",
       "      <td>NaN</td>\n",
       "      <td>NaN</td>\n",
       "      <td>4180660</td>\n",
       "      <td>Station Wagon/Sport Utility Vehicle</td>\n",
       "      <td>Bike</td>\n",
       "      <td>NaN</td>\n",
       "      <td>NaN</td>\n",
       "      <td>NaN</td>\n",
       "      <td>POINT (993716.669 157907.212)</td>\n",
       "    </tr>\n",
       "  </tbody>\n",
       "</table>\n",
       "<p>5 rows × 30 columns</p>\n",
       "</div>"
      ],
      "text/plain": [
       "         DATE   TIME    BOROUGH ZIP CODE   LATITUDE  LONGITUDE  \\\n",
       "0  07/30/2019   0:00      BRONX    10464  40.841100 -73.784960   \n",
       "1  07/30/2019   0:10     QUEENS    11423  40.710827 -73.770660   \n",
       "2  07/30/2019   0:25        NaN      NaN  40.880318 -73.841286   \n",
       "3  07/30/2019   0:35  MANHATTAN    10036  40.756744 -73.984590   \n",
       "4  07/30/2019  10:00   BROOKLYN    11223  40.600090 -73.965910   \n",
       "\n",
       "                  LOCATION       ON STREET     CROSS STRE  \\\n",
       "0     (40.8411, -73.78496)             NaN            NaN   \n",
       "1   (40.710827, -73.77066)  JAMAICA AVENUE     188 STREET   \n",
       "2  (40.880318, -73.841286)     BOSTON ROAD            NaN   \n",
       "3   (40.756744, -73.98459)             NaN            NaN   \n",
       "4    (40.60009, -73.96591)        AVENUE T  OCEAN PARKWAY   \n",
       "\n",
       "                 OFF STREET  ...   CONTRIBU_2  CONTRIBU_3  CONTRIBU_4  \\\n",
       "0    121       PILOT STREET  ...  Unspecified         NaN         NaN   \n",
       "1                       NaN  ...          NaN         NaN         NaN   \n",
       "2                       NaN  ...          NaN         NaN         NaN   \n",
       "3  155       WEST 44 STREET  ...          NaN         NaN         NaN   \n",
       "4                       NaN  ...          NaN         NaN         NaN   \n",
       "\n",
       "   UNIQUE KEY                           VEHICLE TY  \\\n",
       "0     4180045                                Sedan   \n",
       "1     4180007                                Sedan   \n",
       "2     4179575                                Sedan   \n",
       "3     4179544                            Box Truck   \n",
       "4     4180660  Station Wagon/Sport Utility Vehicle   \n",
       "\n",
       "                            VEHICLE _1                           VEHICLE _2  \\\n",
       "0  Station Wagon/Sport Utility Vehicle  Station Wagon/Sport Utility Vehicle   \n",
       "1                                Sedan                                  NaN   \n",
       "2  Station Wagon/Sport Utility Vehicle                                  NaN   \n",
       "3  Station Wagon/Sport Utility Vehicle                                  NaN   \n",
       "4                                 Bike                                  NaN   \n",
       "\n",
       "   VEHICLE _3 VEHICLE _4                        geometry  \n",
       "0         NaN        NaN  POINT (1043750.211 245785.815)  \n",
       "1         NaN        NaN  POINT (1047831.185 198333.171)  \n",
       "2         NaN        NaN  POINT (1028139.293 260041.178)  \n",
       "3         NaN        NaN   POINT (988519.261 214979.320)  \n",
       "4         NaN        NaN   POINT (993716.669 157907.212)  \n",
       "\n",
       "[5 rows x 30 columns]"
      ]
     },
     "execution_count": 3,
     "metadata": {},
     "output_type": "execute_result"
    }
   ],
   "source": [
    "collisions = gpd.read_file(\"../input/geospatial-learn-course-data/NYPD_Motor_Vehicle_Collisions/NYPD_Motor_Vehicle_Collisions/NYPD_Motor_Vehicle_Collisions.shp\")\n",
    "collisions.head()"
   ]
  },
  {
   "cell_type": "markdown",
   "id": "03fb6d36",
   "metadata": {
    "papermill": {
     "duration": 0.009214,
     "end_time": "2023-09-02T19:04:19.872417",
     "exception": false,
     "start_time": "2023-09-02T19:04:19.863203",
     "status": "completed"
    },
    "tags": []
   },
   "source": [
    "Use the \"LATITUDE\" and \"LONGITUDE\" columns to create an interactive map to visualize the collision data.  What type of map do you think is most effective?"
   ]
  },
  {
   "cell_type": "code",
   "execution_count": 4,
   "id": "69a58655",
   "metadata": {
    "execution": {
     "iopub.execute_input": "2023-09-02T19:04:19.893489Z",
     "iopub.status.busy": "2023-09-02T19:04:19.892524Z",
     "iopub.status.idle": "2023-09-02T19:04:22.943061Z",
     "shell.execute_reply": "2023-09-02T19:04:22.941821Z"
    },
    "papermill": {
     "duration": 3.064206,
     "end_time": "2023-09-02T19:04:22.945902",
     "exception": false,
     "start_time": "2023-09-02T19:04:19.881696",
     "status": "completed"
    },
    "tags": []
   },
   "outputs": [
    {
     "data": {
      "text/html": [
       "\n",
       "        <iframe\n",
       "            width=\"100%\"\n",
       "            height=\"500px\"\n",
       "            src=\"q_1.html\"\n",
       "            frameborder=\"0\"\n",
       "            allowfullscreen\n",
       "            \n",
       "        ></iframe>\n",
       "        "
      ],
      "text/plain": [
       "<IPython.lib.display.IFrame at 0x7baac356ab60>"
      ]
     },
     "execution_count": 4,
     "metadata": {},
     "output_type": "execute_result"
    }
   ],
   "source": [
    "m_1 = folium.Map(location=[40.7, -74], zoom_start=11) \n",
    "\n",
    "# Visualize the collision data\n",
    "HeatMap(data=collisions[['LATITUDE', 'LONGITUDE']], radius=9).add_to(m_1)\n",
    "\n",
    "# Uncomment to see a hint\n",
    "#q_1.hint()\n",
    "\n",
    "# Show the map\n",
    "embed_map(m_1, \"q_1.html\")"
   ]
  },
  {
   "cell_type": "code",
   "execution_count": 5,
   "id": "e16793b3",
   "metadata": {
    "execution": {
     "iopub.execute_input": "2023-09-02T19:04:22.966643Z",
     "iopub.status.busy": "2023-09-02T19:04:22.965684Z",
     "iopub.status.idle": "2023-09-02T19:04:22.974497Z",
     "shell.execute_reply": "2023-09-02T19:04:22.973407Z"
    },
    "papermill": {
     "duration": 0.021474,
     "end_time": "2023-09-02T19:04:22.976863",
     "exception": false,
     "start_time": "2023-09-02T19:04:22.955389",
     "status": "completed"
    },
    "tags": []
   },
   "outputs": [
    {
     "data": {
      "application/javascript": [
       "parent.postMessage({\"jupyterEvent\": \"custom.exercise_interaction\", \"data\": {\"outcomeType\": 1, \"valueTowardsCompletion\": 0.16666666666666666, \"interactionType\": 1, \"questionType\": 2, \"questionId\": \"1_Q1\", \"learnToolsVersion\": \"0.3.4\", \"failureMessage\": \"\", \"exceptionClass\": \"\", \"trace\": \"\"}}, \"*\")"
      ],
      "text/plain": [
       "<IPython.core.display.Javascript object>"
      ]
     },
     "metadata": {},
     "output_type": "display_data"
    },
    {
     "data": {
      "text/markdown": [
       "<span style=\"color:#33cc33\">Thank you for creating a map!</span>"
      ],
      "text/plain": [
       "Thank you for creating a map!"
      ]
     },
     "metadata": {},
     "output_type": "display_data"
    }
   ],
   "source": [
    "# Get credit for your work after you have created a map\n",
    "q_1.check()\n",
    "\n",
    "# Uncomment to see our solution (your code may look different!)\n",
    "#q_1.solution()"
   ]
  },
  {
   "cell_type": "markdown",
   "id": "27b7478b",
   "metadata": {
    "papermill": {
     "duration": 0.009082,
     "end_time": "2023-09-02T19:04:22.995784",
     "exception": false,
     "start_time": "2023-09-02T19:04:22.986702",
     "status": "completed"
    },
    "tags": []
   },
   "source": [
    "### 2) Understand hospital coverage.\n",
    "\n",
    "Run the next code cell to load the hospital data."
   ]
  },
  {
   "cell_type": "code",
   "execution_count": 6,
   "id": "59f5fa55",
   "metadata": {
    "execution": {
     "iopub.execute_input": "2023-09-02T19:04:23.016182Z",
     "iopub.status.busy": "2023-09-02T19:04:23.015727Z",
     "iopub.status.idle": "2023-09-02T19:04:23.355855Z",
     "shell.execute_reply": "2023-09-02T19:04:23.355005Z"
    },
    "papermill": {
     "duration": 0.353007,
     "end_time": "2023-09-02T19:04:23.357882",
     "exception": false,
     "start_time": "2023-09-02T19:04:23.004875",
     "status": "completed"
    },
    "tags": []
   },
   "outputs": [
    {
     "data": {
      "text/html": [
       "<div>\n",
       "<style scoped>\n",
       "    .dataframe tbody tr th:only-of-type {\n",
       "        vertical-align: middle;\n",
       "    }\n",
       "\n",
       "    .dataframe tbody tr th {\n",
       "        vertical-align: top;\n",
       "    }\n",
       "\n",
       "    .dataframe thead th {\n",
       "        text-align: right;\n",
       "    }\n",
       "</style>\n",
       "<table border=\"1\" class=\"dataframe\">\n",
       "  <thead>\n",
       "    <tr style=\"text-align: right;\">\n",
       "      <th></th>\n",
       "      <th>id</th>\n",
       "      <th>name</th>\n",
       "      <th>address</th>\n",
       "      <th>zip</th>\n",
       "      <th>factype</th>\n",
       "      <th>facname</th>\n",
       "      <th>capacity</th>\n",
       "      <th>capname</th>\n",
       "      <th>bcode</th>\n",
       "      <th>xcoord</th>\n",
       "      <th>ycoord</th>\n",
       "      <th>latitude</th>\n",
       "      <th>longitude</th>\n",
       "      <th>geometry</th>\n",
       "    </tr>\n",
       "  </thead>\n",
       "  <tbody>\n",
       "    <tr>\n",
       "      <th>0</th>\n",
       "      <td>317000001H1178</td>\n",
       "      <td>BRONX-LEBANON HOSPITAL CENTER - CONCOURSE DIVI...</td>\n",
       "      <td>1650 Grand Concourse</td>\n",
       "      <td>10457</td>\n",
       "      <td>3102</td>\n",
       "      <td>Hospital</td>\n",
       "      <td>415</td>\n",
       "      <td>Beds</td>\n",
       "      <td>36005</td>\n",
       "      <td>1008872.0</td>\n",
       "      <td>246596.0</td>\n",
       "      <td>40.843490</td>\n",
       "      <td>-73.911010</td>\n",
       "      <td>POINT (1008872.000 246596.000)</td>\n",
       "    </tr>\n",
       "    <tr>\n",
       "      <th>1</th>\n",
       "      <td>317000001H1164</td>\n",
       "      <td>BRONX-LEBANON HOSPITAL CENTER - FULTON DIVISION</td>\n",
       "      <td>1276 Fulton Ave</td>\n",
       "      <td>10456</td>\n",
       "      <td>3102</td>\n",
       "      <td>Hospital</td>\n",
       "      <td>164</td>\n",
       "      <td>Beds</td>\n",
       "      <td>36005</td>\n",
       "      <td>1011044.0</td>\n",
       "      <td>242204.0</td>\n",
       "      <td>40.831429</td>\n",
       "      <td>-73.903178</td>\n",
       "      <td>POINT (1011044.000 242204.000)</td>\n",
       "    </tr>\n",
       "    <tr>\n",
       "      <th>2</th>\n",
       "      <td>317000011H1175</td>\n",
       "      <td>CALVARY HOSPITAL INC</td>\n",
       "      <td>1740-70 Eastchester Rd</td>\n",
       "      <td>10461</td>\n",
       "      <td>3102</td>\n",
       "      <td>Hospital</td>\n",
       "      <td>225</td>\n",
       "      <td>Beds</td>\n",
       "      <td>36005</td>\n",
       "      <td>1027505.0</td>\n",
       "      <td>248287.0</td>\n",
       "      <td>40.848060</td>\n",
       "      <td>-73.843656</td>\n",
       "      <td>POINT (1027505.000 248287.000)</td>\n",
       "    </tr>\n",
       "    <tr>\n",
       "      <th>3</th>\n",
       "      <td>317000002H1165</td>\n",
       "      <td>JACOBI MEDICAL CENTER</td>\n",
       "      <td>1400 Pelham Pkwy</td>\n",
       "      <td>10461</td>\n",
       "      <td>3102</td>\n",
       "      <td>Hospital</td>\n",
       "      <td>457</td>\n",
       "      <td>Beds</td>\n",
       "      <td>36005</td>\n",
       "      <td>1027042.0</td>\n",
       "      <td>251065.0</td>\n",
       "      <td>40.855687</td>\n",
       "      <td>-73.845311</td>\n",
       "      <td>POINT (1027042.000 251065.000)</td>\n",
       "    </tr>\n",
       "    <tr>\n",
       "      <th>4</th>\n",
       "      <td>317000008H1172</td>\n",
       "      <td>LINCOLN MEDICAL &amp; MENTAL HEALTH CENTER</td>\n",
       "      <td>234 E 149 St</td>\n",
       "      <td>10451</td>\n",
       "      <td>3102</td>\n",
       "      <td>Hospital</td>\n",
       "      <td>362</td>\n",
       "      <td>Beds</td>\n",
       "      <td>36005</td>\n",
       "      <td>1005154.0</td>\n",
       "      <td>236853.0</td>\n",
       "      <td>40.816758</td>\n",
       "      <td>-73.924478</td>\n",
       "      <td>POINT (1005154.000 236853.000)</td>\n",
       "    </tr>\n",
       "  </tbody>\n",
       "</table>\n",
       "</div>"
      ],
      "text/plain": [
       "               id                                               name  \\\n",
       "0  317000001H1178  BRONX-LEBANON HOSPITAL CENTER - CONCOURSE DIVI...   \n",
       "1  317000001H1164    BRONX-LEBANON HOSPITAL CENTER - FULTON DIVISION   \n",
       "2  317000011H1175                               CALVARY HOSPITAL INC   \n",
       "3  317000002H1165                              JACOBI MEDICAL CENTER   \n",
       "4  317000008H1172             LINCOLN MEDICAL & MENTAL HEALTH CENTER   \n",
       "\n",
       "                  address    zip factype   facname capacity capname  bcode  \\\n",
       "0    1650 Grand Concourse  10457    3102  Hospital      415    Beds  36005   \n",
       "1         1276 Fulton Ave  10456    3102  Hospital      164    Beds  36005   \n",
       "2  1740-70 Eastchester Rd  10461    3102  Hospital      225    Beds  36005   \n",
       "3        1400 Pelham Pkwy  10461    3102  Hospital      457    Beds  36005   \n",
       "4            234 E 149 St  10451    3102  Hospital      362    Beds  36005   \n",
       "\n",
       "      xcoord    ycoord   latitude  longitude                        geometry  \n",
       "0  1008872.0  246596.0  40.843490 -73.911010  POINT (1008872.000 246596.000)  \n",
       "1  1011044.0  242204.0  40.831429 -73.903178  POINT (1011044.000 242204.000)  \n",
       "2  1027505.0  248287.0  40.848060 -73.843656  POINT (1027505.000 248287.000)  \n",
       "3  1027042.0  251065.0  40.855687 -73.845311  POINT (1027042.000 251065.000)  \n",
       "4  1005154.0  236853.0  40.816758 -73.924478  POINT (1005154.000 236853.000)  "
      ]
     },
     "execution_count": 6,
     "metadata": {},
     "output_type": "execute_result"
    }
   ],
   "source": [
    "hospitals = gpd.read_file(\"../input/geospatial-learn-course-data/nyu_2451_34494/nyu_2451_34494/nyu_2451_34494.shp\")\n",
    "hospitals.head()"
   ]
  },
  {
   "cell_type": "markdown",
   "id": "643ba423",
   "metadata": {
    "papermill": {
     "duration": 0.00906,
     "end_time": "2023-09-02T19:04:23.376075",
     "exception": false,
     "start_time": "2023-09-02T19:04:23.367015",
     "status": "completed"
    },
    "tags": []
   },
   "source": [
    "Use the \"latitude\" and \"longitude\" columns to visualize the hospital locations. "
   ]
  },
  {
   "cell_type": "code",
   "execution_count": 7,
   "id": "c3836ab4",
   "metadata": {
    "execution": {
     "iopub.execute_input": "2023-09-02T19:04:23.398184Z",
     "iopub.status.busy": "2023-09-02T19:04:23.396841Z",
     "iopub.status.idle": "2023-09-02T19:04:23.501182Z",
     "shell.execute_reply": "2023-09-02T19:04:23.500006Z"
    },
    "papermill": {
     "duration": 0.11773,
     "end_time": "2023-09-02T19:04:23.503457",
     "exception": false,
     "start_time": "2023-09-02T19:04:23.385727",
     "status": "completed"
    },
    "tags": []
   },
   "outputs": [
    {
     "data": {
      "text/html": [
       "\n",
       "        <iframe\n",
       "            width=\"100%\"\n",
       "            height=\"500px\"\n",
       "            src=\"q_2.html\"\n",
       "            frameborder=\"0\"\n",
       "            allowfullscreen\n",
       "            \n",
       "        ></iframe>\n",
       "        "
      ],
      "text/plain": [
       "<IPython.lib.display.IFrame at 0x7baac4523640>"
      ]
     },
     "execution_count": 7,
     "metadata": {},
     "output_type": "execute_result"
    }
   ],
   "source": [
    "m_2 = folium.Map(location=[40.7, -74], zoom_start=11) \n",
    "\n",
    "# Visualize the hospital locations\n",
    "for idx, row in hospitals.iterrows():\n",
    "    Marker([row['latitude'], row['longitude']], popup=row['name']).add_to(m_2)\n",
    "\n",
    "# Uncomment to see a hint\n",
    "#q_2.hint()\n",
    "        \n",
    "# Show the map\n",
    "embed_map(m_2, \"q_2.html\")"
   ]
  },
  {
   "cell_type": "code",
   "execution_count": 8,
   "id": "8fb47b0c",
   "metadata": {
    "execution": {
     "iopub.execute_input": "2023-09-02T19:04:23.524076Z",
     "iopub.status.busy": "2023-09-02T19:04:23.523711Z",
     "iopub.status.idle": "2023-09-02T19:04:23.532507Z",
     "shell.execute_reply": "2023-09-02T19:04:23.531418Z"
    },
    "papermill": {
     "duration": 0.021879,
     "end_time": "2023-09-02T19:04:23.534708",
     "exception": false,
     "start_time": "2023-09-02T19:04:23.512829",
     "status": "completed"
    },
    "tags": []
   },
   "outputs": [
    {
     "data": {
      "application/javascript": [
       "parent.postMessage({\"jupyterEvent\": \"custom.exercise_interaction\", \"data\": {\"outcomeType\": 1, \"valueTowardsCompletion\": 0.16666666666666666, \"interactionType\": 1, \"questionType\": 2, \"questionId\": \"2_Q2\", \"learnToolsVersion\": \"0.3.4\", \"failureMessage\": \"\", \"exceptionClass\": \"\", \"trace\": \"\"}}, \"*\")"
      ],
      "text/plain": [
       "<IPython.core.display.Javascript object>"
      ]
     },
     "metadata": {},
     "output_type": "display_data"
    },
    {
     "data": {
      "text/markdown": [
       "<span style=\"color:#33cc33\">Thank you for creating a map!</span>"
      ],
      "text/plain": [
       "Thank you for creating a map!"
      ]
     },
     "metadata": {},
     "output_type": "display_data"
    }
   ],
   "source": [
    "# Get credit for your work after you have created a map\n",
    "q_2.check()\n",
    "\n",
    "# Uncomment to see our solution (your code may look different!)\n",
    "#q_2.solution()"
   ]
  },
  {
   "cell_type": "markdown",
   "id": "bebba8a6",
   "metadata": {
    "papermill": {
     "duration": 0.009205,
     "end_time": "2023-09-02T19:04:23.553555",
     "exception": false,
     "start_time": "2023-09-02T19:04:23.544350",
     "status": "completed"
    },
    "tags": []
   },
   "source": [
    "### 3) When was the closest hospital more than 10 kilometers away?\n",
    "\n",
    "Create a DataFrame `outside_range` containing all rows from `collisions` with crashes that occurred more than 10 kilometers from the closest hospital.\n",
    "\n",
    "Note that both `hospitals` and `collisions` have EPSG 2263 as the coordinate reference system, and EPSG 2263 has units of meters."
   ]
  },
  {
   "cell_type": "code",
   "execution_count": 9,
   "id": "c137c294",
   "metadata": {
    "execution": {
     "iopub.execute_input": "2023-09-02T19:04:23.574173Z",
     "iopub.status.busy": "2023-09-02T19:04:23.573757Z",
     "iopub.status.idle": "2023-09-02T19:05:05.932909Z",
     "shell.execute_reply": "2023-09-02T19:05:05.931675Z"
    },
    "papermill": {
     "duration": 42.382354,
     "end_time": "2023-09-02T19:05:05.945383",
     "exception": false,
     "start_time": "2023-09-02T19:04:23.563029",
     "status": "completed"
    },
    "tags": []
   },
   "outputs": [
    {
     "data": {
      "application/javascript": [
       "parent.postMessage({\"jupyterEvent\": \"custom.exercise_interaction\", \"data\": {\"outcomeType\": 1, \"valueTowardsCompletion\": 0.16666666666666666, \"interactionType\": 1, \"questionType\": 2, \"questionId\": \"3_Q3\", \"learnToolsVersion\": \"0.3.4\", \"failureMessage\": \"\", \"exceptionClass\": \"\", \"trace\": \"\"}}, \"*\")"
      ],
      "text/plain": [
       "<IPython.core.display.Javascript object>"
      ]
     },
     "metadata": {},
     "output_type": "display_data"
    },
    {
     "data": {
      "text/markdown": [
       "<span style=\"color:#33cc33\">Correct</span>"
      ],
      "text/plain": [
       "Correct"
      ]
     },
     "metadata": {},
     "output_type": "display_data"
    }
   ],
   "source": [
    "coverage = gpd.GeoDataFrame(geometry=hospitals.geometry).buffer(10000)\n",
    "my_union = coverage.geometry.unary_union\n",
    "outside_range = collisions.loc[~collisions[\"geometry\"].apply(lambda x: my_union.contains(x))]\n",
    "\n",
    "# Check your answer\n",
    "q_3.check()"
   ]
  },
  {
   "cell_type": "code",
   "execution_count": 10,
   "id": "0641874f",
   "metadata": {
    "execution": {
     "iopub.execute_input": "2023-09-02T19:05:05.967620Z",
     "iopub.status.busy": "2023-09-02T19:05:05.967230Z",
     "iopub.status.idle": "2023-09-02T19:05:05.971984Z",
     "shell.execute_reply": "2023-09-02T19:05:05.970850Z"
    },
    "papermill": {
     "duration": 0.018977,
     "end_time": "2023-09-02T19:05:05.974346",
     "exception": false,
     "start_time": "2023-09-02T19:05:05.955369",
     "status": "completed"
    },
    "tags": []
   },
   "outputs": [],
   "source": [
    "# Lines below will give you a hint or solution code\n",
    "#q_3.hint()\n",
    "#q_3.solution()"
   ]
  },
  {
   "cell_type": "markdown",
   "id": "8991ac50",
   "metadata": {
    "papermill": {
     "duration": 0.009923,
     "end_time": "2023-09-02T19:05:05.994574",
     "exception": false,
     "start_time": "2023-09-02T19:05:05.984651",
     "status": "completed"
    },
    "tags": []
   },
   "source": [
    "The next code cell calculates the percentage of collisions that occurred more than 10 kilometers away from the closest hospital."
   ]
  },
  {
   "cell_type": "code",
   "execution_count": 11,
   "id": "5f0959a5",
   "metadata": {
    "execution": {
     "iopub.execute_input": "2023-09-02T19:05:06.017826Z",
     "iopub.status.busy": "2023-09-02T19:05:06.017427Z",
     "iopub.status.idle": "2023-09-02T19:05:06.024223Z",
     "shell.execute_reply": "2023-09-02T19:05:06.022930Z"
    },
    "papermill": {
     "duration": 0.021625,
     "end_time": "2023-09-02T19:05:06.026633",
     "exception": false,
     "start_time": "2023-09-02T19:05:06.005008",
     "status": "completed"
    },
    "tags": []
   },
   "outputs": [
    {
     "name": "stdout",
     "output_type": "stream",
     "text": [
      "Percentage of collisions more than 10 km away from the closest hospital: 15.12%\n"
     ]
    }
   ],
   "source": [
    "percentage = round(100*len(outside_range)/len(collisions), 2)\n",
    "print(\"Percentage of collisions more than 10 km away from the closest hospital: {}%\".format(percentage))"
   ]
  },
  {
   "cell_type": "markdown",
   "id": "90ad7be2",
   "metadata": {
    "papermill": {
     "duration": 0.0099,
     "end_time": "2023-09-02T19:05:06.047440",
     "exception": false,
     "start_time": "2023-09-02T19:05:06.037540",
     "status": "completed"
    },
    "tags": []
   },
   "source": [
    "### 4) Make a recommender.\n",
    "\n",
    "When collisions occur in distant locations, it becomes even more vital that injured persons are transported to the nearest available hospital.\n",
    "\n",
    "With this in mind, you decide to create a recommender that:\n",
    "- takes the location of the crash (in EPSG 2263) as input,\n",
    "- finds the closest hospital (where distance calculations are done in EPSG 2263), and \n",
    "- returns the name of the closest hospital. "
   ]
  },
  {
   "cell_type": "code",
   "execution_count": 12,
   "id": "ea9e7f40",
   "metadata": {
    "execution": {
     "iopub.execute_input": "2023-09-02T19:05:06.070528Z",
     "iopub.status.busy": "2023-09-02T19:05:06.069991Z",
     "iopub.status.idle": "2023-09-02T19:05:06.088948Z",
     "shell.execute_reply": "2023-09-02T19:05:06.087870Z"
    },
    "papermill": {
     "duration": 0.033343,
     "end_time": "2023-09-02T19:05:06.090934",
     "exception": false,
     "start_time": "2023-09-02T19:05:06.057591",
     "status": "completed"
    },
    "tags": []
   },
   "outputs": [
    {
     "name": "stdout",
     "output_type": "stream",
     "text": [
      "CALVARY HOSPITAL INC\n"
     ]
    },
    {
     "data": {
      "application/javascript": [
       "parent.postMessage({\"jupyterEvent\": \"custom.exercise_interaction\", \"data\": {\"outcomeType\": 1, \"valueTowardsCompletion\": 0.16666666666666666, \"interactionType\": 1, \"questionType\": 2, \"questionId\": \"4_Q4\", \"learnToolsVersion\": \"0.3.4\", \"failureMessage\": \"\", \"exceptionClass\": \"\", \"trace\": \"\"}}, \"*\")"
      ],
      "text/plain": [
       "<IPython.core.display.Javascript object>"
      ]
     },
     "metadata": {},
     "output_type": "display_data"
    },
    {
     "data": {
      "text/markdown": [
       "<span style=\"color:#33cc33\">Correct</span>"
      ],
      "text/plain": [
       "Correct"
      ]
     },
     "metadata": {},
     "output_type": "display_data"
    }
   ],
   "source": [
    "def best_hospital(collision_location):\n",
    "    idx_min = hospitals.geometry.distance(collision_location).idxmin()\n",
    "    my_hospital = hospitals.iloc[idx_min]\n",
    "    name = my_hospital[\"name\"]\n",
    "    return name\n",
    "\n",
    "# Test your function: this should suggest CALVARY HOSPITAL INC\n",
    "print(best_hospital(outside_range.geometry.iloc[0]))\n",
    "\n",
    "# Check your answer\n",
    "q_4.check()"
   ]
  },
  {
   "cell_type": "code",
   "execution_count": 13,
   "id": "eee6f17e",
   "metadata": {
    "execution": {
     "iopub.execute_input": "2023-09-02T19:05:06.114324Z",
     "iopub.status.busy": "2023-09-02T19:05:06.113295Z",
     "iopub.status.idle": "2023-09-02T19:05:06.117507Z",
     "shell.execute_reply": "2023-09-02T19:05:06.116636Z"
    },
    "papermill": {
     "duration": 0.017898,
     "end_time": "2023-09-02T19:05:06.119681",
     "exception": false,
     "start_time": "2023-09-02T19:05:06.101783",
     "status": "completed"
    },
    "tags": []
   },
   "outputs": [],
   "source": [
    "# Lines below will give you a hint or solution code\n",
    "#q_4.hint()\n",
    "#q_4.solution()"
   ]
  },
  {
   "cell_type": "markdown",
   "id": "dde39ac2",
   "metadata": {
    "papermill": {
     "duration": 0.012704,
     "end_time": "2023-09-02T19:05:06.209309",
     "exception": false,
     "start_time": "2023-09-02T19:05:06.196605",
     "status": "completed"
    },
    "tags": []
   },
   "source": [
    "### 5) Which hospital is under the highest demand?\n",
    "\n",
    "Considering only collisions in the `outside_range` DataFrame, which hospital is most recommended?  \n",
    "\n",
    "Your answer should be a Python string that exactly matches the name of the hospital returned by the function you created in **4)**."
   ]
  },
  {
   "cell_type": "code",
   "execution_count": 14,
   "id": "dfa5cfca",
   "metadata": {
    "execution": {
     "iopub.execute_input": "2023-09-02T19:05:06.240993Z",
     "iopub.status.busy": "2023-09-02T19:05:06.239817Z",
     "iopub.status.idle": "2023-09-02T19:05:40.351052Z",
     "shell.execute_reply": "2023-09-02T19:05:40.349763Z"
    },
    "papermill": {
     "duration": 34.139383,
     "end_time": "2023-09-02T19:05:40.364735",
     "exception": false,
     "start_time": "2023-09-02T19:05:06.225352",
     "status": "completed"
    },
    "tags": []
   },
   "outputs": [
    {
     "data": {
      "application/javascript": [
       "parent.postMessage({\"jupyterEvent\": \"custom.exercise_interaction\", \"data\": {\"outcomeType\": 1, \"valueTowardsCompletion\": 0.16666666666666666, \"interactionType\": 1, \"questionType\": 2, \"questionId\": \"5_Q5\", \"learnToolsVersion\": \"0.3.4\", \"failureMessage\": \"\", \"exceptionClass\": \"\", \"trace\": \"\"}}, \"*\")"
      ],
      "text/plain": [
       "<IPython.core.display.Javascript object>"
      ]
     },
     "metadata": {},
     "output_type": "display_data"
    },
    {
     "data": {
      "text/markdown": [
       "<span style=\"color:#33cc33\">Correct</span>"
      ],
      "text/plain": [
       "Correct"
      ]
     },
     "metadata": {},
     "output_type": "display_data"
    }
   ],
   "source": [
    "# Your code here\n",
    "highest_demand = outside_range.geometry.apply(best_hospital).value_counts().idxmax()\n",
    "\n",
    "# Check your answer\n",
    "q_5.check()"
   ]
  },
  {
   "cell_type": "code",
   "execution_count": 15,
   "id": "7fe314f0",
   "metadata": {
    "execution": {
     "iopub.execute_input": "2023-09-02T19:05:40.390522Z",
     "iopub.status.busy": "2023-09-02T19:05:40.390149Z",
     "iopub.status.idle": "2023-09-02T19:05:40.394668Z",
     "shell.execute_reply": "2023-09-02T19:05:40.393431Z"
    },
    "papermill": {
     "duration": 0.020927,
     "end_time": "2023-09-02T19:05:40.397532",
     "exception": false,
     "start_time": "2023-09-02T19:05:40.376605",
     "status": "completed"
    },
    "tags": []
   },
   "outputs": [],
   "source": [
    "# Lines below will give you a hint or solution code\n",
    "#q_5.hint()\n",
    "#q_5.solution()"
   ]
  },
  {
   "cell_type": "markdown",
   "id": "eaa2a498",
   "metadata": {
    "papermill": {
     "duration": 0.010617,
     "end_time": "2023-09-02T19:05:40.419049",
     "exception": false,
     "start_time": "2023-09-02T19:05:40.408432",
     "status": "completed"
    },
    "tags": []
   },
   "source": [
    "### 6) Where should the city construct new hospitals?\n",
    "\n",
    "Run the next code cell (without changes) to visualize hospital locations, in addition to collisions that occurred more than 10 kilometers away from the closest hospital. "
   ]
  },
  {
   "cell_type": "code",
   "execution_count": 16,
   "id": "2982a35e",
   "metadata": {
    "execution": {
     "iopub.execute_input": "2023-09-02T19:05:40.445800Z",
     "iopub.status.busy": "2023-09-02T19:05:40.444762Z",
     "iopub.status.idle": "2023-09-02T19:05:41.124900Z",
     "shell.execute_reply": "2023-09-02T19:05:41.123694Z"
    },
    "papermill": {
     "duration": 0.697406,
     "end_time": "2023-09-02T19:05:41.127266",
     "exception": false,
     "start_time": "2023-09-02T19:05:40.429860",
     "status": "completed"
    },
    "scrolled": true,
    "tags": []
   },
   "outputs": [
    {
     "data": {
      "text/html": [
       "\n",
       "        <iframe\n",
       "            width=\"100%\"\n",
       "            height=\"500px\"\n",
       "            src=\"m_6.html\"\n",
       "            frameborder=\"0\"\n",
       "            allowfullscreen\n",
       "            \n",
       "        ></iframe>\n",
       "        "
      ],
      "text/plain": [
       "<IPython.lib.display.IFrame at 0x7baac44caef0>"
      ]
     },
     "execution_count": 16,
     "metadata": {},
     "output_type": "execute_result"
    }
   ],
   "source": [
    "m_6 = folium.Map(location=[40.7, -74], zoom_start=11) \n",
    "\n",
    "coverage = gpd.GeoDataFrame(geometry=hospitals.geometry).buffer(10000)\n",
    "folium.GeoJson(coverage.geometry.to_crs(epsg=4326)).add_to(m_6)\n",
    "HeatMap(data=outside_range[['LATITUDE', 'LONGITUDE']], radius=9).add_to(m_6)\n",
    "folium.LatLngPopup().add_to(m_6)\n",
    "\n",
    "embed_map(m_6, 'm_6.html')"
   ]
  },
  {
   "cell_type": "markdown",
   "id": "d31abaca",
   "metadata": {
    "papermill": {
     "duration": 0.010763,
     "end_time": "2023-09-02T19:05:41.150205",
     "exception": false,
     "start_time": "2023-09-02T19:05:41.139442",
     "status": "completed"
    },
    "tags": []
   },
   "source": [
    "Click anywhere on the map to see a pop-up with the corresponding location in latitude and longitude.\n",
    "\n",
    "The city of New York reaches out to you for help with deciding locations for two brand new hospitals.  They specifically want your help with identifying locations to bring the calculated percentage from step **3)** to less than ten percent.  Using the map (and without worrying about zoning laws or what potential buildings would have to be removed in order to build the hospitals), can you identify two locations that would help the city accomplish this goal?  \n",
    "\n",
    "Put the proposed latitude and longitude for hospital 1 in `lat_1` and `long_1`, respectively.  (Likewise for hospital 2.)\n",
    "\n",
    "Then, run the rest of the cell as-is to see the effect of the new hospitals.  Your answer will be marked correct, if the two new hospitals bring the percentage to less than ten percent."
   ]
  },
  {
   "cell_type": "code",
   "execution_count": 17,
   "id": "791dae5d",
   "metadata": {
    "execution": {
     "iopub.execute_input": "2023-09-02T19:05:41.175465Z",
     "iopub.status.busy": "2023-09-02T19:05:41.174760Z",
     "iopub.status.idle": "2023-09-02T19:05:42.221113Z",
     "shell.execute_reply": "2023-09-02T19:05:42.219685Z"
    },
    "papermill": {
     "duration": 1.062186,
     "end_time": "2023-09-02T19:05:42.223984",
     "exception": false,
     "start_time": "2023-09-02T19:05:41.161798",
     "status": "completed"
    },
    "tags": []
   },
   "outputs": [
    {
     "name": "stderr",
     "output_type": "stream",
     "text": [
      "/opt/conda/lib/python3.10/site-packages/pyproj/crs/crs.py:141: FutureWarning: '+init=<authority>:<code>' syntax is deprecated. '<authority>:<code>' is the preferred initialization method. When making the change, be mindful of axis order changes: https://pyproj4.github.io/pyproj/stable/gotchas.html#axis-order-changes-in-proj-6\n",
      "  in_crs_string = _prepare_from_proj_string(in_crs_string)\n"
     ]
    },
    {
     "name": "stdout",
     "output_type": "stream",
     "text": [
      "(NEW) Percentage of collisions more than 10 km away from the closest hospital: 9.12%\n"
     ]
    },
    {
     "data": {
      "application/javascript": [
       "parent.postMessage({\"jupyterEvent\": \"custom.exercise_interaction\", \"data\": {\"outcomeType\": 1, \"valueTowardsCompletion\": 0.16666666666666666, \"interactionType\": 1, \"questionType\": 2, \"questionId\": \"6_Q6\", \"learnToolsVersion\": \"0.3.4\", \"failureMessage\": \"\", \"exceptionClass\": \"\", \"trace\": \"\"}}, \"*\")"
      ],
      "text/plain": [
       "<IPython.core.display.Javascript object>"
      ]
     },
     "metadata": {},
     "output_type": "display_data"
    },
    {
     "data": {
      "text/markdown": [
       "<span style=\"color:#33cc33\">Correct</span>"
      ],
      "text/plain": [
       "Correct"
      ]
     },
     "metadata": {},
     "output_type": "display_data"
    },
    {
     "data": {
      "text/html": [
       "\n",
       "        <iframe\n",
       "            width=\"100%\"\n",
       "            height=\"500px\"\n",
       "            src=\"q_6.html\"\n",
       "            frameborder=\"0\"\n",
       "            allowfullscreen\n",
       "            \n",
       "        ></iframe>\n",
       "        "
      ],
      "text/plain": [
       "<IPython.lib.display.IFrame at 0x7baac44cb8b0>"
      ]
     },
     "metadata": {},
     "output_type": "display_data"
    }
   ],
   "source": [
    "# Proposed location of hospital 1\n",
    "lat_1 = 40.6714\n",
    "long_1 = -73.8492\n",
    "\n",
    "# Proposed location of hospital 2\n",
    "lat_2 = 40.6702\n",
    "long_2 = -73.7612\n",
    "\n",
    "\n",
    "# Do not modify the code below this line\n",
    "try:\n",
    "    new_df = pd.DataFrame(\n",
    "        {'Latitude': [lat_1, lat_2],\n",
    "         'Longitude': [long_1, long_2]})\n",
    "    new_gdf = gpd.GeoDataFrame(new_df, geometry=gpd.points_from_xy(new_df.Longitude, new_df.Latitude))\n",
    "    new_gdf.crs = {'init' :'epsg:4326'}\n",
    "    new_gdf = new_gdf.to_crs(epsg=2263)\n",
    "    # get new percentage\n",
    "    new_coverage = gpd.GeoDataFrame(geometry=new_gdf.geometry).buffer(10000)\n",
    "    new_my_union = new_coverage.geometry.unary_union\n",
    "    new_outside_range = outside_range.loc[~outside_range[\"geometry\"].apply(lambda x: new_my_union.contains(x))]\n",
    "    new_percentage = round(100*len(new_outside_range)/len(collisions), 2)\n",
    "    print(\"(NEW) Percentage of collisions more than 10 km away from the closest hospital: {}%\".format(new_percentage))\n",
    "    # Did you help the city to meet its goal?\n",
    "    q_6.check()\n",
    "    # make the map\n",
    "    m = folium.Map(location=[40.7, -74], zoom_start=11) \n",
    "    folium.GeoJson(coverage.geometry.to_crs(epsg=4326)).add_to(m)\n",
    "    folium.GeoJson(new_coverage.geometry.to_crs(epsg=4326)).add_to(m)\n",
    "    for idx, row in new_gdf.iterrows():\n",
    "        Marker([row['Latitude'], row['Longitude']]).add_to(m)\n",
    "    HeatMap(data=new_outside_range[['LATITUDE', 'LONGITUDE']], radius=9).add_to(m)\n",
    "    folium.LatLngPopup().add_to(m)\n",
    "    display(embed_map(m, 'q_6.html'))\n",
    "except:\n",
    "    q_6.hint()"
   ]
  },
  {
   "cell_type": "code",
   "execution_count": 18,
   "id": "d941cfd9",
   "metadata": {
    "execution": {
     "iopub.execute_input": "2023-09-02T19:05:42.249963Z",
     "iopub.status.busy": "2023-09-02T19:05:42.249574Z",
     "iopub.status.idle": "2023-09-02T19:05:42.254401Z",
     "shell.execute_reply": "2023-09-02T19:05:42.253114Z"
    },
    "papermill": {
     "duration": 0.021153,
     "end_time": "2023-09-02T19:05:42.256850",
     "exception": false,
     "start_time": "2023-09-02T19:05:42.235697",
     "status": "completed"
    },
    "tags": []
   },
   "outputs": [],
   "source": [
    "# Uncomment to see one potential answer \n",
    "#q_6.solution()"
   ]
  },
  {
   "cell_type": "markdown",
   "id": "d4995f43",
   "metadata": {
    "papermill": {
     "duration": 0.01159,
     "end_time": "2023-09-02T19:05:42.280421",
     "exception": false,
     "start_time": "2023-09-02T19:05:42.268831",
     "status": "completed"
    },
    "tags": []
   },
   "source": [
    "# Congratulations!\n",
    "\n",
    "You have just completed the Geospatial Analysis micro-course!  Great job!"
   ]
  },
  {
   "cell_type": "markdown",
   "id": "6f0565b8",
   "metadata": {
    "papermill": {
     "duration": 0.011539,
     "end_time": "2023-09-02T19:05:42.303630",
     "exception": false,
     "start_time": "2023-09-02T19:05:42.292091",
     "status": "completed"
    },
    "tags": []
   },
   "source": [
    "---\n",
    "\n",
    "\n",
    "\n",
    "\n",
    "*Have questions or comments? Visit the [course discussion forum](https://www.kaggle.com/learn/geospatial-analysis/discussion) to chat with other learners.*"
   ]
  }
 ],
 "kernelspec": {
  "display_name": "Python 3",
  "language": "python",
  "name": "python3"
 },
 "language_info": {
  "codemirror_mode": {
   "name": "ipython",
   "version": 3
  },
  "file_extension": ".py",
  "mimetype": "text/x-python",
  "name": "python",
  "nbconvert_exporter": "python",
  "pygments_lexer": "ipython3",
  "version": "3.6.4"
 },
 "metadata": {
  "kernelspec": {
   "display_name": "Python 3",
   "language": "python",
   "name": "python3"
  },
  "language_info": {
   "codemirror_mode": {
    "name": "ipython",
    "version": 3
   },
   "file_extension": ".py",
   "mimetype": "text/x-python",
   "name": "python",
   "nbconvert_exporter": "python",
   "pygments_lexer": "ipython3",
   "version": "3.10.12"
  },
  "papermill": {
   "default_parameters": {},
   "duration": 426.912239,
   "end_time": "2023-09-02T19:05:44.936756",
   "environment_variables": {},
   "exception": null,
   "input_path": "__notebook__.ipynb",
   "output_path": "__notebook__.ipynb",
   "parameters": {},
   "start_time": "2023-09-02T18:58:38.024517",
   "version": "2.4.0"
  }
 },
 "nbformat": 4,
 "nbformat_minor": 5
}
