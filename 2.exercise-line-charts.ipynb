{
 "cells": [
  {
   "cell_type": "markdown",
   "id": "430aa856",
   "metadata": {
    "papermill": {
     "duration": 0.009988,
     "end_time": "2023-09-02T16:15:59.639595",
     "exception": false,
     "start_time": "2023-09-02T16:15:59.629607",
     "status": "completed"
    },
    "tags": []
   },
   "source": [
    "**This notebook is an exercise in the [Data Visualization](https://www.kaggle.com/learn/data-visualization) course.  You can reference the tutorial at [this link](https://www.kaggle.com/alexisbcook/line-charts).**\n",
    "\n",
    "---\n"
   ]
  },
  {
   "cell_type": "markdown",
   "id": "eb342f2e",
   "metadata": {
    "papermill": {
     "duration": 0.009022,
     "end_time": "2023-09-02T16:15:59.657876",
     "exception": false,
     "start_time": "2023-09-02T16:15:59.648854",
     "status": "completed"
    },
    "tags": []
   },
   "source": [
    "In this exercise, you will use your new knowledge to propose a solution to a real-world scenario. To succeed, you will need to import data into Python, answer questions using the data, and generate **line charts** to understand patterns in the data.\n",
    "\n",
    "## Scenario\n",
    "\n",
    "You have recently been hired to manage the museums in the City of Los Angeles. Your first project focuses on the four museums pictured in the images below.\n",
    "\n",
    "![ex1_museums](https://storage.googleapis.com/kaggle-media/learn/images/pFYL8J1.png)\n",
    "\n",
    "You will leverage data from the Los Angeles [Data Portal](https://data.lacity.org/) that tracks monthly visitors to each museum.  \n",
    "\n",
    "![ex1_xlsx](https://storage.googleapis.com/kaggle-media/learn/images/mGWYlym.png)\n",
    "\n",
    "## Setup\n",
    "\n",
    "Run the next cell to import and configure the Python libraries that you need to complete the exercise."
   ]
  },
  {
   "cell_type": "code",
   "execution_count": 1,
   "id": "415d5249",
   "metadata": {
    "execution": {
     "iopub.execute_input": "2023-09-02T16:15:59.678865Z",
     "iopub.status.busy": "2023-09-02T16:15:59.678447Z",
     "iopub.status.idle": "2023-09-02T16:16:01.667397Z",
     "shell.execute_reply": "2023-09-02T16:16:01.665663Z"
    },
    "papermill": {
     "duration": 2.002986,
     "end_time": "2023-09-02T16:16:01.670040",
     "exception": false,
     "start_time": "2023-09-02T16:15:59.667054",
     "status": "completed"
    },
    "tags": []
   },
   "outputs": [
    {
     "name": "stdout",
     "output_type": "stream",
     "text": [
      "Setup Complete\n"
     ]
    }
   ],
   "source": [
    "import pandas as pd\n",
    "pd.plotting.register_matplotlib_converters()\n",
    "import matplotlib.pyplot as plt\n",
    "%matplotlib inline\n",
    "import seaborn as sns\n",
    "print(\"Setup Complete\")"
   ]
  },
  {
   "cell_type": "markdown",
   "id": "1a9de425",
   "metadata": {
    "papermill": {
     "duration": 0.011008,
     "end_time": "2023-09-02T16:16:01.689971",
     "exception": false,
     "start_time": "2023-09-02T16:16:01.678963",
     "status": "completed"
    },
    "tags": []
   },
   "source": [
    "The questions below will give you feedback on your work. Run the following cell to set up the feedback system."
   ]
  },
  {
   "cell_type": "code",
   "execution_count": 2,
   "id": "2ac37dec",
   "metadata": {
    "execution": {
     "iopub.execute_input": "2023-09-02T16:16:01.710822Z",
     "iopub.status.busy": "2023-09-02T16:16:01.710248Z",
     "iopub.status.idle": "2023-09-02T16:16:01.786144Z",
     "shell.execute_reply": "2023-09-02T16:16:01.784398Z"
    },
    "papermill": {
     "duration": 0.089772,
     "end_time": "2023-09-02T16:16:01.788922",
     "exception": false,
     "start_time": "2023-09-02T16:16:01.699150",
     "status": "completed"
    },
    "tags": []
   },
   "outputs": [
    {
     "name": "stdout",
     "output_type": "stream",
     "text": [
      "Setup Complete\n"
     ]
    }
   ],
   "source": [
    "# Set up code checking\n",
    "import os\n",
    "if not os.path.exists(\"../input/museum_visitors.csv\"):\n",
    "    os.symlink(\"../input/data-for-datavis/museum_visitors.csv\", \"../input/museum_visitors.csv\") \n",
    "from learntools.core import binder\n",
    "binder.bind(globals())\n",
    "from learntools.data_viz_to_coder.ex2 import *\n",
    "print(\"Setup Complete\")"
   ]
  },
  {
   "cell_type": "markdown",
   "id": "0b28bbd5",
   "metadata": {
    "papermill": {
     "duration": 0.008727,
     "end_time": "2023-09-02T16:16:01.806933",
     "exception": false,
     "start_time": "2023-09-02T16:16:01.798206",
     "status": "completed"
    },
    "tags": []
   },
   "source": [
    "## Step 1: Load the data\n",
    "\n",
    "Your first assignment is to read the LA Museum Visitors data file into `museum_data`.  Note that:\n",
    "- The filepath to the dataset is stored as `museum_filepath`.  Please **do not** change the provided value of the filepath.\n",
    "- The name of the column to use as row labels is `\"Date\"`.  (This can be seen in cell A1 when the file is opened in Excel.)\n",
    "\n",
    "To help with this, you may find it useful to revisit some relevant code from the tutorial, which we have pasted below:\n",
    "\n",
    "```python\n",
    "# Path of the file to read\n",
    "spotify_filepath = \"../input/spotify.csv\"\n",
    "\n",
    "# Read the file into a variable spotify_data\n",
    "spotify_data = pd.read_csv(spotify_filepath, index_col=\"Date\", parse_dates=True)\n",
    "```\n",
    "\n",
    "The code you need to write now looks very similar!"
   ]
  },
  {
   "cell_type": "code",
   "execution_count": 3,
   "id": "d48182df",
   "metadata": {
    "execution": {
     "iopub.execute_input": "2023-09-02T16:16:01.827611Z",
     "iopub.status.busy": "2023-09-02T16:16:01.826985Z",
     "iopub.status.idle": "2023-09-02T16:16:01.857459Z",
     "shell.execute_reply": "2023-09-02T16:16:01.856315Z"
    },
    "papermill": {
     "duration": 0.043691,
     "end_time": "2023-09-02T16:16:01.859865",
     "exception": false,
     "start_time": "2023-09-02T16:16:01.816174",
     "status": "completed"
    },
    "tags": []
   },
   "outputs": [
    {
     "data": {
      "application/javascript": [
       "parent.postMessage({\"jupyterEvent\": \"custom.exercise_interaction\", \"data\": {\"outcomeType\": 1, \"valueTowardsCompletion\": 0.3333333333333333, \"interactionType\": 1, \"questionType\": 1, \"questionId\": \"1_LoadMuseumData\", \"learnToolsVersion\": \"0.3.4\", \"failureMessage\": \"\", \"exceptionClass\": \"\", \"trace\": \"\"}}, \"*\")"
      ],
      "text/plain": [
       "<IPython.core.display.Javascript object>"
      ]
     },
     "metadata": {},
     "output_type": "display_data"
    },
    {
     "data": {
      "text/markdown": [
       "<span style=\"color:#33cc33\">Correct</span>"
      ],
      "text/plain": [
       "Correct"
      ]
     },
     "metadata": {},
     "output_type": "display_data"
    }
   ],
   "source": [
    "# Path of the file to read\n",
    "museum_filepath = \"../input/museum_visitors.csv\"\n",
    "\n",
    "# Fill in the line below to read the file into a variable museum_data\n",
    "museum_data = pd.read_csv(museum_filepath, index_col=\"Date\", parse_dates=True)\n",
    "\n",
    "# Run the line below with no changes to check that you've loaded the data correctly\n",
    "step_1.check()"
   ]
  },
  {
   "cell_type": "code",
   "execution_count": 4,
   "id": "e13e58c9",
   "metadata": {
    "execution": {
     "iopub.execute_input": "2023-09-02T16:16:01.881048Z",
     "iopub.status.busy": "2023-09-02T16:16:01.880618Z",
     "iopub.status.idle": "2023-09-02T16:16:01.885617Z",
     "shell.execute_reply": "2023-09-02T16:16:01.884172Z"
    },
    "papermill": {
     "duration": 0.018826,
     "end_time": "2023-09-02T16:16:01.888148",
     "exception": false,
     "start_time": "2023-09-02T16:16:01.869322",
     "status": "completed"
    },
    "tags": []
   },
   "outputs": [],
   "source": [
    "# Uncomment the line below to receive a hint\n",
    "# step_1.hint()\n",
    "# Uncomment the line below to see the solution\n",
    "# step_1.solution()"
   ]
  },
  {
   "cell_type": "markdown",
   "id": "7ff6f653",
   "metadata": {
    "papermill": {
     "duration": 0.009329,
     "end_time": "2023-09-02T16:16:01.907012",
     "exception": false,
     "start_time": "2023-09-02T16:16:01.897683",
     "status": "completed"
    },
    "tags": []
   },
   "source": [
    "## Step 2: Review the data\n",
    "\n",
    "Use a Python command to print the last 5 rows of the data."
   ]
  },
  {
   "cell_type": "code",
   "execution_count": 5,
   "id": "5fff67cf",
   "metadata": {
    "execution": {
     "iopub.execute_input": "2023-09-02T16:16:01.928030Z",
     "iopub.status.busy": "2023-09-02T16:16:01.927336Z",
     "iopub.status.idle": "2023-09-02T16:16:01.943265Z",
     "shell.execute_reply": "2023-09-02T16:16:01.942322Z"
    },
    "papermill": {
     "duration": 0.029126,
     "end_time": "2023-09-02T16:16:01.945678",
     "exception": false,
     "start_time": "2023-09-02T16:16:01.916552",
     "status": "completed"
    },
    "tags": []
   },
   "outputs": [
    {
     "data": {
      "text/html": [
       "<div>\n",
       "<style scoped>\n",
       "    .dataframe tbody tr th:only-of-type {\n",
       "        vertical-align: middle;\n",
       "    }\n",
       "\n",
       "    .dataframe tbody tr th {\n",
       "        vertical-align: top;\n",
       "    }\n",
       "\n",
       "    .dataframe thead th {\n",
       "        text-align: right;\n",
       "    }\n",
       "</style>\n",
       "<table border=\"1\" class=\"dataframe\">\n",
       "  <thead>\n",
       "    <tr style=\"text-align: right;\">\n",
       "      <th></th>\n",
       "      <th>Avila Adobe</th>\n",
       "      <th>Firehouse Museum</th>\n",
       "      <th>Chinese American Museum</th>\n",
       "      <th>America Tropical Interpretive Center</th>\n",
       "    </tr>\n",
       "    <tr>\n",
       "      <th>Date</th>\n",
       "      <th></th>\n",
       "      <th></th>\n",
       "      <th></th>\n",
       "      <th></th>\n",
       "    </tr>\n",
       "  </thead>\n",
       "  <tbody>\n",
       "    <tr>\n",
       "      <th>2018-07-01</th>\n",
       "      <td>23136</td>\n",
       "      <td>4191</td>\n",
       "      <td>2620</td>\n",
       "      <td>4718</td>\n",
       "    </tr>\n",
       "    <tr>\n",
       "      <th>2018-08-01</th>\n",
       "      <td>20815</td>\n",
       "      <td>4866</td>\n",
       "      <td>2409</td>\n",
       "      <td>3891</td>\n",
       "    </tr>\n",
       "    <tr>\n",
       "      <th>2018-09-01</th>\n",
       "      <td>21020</td>\n",
       "      <td>4956</td>\n",
       "      <td>2146</td>\n",
       "      <td>3180</td>\n",
       "    </tr>\n",
       "    <tr>\n",
       "      <th>2018-10-01</th>\n",
       "      <td>19280</td>\n",
       "      <td>4622</td>\n",
       "      <td>2364</td>\n",
       "      <td>3775</td>\n",
       "    </tr>\n",
       "    <tr>\n",
       "      <th>2018-11-01</th>\n",
       "      <td>17163</td>\n",
       "      <td>4082</td>\n",
       "      <td>2385</td>\n",
       "      <td>4562</td>\n",
       "    </tr>\n",
       "  </tbody>\n",
       "</table>\n",
       "</div>"
      ],
      "text/plain": [
       "            Avila Adobe  Firehouse Museum  Chinese American Museum  \\\n",
       "Date                                                                 \n",
       "2018-07-01        23136              4191                     2620   \n",
       "2018-08-01        20815              4866                     2409   \n",
       "2018-09-01        21020              4956                     2146   \n",
       "2018-10-01        19280              4622                     2364   \n",
       "2018-11-01        17163              4082                     2385   \n",
       "\n",
       "            America Tropical Interpretive Center  \n",
       "Date                                              \n",
       "2018-07-01                                  4718  \n",
       "2018-08-01                                  3891  \n",
       "2018-09-01                                  3180  \n",
       "2018-10-01                                  3775  \n",
       "2018-11-01                                  4562  "
      ]
     },
     "execution_count": 5,
     "metadata": {},
     "output_type": "execute_result"
    }
   ],
   "source": [
    "# Print the last five rows of the data \n",
    "museum_data.tail() # Your code here"
   ]
  },
  {
   "cell_type": "markdown",
   "id": "dd5a3967",
   "metadata": {
    "papermill": {
     "duration": 0.009539,
     "end_time": "2023-09-02T16:16:01.965247",
     "exception": false,
     "start_time": "2023-09-02T16:16:01.955708",
     "status": "completed"
    },
    "tags": []
   },
   "source": [
    "The last row (for `2018-11-01`) tracks the number of visitors to each museum in November 2018, the next-to-last row (for `2018-10-01`) tracks the number of visitors to each museum in October 2018, _and so on_.\n",
    "\n",
    "Use the last 5 rows of the data to answer the questions below."
   ]
  },
  {
   "cell_type": "code",
   "execution_count": 6,
   "id": "3941cab5",
   "metadata": {
    "execution": {
     "iopub.execute_input": "2023-09-02T16:16:01.986800Z",
     "iopub.status.busy": "2023-09-02T16:16:01.985943Z",
     "iopub.status.idle": "2023-09-02T16:16:01.994472Z",
     "shell.execute_reply": "2023-09-02T16:16:01.993573Z"
    },
    "papermill": {
     "duration": 0.021608,
     "end_time": "2023-09-02T16:16:01.996644",
     "exception": false,
     "start_time": "2023-09-02T16:16:01.975036",
     "status": "completed"
    },
    "tags": []
   },
   "outputs": [
    {
     "data": {
      "application/javascript": [
       "parent.postMessage({\"jupyterEvent\": \"custom.exercise_interaction\", \"data\": {\"outcomeType\": 1, \"valueTowardsCompletion\": 0.3333333333333333, \"interactionType\": 1, \"questionType\": 1, \"questionId\": \"2_ReviewData\", \"learnToolsVersion\": \"0.3.4\", \"failureMessage\": \"\", \"exceptionClass\": \"\", \"trace\": \"\"}}, \"*\")"
      ],
      "text/plain": [
       "<IPython.core.display.Javascript object>"
      ]
     },
     "metadata": {},
     "output_type": "display_data"
    },
    {
     "data": {
      "text/markdown": [
       "<span style=\"color:#33cc33\">Correct</span>"
      ],
      "text/plain": [
       "Correct"
      ]
     },
     "metadata": {},
     "output_type": "display_data"
    }
   ],
   "source": [
    "# Fill in the line below: How many visitors did the Chinese American Museum \n",
    "# receive in July 2018?\n",
    "ca_museum_jul18 = 2620\n",
    "\n",
    "# Fill in the line below: In October 2018, how many more visitors did Avila \n",
    "# Adobe receive than the Firehouse Museum?\n",
    "avila_oct18 = 14658\n",
    "\n",
    "# Check your answers\n",
    "step_2.check()"
   ]
  },
  {
   "cell_type": "code",
   "execution_count": 7,
   "id": "5389569e",
   "metadata": {
    "execution": {
     "iopub.execute_input": "2023-09-02T16:16:02.018942Z",
     "iopub.status.busy": "2023-09-02T16:16:02.018260Z",
     "iopub.status.idle": "2023-09-02T16:16:02.022064Z",
     "shell.execute_reply": "2023-09-02T16:16:02.021290Z"
    },
    "papermill": {
     "duration": 0.017628,
     "end_time": "2023-09-02T16:16:02.024323",
     "exception": false,
     "start_time": "2023-09-02T16:16:02.006695",
     "status": "completed"
    },
    "tags": []
   },
   "outputs": [],
   "source": [
    "# Lines below will give you a hint or solution code\n",
    "#step_2.hint()\n",
    "#step_2.solution()"
   ]
  },
  {
   "cell_type": "markdown",
   "id": "b788720d",
   "metadata": {
    "papermill": {
     "duration": 0.009569,
     "end_time": "2023-09-02T16:16:02.044092",
     "exception": false,
     "start_time": "2023-09-02T16:16:02.034523",
     "status": "completed"
    },
    "tags": []
   },
   "source": [
    "## Step 3: Convince the museum board \n",
    "\n",
    "The Firehouse Museum claims they ran an event in 2014 that brought an incredible number of visitors, and that they should get extra budget to run a similar event again.  The other museums think these types of events aren't that important, and budgets should be split purely based on recent visitors on an average day.  \n",
    "\n",
    "To show the museum board how the event compared to regular traffic at each museum, create a line chart that shows how the number of visitors to each museum evolved over time.  Your figure should have four lines (one for each museum).\n",
    "\n",
    "> **(Optional) Note**: If you have some prior experience with plotting figures in Python, you might be familiar with the `plt.show()` command.  If you decide to use this command, please place it **after** the line of code that checks your answer (in this case, place it after `step_3.check()` below) -- otherwise, the checking code will return an error!"
   ]
  },
  {
   "cell_type": "code",
   "execution_count": 8,
   "id": "4fc7cbb5",
   "metadata": {
    "execution": {
     "iopub.execute_input": "2023-09-02T16:16:02.066512Z",
     "iopub.status.busy": "2023-09-02T16:16:02.065822Z",
     "iopub.status.idle": "2023-09-02T16:16:02.678610Z",
     "shell.execute_reply": "2023-09-02T16:16:02.677383Z"
    },
    "papermill": {
     "duration": 0.627863,
     "end_time": "2023-09-02T16:16:02.681993",
     "exception": false,
     "start_time": "2023-09-02T16:16:02.054130",
     "status": "completed"
    },
    "tags": []
   },
   "outputs": [
    {
     "data": {
      "application/javascript": [
       "parent.postMessage({\"jupyterEvent\": \"custom.exercise_interaction\", \"data\": {\"outcomeType\": 1, \"valueTowardsCompletion\": 0.3333333333333333, \"interactionType\": 1, \"questionType\": 2, \"questionId\": \"3_PlotAll\", \"learnToolsVersion\": \"0.3.4\", \"failureMessage\": \"\", \"exceptionClass\": \"\", \"trace\": \"\"}}, \"*\")"
      ],
      "text/plain": [
       "<IPython.core.display.Javascript object>"
      ]
     },
     "metadata": {},
     "output_type": "display_data"
    },
    {
     "data": {
      "text/markdown": [
       "<span style=\"color:#33cc33\">Correct</span>"
      ],
      "text/plain": [
       "Correct"
      ]
     },
     "metadata": {},
     "output_type": "display_data"
    },
    {
     "data": {
      "image/png": "[encoded data removed]",
      "text/plain": [
       "<Figure size 640x480 with 1 Axes>"
      ]
     },
     "metadata": {},
     "output_type": "display_data"
    }
   ],
   "source": [
    "# Line chart showing the number of visitors to each museum over time\n",
    "plt.title(\"Number of visitors to each museum over time\")\n",
    "\n",
    "# Line chart showing daily global streams of each song \n",
    "sns.lineplot(data=museum_data)\n",
    "\n",
    "# Check your answer\n",
    "step_3.check()"
   ]
  },
  {
   "cell_type": "code",
   "execution_count": 9,
   "id": "69cc9a4f",
   "metadata": {
    "execution": {
     "iopub.execute_input": "2023-09-02T16:16:02.711620Z",
     "iopub.status.busy": "2023-09-02T16:16:02.711240Z",
     "iopub.status.idle": "2023-09-02T16:16:02.715347Z",
     "shell.execute_reply": "2023-09-02T16:16:02.714435Z"
    },
    "papermill": {
     "duration": 0.020822,
     "end_time": "2023-09-02T16:16:02.717632",
     "exception": false,
     "start_time": "2023-09-02T16:16:02.696810",
     "status": "completed"
    },
    "tags": []
   },
   "outputs": [],
   "source": [
    "# Lines below will give you a hint or solution code\n",
    "#step_3.hint()\n",
    "#step_3.solution_plot()"
   ]
  },
  {
   "cell_type": "markdown",
   "id": "14faffc9",
   "metadata": {
    "papermill": {
     "duration": 0.011642,
     "end_time": "2023-09-02T16:16:02.741652",
     "exception": false,
     "start_time": "2023-09-02T16:16:02.730010",
     "status": "completed"
    },
    "tags": []
   },
   "source": [
    "## Step 4: Assess seasonality\n",
    "\n",
    "When meeting with the employees at Avila Adobe, you hear that one major pain point is that the number of museum visitors varies greatly with the seasons, with low seasons (when the employees are perfectly staffed and happy) and also high seasons (when the employees are understaffed and stressed).  You realize that if you can predict these high and low seasons, you can plan ahead to hire some additional seasonal employees to help out with the extra work.\n",
    "\n",
    "#### Part A\n",
    "Create a line chart that shows how the number of visitors to Avila Adobe has evolved over time.  (_If your code returns an error, the first thing that you should check is that you've spelled the name of the column correctly!  You must write the name of the column exactly as it appears in the dataset._)"
   ]
  },
  {
   "cell_type": "code",
   "execution_count": 10,
   "id": "4246debe",
   "metadata": {
    "execution": {
     "iopub.execute_input": "2023-09-02T16:16:02.768145Z",
     "iopub.status.busy": "2023-09-02T16:16:02.767207Z",
     "iopub.status.idle": "2023-09-02T16:16:03.191281Z",
     "shell.execute_reply": "2023-09-02T16:16:03.190092Z"
    },
    "papermill": {
     "duration": 0.440297,
     "end_time": "2023-09-02T16:16:03.193989",
     "exception": false,
     "start_time": "2023-09-02T16:16:02.753692",
     "status": "completed"
    },
    "tags": []
   },
   "outputs": [
    {
     "name": "stdout",
     "output_type": "stream",
     "text": [
      "Thank you for creating a line chart!  To see how your code compares to the official solution, please use the code cell below.\n"
     ]
    },
    {
     "data": {
      "application/javascript": [
       "parent.postMessage({\"jupyterEvent\": \"custom.exercise_interaction\", \"data\": {\"outcomeType\": 1, \"valueTowardsCompletion\": 0.3333333333333333, \"interactionType\": 1, \"questionType\": 2, \"questionId\": \"4.1_PlotAvila\", \"learnToolsVersion\": \"0.3.4\", \"failureMessage\": \"\", \"exceptionClass\": \"\", \"trace\": \"\"}}, \"*\")"
      ],
      "text/plain": [
       "<IPython.core.display.Javascript object>"
      ]
     },
     "metadata": {},
     "output_type": "display_data"
    },
    {
     "data": {
      "text/markdown": [
       "<span style=\"color:#33cc33\">Correct</span>"
      ],
      "text/plain": [
       "Correct"
      ]
     },
     "metadata": {},
     "output_type": "display_data"
    },
    {
     "data": {
      "image/png": "[encoded data removed]",
      "text/plain": [
       "<Figure size 640x480 with 1 Axes>"
      ]
     },
     "metadata": {},
     "output_type": "display_data"
    }
   ],
   "source": [
    "# Line plot showing the number of visitors to Avila Adobe over time\n",
    "sns.lineplot(data=museum_data['Avila Adobe'], label=\"Avila Adobe\")\n",
    "\n",
    "# Check your answer\n",
    "step_4.a.check()"
   ]
  },
  {
   "cell_type": "code",
   "execution_count": 11,
   "id": "5444ad61",
   "metadata": {
    "execution": {
     "iopub.execute_input": "2023-09-02T16:16:03.222857Z",
     "iopub.status.busy": "2023-09-02T16:16:03.222436Z",
     "iopub.status.idle": "2023-09-02T16:16:03.227425Z",
     "shell.execute_reply": "2023-09-02T16:16:03.226336Z"
    },
    "papermill": {
     "duration": 0.022406,
     "end_time": "2023-09-02T16:16:03.230002",
     "exception": false,
     "start_time": "2023-09-02T16:16:03.207596",
     "status": "completed"
    },
    "tags": []
   },
   "outputs": [],
   "source": [
    "# Lines below will give you a hint or solution code\n",
    "#step_4.a.hint()\n",
    "#step_4.a.solution_plot()"
   ]
  },
  {
   "cell_type": "markdown",
   "id": "091d7dcf",
   "metadata": {
    "papermill": {
     "duration": 0.013118,
     "end_time": "2023-09-02T16:16:03.256644",
     "exception": false,
     "start_time": "2023-09-02T16:16:03.243526",
     "status": "completed"
    },
    "tags": []
   },
   "source": [
    "#### Part B\n",
    "\n",
    "Does Avila Adobe get more visitors:\n",
    "- in September-February (in LA, the fall and winter months), or \n",
    "- in March-August (in LA, the spring and summer)?  \n",
    "\n",
    "Using this information, when should the museum staff additional seasonal employees?"
   ]
  },
  {
   "cell_type": "code",
   "execution_count": 12,
   "id": "63a08c8b",
   "metadata": {
    "execution": {
     "iopub.execute_input": "2023-09-02T16:16:03.285269Z",
     "iopub.status.busy": "2023-09-02T16:16:03.284573Z",
     "iopub.status.idle": "2023-09-02T16:16:03.289638Z",
     "shell.execute_reply": "2023-09-02T16:16:03.288535Z"
    },
    "papermill": {
     "duration": 0.022227,
     "end_time": "2023-09-02T16:16:03.292080",
     "exception": false,
     "start_time": "2023-09-02T16:16:03.269853",
     "status": "completed"
    },
    "tags": []
   },
   "outputs": [],
   "source": [
    "#step_4.b.hint()"
   ]
  },
  {
   "cell_type": "code",
   "execution_count": 13,
   "id": "761f2fd0",
   "metadata": {
    "execution": {
     "iopub.execute_input": "2023-09-02T16:16:03.320329Z",
     "iopub.status.busy": "2023-09-02T16:16:03.319956Z",
     "iopub.status.idle": "2023-09-02T16:16:03.328742Z",
     "shell.execute_reply": "2023-09-02T16:16:03.327594Z"
    },
    "papermill": {
     "duration": 0.025813,
     "end_time": "2023-09-02T16:16:03.331079",
     "exception": false,
     "start_time": "2023-09-02T16:16:03.305266",
     "status": "completed"
    },
    "tags": []
   },
   "outputs": [
    {
     "data": {
      "application/javascript": [
       "parent.postMessage({\"jupyterEvent\": \"custom.exercise_interaction\", \"data\": {\"interactionType\": 3, \"questionType\": 4, \"questionId\": \"4.2_ThinkAvila\", \"learnToolsVersion\": \"0.3.4\", \"valueTowardsCompletion\": 0.0, \"failureMessage\": \"\", \"exceptionClass\": \"\", \"trace\": \"\", \"outcomeType\": 4}}, \"*\")"
      ],
      "text/plain": [
       "<IPython.core.display.Javascript object>"
      ]
     },
     "metadata": {},
     "output_type": "display_data"
    },
    {
     "data": {
      "text/markdown": [
       "<span style=\"color:#33cc99\">Solution:</span> The line chart generally dips to relatively low values around the early part of each year (in December and January), and reaches its highest values in the middle of the year (especially around May and June).  Thus, Avila Adobe usually gets more visitors in March-August (or the spring and summer months).  With this in mind, Avila Adobe could definitely benefit from hiring more seasonal employees to help with the extra work in March-August (the spring and summer)!"
      ],
      "text/plain": [
       "Solution: The line chart generally dips to relatively low values around the early part of each year (in December and January), and reaches its highest values in the middle of the year (especially around May and June).  Thus, Avila Adobe usually gets more visitors in March-August (or the spring and summer months).  With this in mind, Avila Adobe could definitely benefit from hiring more seasonal employees to help with the extra work in March-August (the spring and summer)!"
      ]
     },
     "metadata": {},
     "output_type": "display_data"
    }
   ],
   "source": [
    "# Check your answer (Run this code cell to receive credit!)\n",
    "step_4.b.solution()"
   ]
  },
  {
   "cell_type": "markdown",
   "id": "fb144da3",
   "metadata": {
    "papermill": {
     "duration": 0.013185,
     "end_time": "2023-09-02T16:16:03.357835",
     "exception": false,
     "start_time": "2023-09-02T16:16:03.344650",
     "status": "completed"
    },
    "tags": []
   },
   "source": [
    "# Keep going\n",
    "\n",
    "Move on to learn about **[bar charts and heatmaps](https://www.kaggle.com/alexisbcook/bar-charts-and-heatmaps)** with a new dataset!"
   ]
  },
  {
   "cell_type": "markdown",
   "id": "742489e6",
   "metadata": {
    "papermill": {
     "duration": 0.01318,
     "end_time": "2023-09-02T16:16:03.384364",
     "exception": false,
     "start_time": "2023-09-02T16:16:03.371184",
     "status": "completed"
    },
    "tags": []
   },
   "source": [
    "---\n",
    "\n",
    "\n",
    "\n",
    "\n",
    "*Have questions or comments? Visit the [course discussion forum](https://www.kaggle.com/learn/data-visualization/discussion) to chat with other learners.*"
   ]
  }
 ],
 "kernelspec": {
  "display_name": "Python 3",
  "language": "python",
  "name": "python3"
 },
 "language_info": {
  "codemirror_mode": {
   "name": "ipython",
   "version": 3
  },
  "file_extension": ".py",
  "mimetype": "text/x-python",
  "name": "python",
  "nbconvert_exporter": "python",
  "pygments_lexer": "ipython3",
  "version": "3.6.4"
 },
 "metadata": {
  "kernelspec": {
   "display_name": "Python 3",
   "language": "python",
   "name": "python3"
  },
  "language_info": {
   "codemirror_mode": {
    "name": "ipython",
    "version": 3
   },
   "file_extension": ".py",
   "mimetype": "text/x-python",
   "name": "python",
   "nbconvert_exporter": "python",
   "pygments_lexer": "ipython3",
   "version": "3.10.12"
  },
  "papermill": {
   "default_parameters": {},
   "duration": 8.044564,
   "end_time": "2023-09-02T16:16:04.018799",
   "environment_variables": {},
   "exception": null,
   "input_path": "__notebook__.ipynb",
   "output_path": "__notebook__.ipynb",
   "parameters": {},
   "start_time": "2023-09-02T16:15:55.974235",
   "version": "2.4.0"
  }
 },
 "nbformat": 4,
 "nbformat_minor": 5
}
