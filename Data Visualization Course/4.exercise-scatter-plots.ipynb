{
 "cells": [
  {
   "cell_type": "markdown",
   "id": "7e401749",
   "metadata": {
    "papermill": {
     "duration": 0.015692,
     "end_time": "2023-09-02T16:22:24.641947",
     "exception": false,
     "start_time": "2023-09-02T16:22:24.626255",
     "status": "completed"
    },
    "tags": []
   },
   "source": [
    "**This notebook is an exercise in the [Data Visualization](https://www.kaggle.com/learn/data-visualization) course.  You can reference the tutorial at [this link](https://www.kaggle.com/alexisbcook/scatter-plots).**\n",
    "\n",
    "---\n"
   ]
  },
  {
   "cell_type": "markdown",
   "id": "5932da24",
   "metadata": {
    "papermill": {
     "duration": 0.013223,
     "end_time": "2023-09-02T16:22:24.668780",
     "exception": false,
     "start_time": "2023-09-02T16:22:24.655557",
     "status": "completed"
    },
    "tags": []
   },
   "source": [
    "In this exercise, you will use your new knowledge to propose a solution to a real-world scenario.  To succeed, you will need to import data into Python, answer questions using the data, and generate **scatter plots** to understand patterns in the data.\n",
    "\n",
    "## Scenario\n",
    "\n",
    "You work for a major candy producer, and your goal is to write a report that your company can use to guide the design of its next product.  Soon after starting your research, you stumble across this [very interesting dataset](https://fivethirtyeight.com/features/the-ultimate-halloween-candy-power-ranking/) containing results from a fun survey to crowdsource favorite candies.\n",
    "\n",
    "## Setup\n",
    "\n",
    "Run the next cell to import and configure the Python libraries that you need to complete the exercise."
   ]
  },
  {
   "cell_type": "code",
   "execution_count": 1,
   "id": "1f6ad881",
   "metadata": {
    "execution": {
     "iopub.execute_input": "2023-09-02T16:22:24.697401Z",
     "iopub.status.busy": "2023-09-02T16:22:24.696999Z",
     "iopub.status.idle": "2023-09-02T16:22:26.810635Z",
     "shell.execute_reply": "2023-09-02T16:22:26.809527Z"
    },
    "papermill": {
     "duration": 2.130929,
     "end_time": "2023-09-02T16:22:26.813173",
     "exception": false,
     "start_time": "2023-09-02T16:22:24.682244",
     "status": "completed"
    },
    "tags": []
   },
   "outputs": [
    {
     "name": "stdout",
     "output_type": "stream",
     "text": [
      "Setup Complete\n"
     ]
    }
   ],
   "source": [
    "import pandas as pd\n",
    "pd.plotting.register_matplotlib_converters()\n",
    "import matplotlib.pyplot as plt\n",
    "%matplotlib inline\n",
    "import seaborn as sns\n",
    "print(\"Setup Complete\")"
   ]
  },
  {
   "cell_type": "markdown",
   "id": "a3442b97",
   "metadata": {
    "papermill": {
     "duration": 0.013392,
     "end_time": "2023-09-02T16:22:26.840299",
     "exception": false,
     "start_time": "2023-09-02T16:22:26.826907",
     "status": "completed"
    },
    "tags": []
   },
   "source": [
    "The questions below will give you feedback on your work. Run the following cell to set up our feedback system."
   ]
  },
  {
   "cell_type": "code",
   "execution_count": 2,
   "id": "76b90c24",
   "metadata": {
    "execution": {
     "iopub.execute_input": "2023-09-02T16:22:26.870408Z",
     "iopub.status.busy": "2023-09-02T16:22:26.869153Z",
     "iopub.status.idle": "2023-09-02T16:22:26.947533Z",
     "shell.execute_reply": "2023-09-02T16:22:26.946315Z"
    },
    "papermill": {
     "duration": 0.096004,
     "end_time": "2023-09-02T16:22:26.949982",
     "exception": false,
     "start_time": "2023-09-02T16:22:26.853978",
     "status": "completed"
    },
    "tags": []
   },
   "outputs": [
    {
     "name": "stdout",
     "output_type": "stream",
     "text": [
      "Setup Complete\n"
     ]
    }
   ],
   "source": [
    "# Set up code checking\n",
    "import os\n",
    "if not os.path.exists(\"../input/candy.csv\"):\n",
    "    os.symlink(\"../input/data-for-datavis/candy.csv\", \"../input/candy.csv\") \n",
    "from learntools.core import binder\n",
    "binder.bind(globals())\n",
    "from learntools.data_viz_to_coder.ex4 import *\n",
    "print(\"Setup Complete\")"
   ]
  },
  {
   "cell_type": "markdown",
   "id": "8e23152a",
   "metadata": {
    "papermill": {
     "duration": 0.013546,
     "end_time": "2023-09-02T16:22:26.977487",
     "exception": false,
     "start_time": "2023-09-02T16:22:26.963941",
     "status": "completed"
    },
    "tags": []
   },
   "source": [
    "## Step 1: Load the Data\n",
    "\n",
    "Read the candy data file into `candy_data`.  Use the `\"id\"` column to label the rows."
   ]
  },
  {
   "cell_type": "code",
   "execution_count": 3,
   "id": "ac7d4d38",
   "metadata": {
    "execution": {
     "iopub.execute_input": "2023-09-02T16:22:27.007082Z",
     "iopub.status.busy": "2023-09-02T16:22:27.006402Z",
     "iopub.status.idle": "2023-09-02T16:22:27.026886Z",
     "shell.execute_reply": "2023-09-02T16:22:27.025748Z"
    },
    "papermill": {
     "duration": 0.038001,
     "end_time": "2023-09-02T16:22:27.029313",
     "exception": false,
     "start_time": "2023-09-02T16:22:26.991312",
     "status": "completed"
    },
    "tags": []
   },
   "outputs": [
    {
     "data": {
      "application/javascript": [
       "parent.postMessage({\"jupyterEvent\": \"custom.exercise_interaction\", \"data\": {\"outcomeType\": 1, \"valueTowardsCompletion\": 0.3333333333333333, \"interactionType\": 1, \"questionType\": 1, \"questionId\": \"1_LoadData\", \"learnToolsVersion\": \"0.3.4\", \"failureMessage\": \"\", \"exceptionClass\": \"\", \"trace\": \"\"}}, \"*\")"
      ],
      "text/plain": [
       "<IPython.core.display.Javascript object>"
      ]
     },
     "metadata": {},
     "output_type": "display_data"
    },
    {
     "data": {
      "text/markdown": [
       "<span style=\"color:#33cc33\">Correct</span>"
      ],
      "text/plain": [
       "Correct"
      ]
     },
     "metadata": {},
     "output_type": "display_data"
    }
   ],
   "source": [
    "# Path of the file to read\n",
    "candy_filepath = \"../input/candy.csv\"\n",
    "\n",
    "# Fill in the line below to read the file into a variable candy_data\n",
    "candy_data = pd.read_csv(candy_filepath, index_col=\"id\")\n",
    "\n",
    "# Run the line below with no changes to check that you've loaded the data correctly\n",
    "step_1.check()"
   ]
  },
  {
   "cell_type": "code",
   "execution_count": 4,
   "id": "3a7d9cec",
   "metadata": {
    "execution": {
     "iopub.execute_input": "2023-09-02T16:22:27.059657Z",
     "iopub.status.busy": "2023-09-02T16:22:27.059274Z",
     "iopub.status.idle": "2023-09-02T16:22:27.064295Z",
     "shell.execute_reply": "2023-09-02T16:22:27.063099Z"
    },
    "papermill": {
     "duration": 0.022974,
     "end_time": "2023-09-02T16:22:27.066727",
     "exception": false,
     "start_time": "2023-09-02T16:22:27.043753",
     "status": "completed"
    },
    "tags": []
   },
   "outputs": [],
   "source": [
    "# Lines below will give you a hint or solution code\n",
    "#step_1.hint()\n",
    "#step_1.solution()"
   ]
  },
  {
   "cell_type": "markdown",
   "id": "0fa03785",
   "metadata": {
    "papermill": {
     "duration": 0.014246,
     "end_time": "2023-09-02T16:22:27.095647",
     "exception": false,
     "start_time": "2023-09-02T16:22:27.081401",
     "status": "completed"
    },
    "tags": []
   },
   "source": [
    "## Step 2: Review the data\n",
    "\n",
    "Use a Python command to print the first five rows of the data."
   ]
  },
  {
   "cell_type": "code",
   "execution_count": 5,
   "id": "7606694b",
   "metadata": {
    "execution": {
     "iopub.execute_input": "2023-09-02T16:22:27.126132Z",
     "iopub.status.busy": "2023-09-02T16:22:27.125739Z",
     "iopub.status.idle": "2023-09-02T16:22:27.148753Z",
     "shell.execute_reply": "2023-09-02T16:22:27.147777Z"
    },
    "papermill": {
     "duration": 0.040768,
     "end_time": "2023-09-02T16:22:27.150991",
     "exception": false,
     "start_time": "2023-09-02T16:22:27.110223",
     "status": "completed"
    },
    "tags": []
   },
   "outputs": [
    {
     "data": {
      "text/html": [
       "<div>\n",
       "<style scoped>\n",
       "    .dataframe tbody tr th:only-of-type {\n",
       "        vertical-align: middle;\n",
       "    }\n",
       "\n",
       "    .dataframe tbody tr th {\n",
       "        vertical-align: top;\n",
       "    }\n",
       "\n",
       "    .dataframe thead th {\n",
       "        text-align: right;\n",
       "    }\n",
       "</style>\n",
       "<table border=\"1\" class=\"dataframe\">\n",
       "  <thead>\n",
       "    <tr style=\"text-align: right;\">\n",
       "      <th></th>\n",
       "      <th>competitorname</th>\n",
       "      <th>chocolate</th>\n",
       "      <th>fruity</th>\n",
       "      <th>caramel</th>\n",
       "      <th>peanutyalmondy</th>\n",
       "      <th>nougat</th>\n",
       "      <th>crispedricewafer</th>\n",
       "      <th>hard</th>\n",
       "      <th>bar</th>\n",
       "      <th>pluribus</th>\n",
       "      <th>sugarpercent</th>\n",
       "      <th>pricepercent</th>\n",
       "      <th>winpercent</th>\n",
       "    </tr>\n",
       "    <tr>\n",
       "      <th>id</th>\n",
       "      <th></th>\n",
       "      <th></th>\n",
       "      <th></th>\n",
       "      <th></th>\n",
       "      <th></th>\n",
       "      <th></th>\n",
       "      <th></th>\n",
       "      <th></th>\n",
       "      <th></th>\n",
       "      <th></th>\n",
       "      <th></th>\n",
       "      <th></th>\n",
       "      <th></th>\n",
       "    </tr>\n",
       "  </thead>\n",
       "  <tbody>\n",
       "    <tr>\n",
       "      <th>0</th>\n",
       "      <td>100 Grand</td>\n",
       "      <td>Yes</td>\n",
       "      <td>No</td>\n",
       "      <td>Yes</td>\n",
       "      <td>No</td>\n",
       "      <td>No</td>\n",
       "      <td>Yes</td>\n",
       "      <td>No</td>\n",
       "      <td>Yes</td>\n",
       "      <td>No</td>\n",
       "      <td>0.732</td>\n",
       "      <td>0.860</td>\n",
       "      <td>66.971725</td>\n",
       "    </tr>\n",
       "    <tr>\n",
       "      <th>1</th>\n",
       "      <td>3 Musketeers</td>\n",
       "      <td>Yes</td>\n",
       "      <td>No</td>\n",
       "      <td>No</td>\n",
       "      <td>No</td>\n",
       "      <td>Yes</td>\n",
       "      <td>No</td>\n",
       "      <td>No</td>\n",
       "      <td>Yes</td>\n",
       "      <td>No</td>\n",
       "      <td>0.604</td>\n",
       "      <td>0.511</td>\n",
       "      <td>67.602936</td>\n",
       "    </tr>\n",
       "    <tr>\n",
       "      <th>2</th>\n",
       "      <td>Air Heads</td>\n",
       "      <td>No</td>\n",
       "      <td>Yes</td>\n",
       "      <td>No</td>\n",
       "      <td>No</td>\n",
       "      <td>No</td>\n",
       "      <td>No</td>\n",
       "      <td>No</td>\n",
       "      <td>No</td>\n",
       "      <td>No</td>\n",
       "      <td>0.906</td>\n",
       "      <td>0.511</td>\n",
       "      <td>52.341465</td>\n",
       "    </tr>\n",
       "    <tr>\n",
       "      <th>3</th>\n",
       "      <td>Almond Joy</td>\n",
       "      <td>Yes</td>\n",
       "      <td>No</td>\n",
       "      <td>No</td>\n",
       "      <td>Yes</td>\n",
       "      <td>No</td>\n",
       "      <td>No</td>\n",
       "      <td>No</td>\n",
       "      <td>Yes</td>\n",
       "      <td>No</td>\n",
       "      <td>0.465</td>\n",
       "      <td>0.767</td>\n",
       "      <td>50.347546</td>\n",
       "    </tr>\n",
       "    <tr>\n",
       "      <th>4</th>\n",
       "      <td>Baby Ruth</td>\n",
       "      <td>Yes</td>\n",
       "      <td>No</td>\n",
       "      <td>Yes</td>\n",
       "      <td>Yes</td>\n",
       "      <td>Yes</td>\n",
       "      <td>No</td>\n",
       "      <td>No</td>\n",
       "      <td>Yes</td>\n",
       "      <td>No</td>\n",
       "      <td>0.604</td>\n",
       "      <td>0.767</td>\n",
       "      <td>56.914547</td>\n",
       "    </tr>\n",
       "  </tbody>\n",
       "</table>\n",
       "</div>"
      ],
      "text/plain": [
       "   competitorname chocolate fruity caramel peanutyalmondy nougat  \\\n",
       "id                                                                 \n",
       "0       100 Grand       Yes     No     Yes             No     No   \n",
       "1    3 Musketeers       Yes     No      No             No    Yes   \n",
       "2       Air Heads        No    Yes      No             No     No   \n",
       "3      Almond Joy       Yes     No      No            Yes     No   \n",
       "4       Baby Ruth       Yes     No     Yes            Yes    Yes   \n",
       "\n",
       "   crispedricewafer hard  bar pluribus  sugarpercent  pricepercent  winpercent  \n",
       "id                                                                              \n",
       "0               Yes   No  Yes       No         0.732         0.860   66.971725  \n",
       "1                No   No  Yes       No         0.604         0.511   67.602936  \n",
       "2                No   No   No       No         0.906         0.511   52.341465  \n",
       "3                No   No  Yes       No         0.465         0.767   50.347546  \n",
       "4                No   No  Yes       No         0.604         0.767   56.914547  "
      ]
     },
     "execution_count": 5,
     "metadata": {},
     "output_type": "execute_result"
    }
   ],
   "source": [
    "# Print the first five rows of the data\n",
    "candy_data.head() # Your code here"
   ]
  },
  {
   "cell_type": "markdown",
   "id": "041794c6",
   "metadata": {
    "papermill": {
     "duration": 0.014321,
     "end_time": "2023-09-02T16:22:27.180407",
     "exception": false,
     "start_time": "2023-09-02T16:22:27.166086",
     "status": "completed"
    },
    "tags": []
   },
   "source": [
    "The dataset contains 83 rows, where each corresponds to a different candy bar.  There are 13 columns:\n",
    "- `'competitorname'` contains the name of the candy bar. \n",
    "- the next **9** columns (from `'chocolate'` to `'pluribus'`) describe the candy.  For instance, rows with chocolate candies have `\"Yes\"` in the `'chocolate'` column (and candies without chocolate have `\"No\"` in the same column).\n",
    "- `'sugarpercent'` provides some indication of the amount of sugar, where higher values signify higher sugar content.\n",
    "- `'pricepercent'` shows the price per unit, relative to the other candies in the dataset.\n",
    "- `'winpercent'` is calculated from the survey results; higher values indicate that the candy was more popular with survey respondents.\n",
    "\n",
    "Use the first five rows of the data to answer the questions below."
   ]
  },
  {
   "cell_type": "code",
   "execution_count": 6,
   "id": "d6f4d14d",
   "metadata": {
    "execution": {
     "iopub.execute_input": "2023-09-02T16:22:27.211729Z",
     "iopub.status.busy": "2023-09-02T16:22:27.211319Z",
     "iopub.status.idle": "2023-09-02T16:22:27.221241Z",
     "shell.execute_reply": "2023-09-02T16:22:27.220102Z"
    },
    "papermill": {
     "duration": 0.028483,
     "end_time": "2023-09-02T16:22:27.223877",
     "exception": false,
     "start_time": "2023-09-02T16:22:27.195394",
     "status": "completed"
    },
    "tags": []
   },
   "outputs": [
    {
     "data": {
      "application/javascript": [
       "parent.postMessage({\"jupyterEvent\": \"custom.exercise_interaction\", \"data\": {\"outcomeType\": 1, \"valueTowardsCompletion\": 0.3333333333333333, \"interactionType\": 1, \"questionType\": 1, \"questionId\": \"2_ReviewData\", \"learnToolsVersion\": \"0.3.4\", \"failureMessage\": \"\", \"exceptionClass\": \"\", \"trace\": \"\"}}, \"*\")"
      ],
      "text/plain": [
       "<IPython.core.display.Javascript object>"
      ]
     },
     "metadata": {},
     "output_type": "display_data"
    },
    {
     "data": {
      "text/markdown": [
       "<span style=\"color:#33cc33\">Correct</span>"
      ],
      "text/plain": [
       "Correct"
      ]
     },
     "metadata": {},
     "output_type": "display_data"
    }
   ],
   "source": [
    "# Print the first five rows of the data\n",
    "candy_data.head()\n",
    "# Which candy was more popular with survey respondents:\n",
    "# '3 Musketeers' or 'Almond Joy'?\n",
    "more_popular = '3 Musketeers'\n",
    "# Which candy has higher sugar content: 'Air Heads'\n",
    "# or 'Baby Ruth'?\n",
    "more_sugar = 'Air Heads'\n",
    "step_2.check()"
   ]
  },
  {
   "cell_type": "code",
   "execution_count": 7,
   "id": "a7ccd4a0",
   "metadata": {
    "execution": {
     "iopub.execute_input": "2023-09-02T16:22:27.255553Z",
     "iopub.status.busy": "2023-09-02T16:22:27.255145Z",
     "iopub.status.idle": "2023-09-02T16:22:27.259763Z",
     "shell.execute_reply": "2023-09-02T16:22:27.258573Z"
    },
    "papermill": {
     "duration": 0.023087,
     "end_time": "2023-09-02T16:22:27.261945",
     "exception": false,
     "start_time": "2023-09-02T16:22:27.238858",
     "status": "completed"
    },
    "tags": []
   },
   "outputs": [],
   "source": [
    "# Lines below will give you a hint or solution code\n",
    "#step_2.hint()\n",
    "#step_2.solution()"
   ]
  },
  {
   "cell_type": "markdown",
   "id": "a408eb17",
   "metadata": {
    "papermill": {
     "duration": 0.014517,
     "end_time": "2023-09-02T16:22:27.291411",
     "exception": false,
     "start_time": "2023-09-02T16:22:27.276894",
     "status": "completed"
    },
    "tags": []
   },
   "source": [
    "## Step 3: The role of sugar\n",
    "\n",
    "Do people tend to prefer candies with higher sugar content?  \n",
    "\n",
    "#### Part A\n",
    "\n",
    "Create a scatter plot that shows the relationship between `'sugarpercent'` (on the horizontal x-axis) and `'winpercent'` (on the vertical y-axis).  _Don't add a regression line just yet -- you'll do that in the next step!_"
   ]
  },
  {
   "cell_type": "code",
   "execution_count": 8,
   "id": "ff7be5ef",
   "metadata": {
    "execution": {
     "iopub.execute_input": "2023-09-02T16:22:27.323182Z",
     "iopub.status.busy": "2023-09-02T16:22:27.322785Z",
     "iopub.status.idle": "2023-09-02T16:22:27.630952Z",
     "shell.execute_reply": "2023-09-02T16:22:27.629781Z"
    },
    "papermill": {
     "duration": 0.327145,
     "end_time": "2023-09-02T16:22:27.633513",
     "exception": false,
     "start_time": "2023-09-02T16:22:27.306368",
     "status": "completed"
    },
    "tags": []
   },
   "outputs": [
    {
     "data": {
      "application/javascript": [
       "parent.postMessage({\"jupyterEvent\": \"custom.exercise_interaction\", \"data\": {\"outcomeType\": 1, \"valueTowardsCompletion\": 0.3333333333333333, \"interactionType\": 1, \"questionType\": 2, \"questionId\": \"3.1_PlotBlueScatter\", \"learnToolsVersion\": \"0.3.4\", \"failureMessage\": \"\", \"exceptionClass\": \"\", \"trace\": \"\"}}, \"*\")"
      ],
      "text/plain": [
       "<IPython.core.display.Javascript object>"
      ]
     },
     "metadata": {},
     "output_type": "display_data"
    },
    {
     "data": {
      "text/markdown": [
       "<span style=\"color:#33cc33\">Correct</span>"
      ],
      "text/plain": [
       "Correct"
      ]
     },
     "metadata": {},
     "output_type": "display_data"
    },
    {
     "data": {
      "image/png": "[encoded data removed]",
      "text/plain": [
       "<Figure size 640x480 with 1 Axes>"
      ]
     },
     "metadata": {},
     "output_type": "display_data"
    }
   ],
   "source": [
    "# Scatter plot showing the relationship between 'sugarpercent' and 'winpercent'\n",
    "sns.scatterplot(x= candy_data['sugarpercent'], y= candy_data['winpercent']) # Your code here\n",
    "\n",
    "# Check your answer\n",
    "step_3.a.check()"
   ]
  },
  {
   "cell_type": "code",
   "execution_count": 9,
   "id": "a7750383",
   "metadata": {
    "execution": {
     "iopub.execute_input": "2023-09-02T16:22:27.667544Z",
     "iopub.status.busy": "2023-09-02T16:22:27.666504Z",
     "iopub.status.idle": "2023-09-02T16:22:27.671462Z",
     "shell.execute_reply": "2023-09-02T16:22:27.670420Z"
    },
    "papermill": {
     "duration": 0.024229,
     "end_time": "2023-09-02T16:22:27.673680",
     "exception": false,
     "start_time": "2023-09-02T16:22:27.649451",
     "status": "completed"
    },
    "tags": []
   },
   "outputs": [],
   "source": [
    "# Lines below will give you a hint or solution code\n",
    "#step_3.a.hint()\n",
    "#step_3.a.solution_plot()"
   ]
  },
  {
   "cell_type": "markdown",
   "id": "86ae3d3a",
   "metadata": {
    "papermill": {
     "duration": 0.015258,
     "end_time": "2023-09-02T16:22:27.704788",
     "exception": false,
     "start_time": "2023-09-02T16:22:27.689530",
     "status": "completed"
    },
    "tags": []
   },
   "source": [
    "#### Part B\n",
    "\n",
    "Does the scatter plot show a **strong** correlation between the two variables?  If so, are candies with more sugar relatively more or less popular with the survey respondents?"
   ]
  },
  {
   "cell_type": "code",
   "execution_count": 10,
   "id": "5ecc18b5",
   "metadata": {
    "execution": {
     "iopub.execute_input": "2023-09-02T16:22:27.739157Z",
     "iopub.status.busy": "2023-09-02T16:22:27.738448Z",
     "iopub.status.idle": "2023-09-02T16:22:27.742553Z",
     "shell.execute_reply": "2023-09-02T16:22:27.741657Z"
    },
    "papermill": {
     "duration": 0.024269,
     "end_time": "2023-09-02T16:22:27.744790",
     "exception": false,
     "start_time": "2023-09-02T16:22:27.720521",
     "status": "completed"
    },
    "tags": []
   },
   "outputs": [],
   "source": [
    "#step_3.b.hint()"
   ]
  },
  {
   "cell_type": "code",
   "execution_count": 11,
   "id": "d8bf1975",
   "metadata": {
    "execution": {
     "iopub.execute_input": "2023-09-02T16:22:27.778146Z",
     "iopub.status.busy": "2023-09-02T16:22:27.777740Z",
     "iopub.status.idle": "2023-09-02T16:22:27.786464Z",
     "shell.execute_reply": "2023-09-02T16:22:27.785354Z"
    },
    "papermill": {
     "duration": 0.028044,
     "end_time": "2023-09-02T16:22:27.788678",
     "exception": false,
     "start_time": "2023-09-02T16:22:27.760634",
     "status": "completed"
    },
    "tags": []
   },
   "outputs": [
    {
     "data": {
      "application/javascript": [
       "parent.postMessage({\"jupyterEvent\": \"custom.exercise_interaction\", \"data\": {\"interactionType\": 3, \"questionType\": 4, \"questionId\": \"3.2_ThinkBlueScatter\", \"learnToolsVersion\": \"0.3.4\", \"valueTowardsCompletion\": 0.0, \"failureMessage\": \"\", \"exceptionClass\": \"\", \"trace\": \"\", \"outcomeType\": 4}}, \"*\")"
      ],
      "text/plain": [
       "<IPython.core.display.Javascript object>"
      ]
     },
     "metadata": {},
     "output_type": "display_data"
    },
    {
     "data": {
      "text/markdown": [
       "<span style=\"color:#33cc99\">Solution:</span> The scatter plot does not show a strong correlation between the two variables. Since there is no clear relationship between the two variables, this tells us that sugar content does not play a strong role in candy popularity."
      ],
      "text/plain": [
       "Solution: The scatter plot does not show a strong correlation between the two variables. Since there is no clear relationship between the two variables, this tells us that sugar content does not play a strong role in candy popularity."
      ]
     },
     "metadata": {},
     "output_type": "display_data"
    }
   ],
   "source": [
    "# Check your answer (Run this code cell to receive credit!)\n",
    "step_3.b.solution()"
   ]
  },
  {
   "cell_type": "markdown",
   "id": "0cf17b12",
   "metadata": {
    "papermill": {
     "duration": 0.01691,
     "end_time": "2023-09-02T16:22:27.821718",
     "exception": false,
     "start_time": "2023-09-02T16:22:27.804808",
     "status": "completed"
    },
    "tags": []
   },
   "source": [
    "## Step 4: Take a closer look\n",
    "\n",
    "#### Part A\n",
    "\n",
    "Create the same scatter plot you created in **Step 3**, but now with a regression line!"
   ]
  },
  {
   "cell_type": "code",
   "execution_count": 12,
   "id": "e69b7a1b",
   "metadata": {
    "execution": {
     "iopub.execute_input": "2023-09-02T16:22:27.858358Z",
     "iopub.status.busy": "2023-09-02T16:22:27.857090Z",
     "iopub.status.idle": "2023-09-02T16:22:28.276107Z",
     "shell.execute_reply": "2023-09-02T16:22:28.274846Z"
    },
    "papermill": {
     "duration": 0.439828,
     "end_time": "2023-09-02T16:22:28.278852",
     "exception": false,
     "start_time": "2023-09-02T16:22:27.839024",
     "status": "completed"
    },
    "tags": []
   },
   "outputs": [
    {
     "data": {
      "application/javascript": [
       "parent.postMessage({\"jupyterEvent\": \"custom.exercise_interaction\", \"data\": {\"outcomeType\": 1, \"valueTowardsCompletion\": 0.3333333333333333, \"interactionType\": 1, \"questionType\": 2, \"questionId\": \"4.1_PlotBlueReg\", \"learnToolsVersion\": \"0.3.4\", \"failureMessage\": \"\", \"exceptionClass\": \"\", \"trace\": \"\"}}, \"*\")"
      ],
      "text/plain": [
       "<IPython.core.display.Javascript object>"
      ]
     },
     "metadata": {},
     "output_type": "display_data"
    },
    {
     "data": {
      "text/markdown": [
       "<span style=\"color:#33cc33\">Correct</span>"
      ],
      "text/plain": [
       "Correct"
      ]
     },
     "metadata": {},
     "output_type": "display_data"
    },
    {
     "data": {
      "image/png": "[encoded data removed]",
      "text/plain": [
       "<Figure size 640x480 with 1 Axes>"
      ]
     },
     "metadata": {},
     "output_type": "display_data"
    }
   ],
   "source": [
    "# Scatter plot w/ regression line showing the relationship between 'sugarpercent' and 'winpercent'\n",
    "sns.regplot(x = candy_data['sugarpercent'],y = candy_data['winpercent']) # Your code here\n",
    "\n",
    "# Check your answer\n",
    "step_4.a.check()"
   ]
  },
  {
   "cell_type": "code",
   "execution_count": 13,
   "id": "08cf5d6e",
   "metadata": {
    "execution": {
     "iopub.execute_input": "2023-09-02T16:22:28.380596Z",
     "iopub.status.busy": "2023-09-02T16:22:28.380192Z",
     "iopub.status.idle": "2023-09-02T16:22:28.384316Z",
     "shell.execute_reply": "2023-09-02T16:22:28.383437Z"
    },
    "papermill": {
     "duration": 0.02621,
     "end_time": "2023-09-02T16:22:28.386620",
     "exception": false,
     "start_time": "2023-09-02T16:22:28.360410",
     "status": "completed"
    },
    "tags": []
   },
   "outputs": [],
   "source": [
    "# Lines below will give you a hint or solution code\n",
    "#step_4.a.hint()\n",
    "#step_4.a.solution_plot()"
   ]
  },
  {
   "cell_type": "markdown",
   "id": "e3b33e89",
   "metadata": {
    "papermill": {
     "duration": 0.017943,
     "end_time": "2023-09-02T16:22:28.422400",
     "exception": false,
     "start_time": "2023-09-02T16:22:28.404457",
     "status": "completed"
    },
    "tags": []
   },
   "source": [
    "#### Part B\n",
    "\n",
    "According to the plot above, is there a **slight** correlation between `'winpercent'` and `'sugarpercent'`?  What does this tell you about the candy that people tend to prefer?"
   ]
  },
  {
   "cell_type": "code",
   "execution_count": 14,
   "id": "d7bffb2e",
   "metadata": {
    "execution": {
     "iopub.execute_input": "2023-09-02T16:22:28.459565Z",
     "iopub.status.busy": "2023-09-02T16:22:28.458667Z",
     "iopub.status.idle": "2023-09-02T16:22:28.463401Z",
     "shell.execute_reply": "2023-09-02T16:22:28.462558Z"
    },
    "papermill": {
     "duration": 0.02538,
     "end_time": "2023-09-02T16:22:28.465556",
     "exception": false,
     "start_time": "2023-09-02T16:22:28.440176",
     "status": "completed"
    },
    "tags": []
   },
   "outputs": [],
   "source": [
    "#step_4.b.hint()"
   ]
  },
  {
   "cell_type": "code",
   "execution_count": 15,
   "id": "197438bb",
   "metadata": {
    "execution": {
     "iopub.execute_input": "2023-09-02T16:22:28.504003Z",
     "iopub.status.busy": "2023-09-02T16:22:28.503083Z",
     "iopub.status.idle": "2023-09-02T16:22:28.511485Z",
     "shell.execute_reply": "2023-09-02T16:22:28.510592Z"
    },
    "papermill": {
     "duration": 0.029872,
     "end_time": "2023-09-02T16:22:28.513755",
     "exception": false,
     "start_time": "2023-09-02T16:22:28.483883",
     "status": "completed"
    },
    "tags": []
   },
   "outputs": [
    {
     "data": {
      "application/javascript": [
       "parent.postMessage({\"jupyterEvent\": \"custom.exercise_interaction\", \"data\": {\"interactionType\": 3, \"questionType\": 4, \"questionId\": \"4.2_ThinkBlueReg\", \"learnToolsVersion\": \"0.3.4\", \"valueTowardsCompletion\": 0.0, \"failureMessage\": \"\", \"exceptionClass\": \"\", \"trace\": \"\", \"outcomeType\": 4}}, \"*\")"
      ],
      "text/plain": [
       "<IPython.core.display.Javascript object>"
      ]
     },
     "metadata": {},
     "output_type": "display_data"
    },
    {
     "data": {
      "text/markdown": [
       "<span style=\"color:#33cc99\">Solution:</span> Since the regression line has a slightly positive slope, this tells us that there is a slightly positive correlation between `'winpercent'` and `'sugarpercent'`. Thus, people have a slight preference for candies containing relatively more sugar."
      ],
      "text/plain": [
       "Solution: Since the regression line has a slightly positive slope, this tells us that there is a slightly positive correlation between `'winpercent'` and `'sugarpercent'`. Thus, people have a slight preference for candies containing relatively more sugar."
      ]
     },
     "metadata": {},
     "output_type": "display_data"
    }
   ],
   "source": [
    "# Check your answer (Run this code cell to receive credit!)\n",
    "step_4.b.solution()"
   ]
  },
  {
   "cell_type": "markdown",
   "id": "43b9c981",
   "metadata": {
    "papermill": {
     "duration": 0.01709,
     "end_time": "2023-09-02T16:22:28.549373",
     "exception": false,
     "start_time": "2023-09-02T16:22:28.532283",
     "status": "completed"
    },
    "tags": []
   },
   "source": [
    "## Step 5: Chocolate!\n",
    "\n",
    "In the code cell below, create a scatter plot to show the relationship between `'pricepercent'` (on the horizontal x-axis) and `'winpercent'` (on the vertical y-axis). Use the `'chocolate'` column to color-code the points.  _Don't add any regression lines just yet -- you'll do that in the next step!_"
   ]
  },
  {
   "cell_type": "code",
   "execution_count": 16,
   "id": "1ff2c304",
   "metadata": {
    "execution": {
     "iopub.execute_input": "2023-09-02T16:22:28.586565Z",
     "iopub.status.busy": "2023-09-02T16:22:28.585615Z",
     "iopub.status.idle": "2023-09-02T16:22:28.929734Z",
     "shell.execute_reply": "2023-09-02T16:22:28.928790Z"
    },
    "papermill": {
     "duration": 0.365407,
     "end_time": "2023-09-02T16:22:28.932196",
     "exception": false,
     "start_time": "2023-09-02T16:22:28.566789",
     "status": "completed"
    },
    "tags": []
   },
   "outputs": [
    {
     "data": {
      "application/javascript": [
       "parent.postMessage({\"jupyterEvent\": \"custom.exercise_interaction\", \"data\": {\"outcomeType\": 1, \"valueTowardsCompletion\": 0.3333333333333333, \"interactionType\": 1, \"questionType\": 2, \"questionId\": \"5_ColorScatter\", \"learnToolsVersion\": \"0.3.4\", \"failureMessage\": \"\", \"exceptionClass\": \"\", \"trace\": \"\"}}, \"*\")"
      ],
      "text/plain": [
       "<IPython.core.display.Javascript object>"
      ]
     },
     "metadata": {},
     "output_type": "display_data"
    },
    {
     "data": {
      "text/markdown": [
       "<span style=\"color:#33cc33\">Correct</span>"
      ],
      "text/plain": [
       "Correct"
      ]
     },
     "metadata": {},
     "output_type": "display_data"
    },
    {
     "data": {
      "image/png": "[encoded data removed]",
      "text/plain": [
       "<Figure size 640x480 with 1 Axes>"
      ]
     },
     "metadata": {},
     "output_type": "display_data"
    }
   ],
   "source": [
    "# Scatter plot showing the relationship between 'pricepercent', 'winpercent', and 'chocolate'\n",
    "sns.scatterplot(x = candy_data[\"pricepercent\"], y = candy_data['winpercent'], hue = candy_data['chocolate']) # Your code here\n",
    "\n",
    "# Check your answer\n",
    "step_5.check()"
   ]
  },
  {
   "cell_type": "code",
   "execution_count": 17,
   "id": "238c45f4",
   "metadata": {
    "execution": {
     "iopub.execute_input": "2023-09-02T16:22:28.971127Z",
     "iopub.status.busy": "2023-09-02T16:22:28.970678Z",
     "iopub.status.idle": "2023-09-02T16:22:28.975366Z",
     "shell.execute_reply": "2023-09-02T16:22:28.974247Z"
    },
    "papermill": {
     "duration": 0.027163,
     "end_time": "2023-09-02T16:22:28.977693",
     "exception": false,
     "start_time": "2023-09-02T16:22:28.950530",
     "status": "completed"
    },
    "tags": []
   },
   "outputs": [],
   "source": [
    "# Lines below will give you a hint or solution code\n",
    "#step_5.hint()\n",
    "#step_5.solution_plot()"
   ]
  },
  {
   "cell_type": "markdown",
   "id": "17a0ee53",
   "metadata": {
    "papermill": {
     "duration": 0.01919,
     "end_time": "2023-09-02T16:22:29.015186",
     "exception": false,
     "start_time": "2023-09-02T16:22:28.995996",
     "status": "completed"
    },
    "tags": []
   },
   "source": [
    "Can you see any interesting patterns in the scatter plot?  We'll investigate this plot further  by adding regression lines in the next step!\n",
    "\n",
    "## Step 6: Investigate chocolate\n",
    "\n",
    "#### Part A\n",
    "\n",
    "Create the same scatter plot you created in **Step 5**, but now with two regression lines, corresponding to (1) chocolate candies and (2) candies without chocolate."
   ]
  },
  {
   "cell_type": "code",
   "execution_count": 18,
   "id": "43c616e8",
   "metadata": {
    "execution": {
     "iopub.execute_input": "2023-09-02T16:22:29.053992Z",
     "iopub.status.busy": "2023-09-02T16:22:29.053586Z",
     "iopub.status.idle": "2023-09-02T16:22:30.005437Z",
     "shell.execute_reply": "2023-09-02T16:22:30.003727Z"
    },
    "papermill": {
     "duration": 0.974798,
     "end_time": "2023-09-02T16:22:30.008392",
     "exception": false,
     "start_time": "2023-09-02T16:22:29.033594",
     "status": "completed"
    },
    "tags": []
   },
   "outputs": [
    {
     "data": {
      "application/javascript": [
       "parent.postMessage({\"jupyterEvent\": \"custom.exercise_interaction\", \"data\": {\"outcomeType\": 1, \"valueTowardsCompletion\": 0.3333333333333333, \"interactionType\": 1, \"questionType\": 2, \"questionId\": \"6.1_PlotColorReg\", \"learnToolsVersion\": \"0.3.4\", \"failureMessage\": \"\", \"exceptionClass\": \"\", \"trace\": \"\"}}, \"*\")"
      ],
      "text/plain": [
       "<IPython.core.display.Javascript object>"
      ]
     },
     "metadata": {},
     "output_type": "display_data"
    },
    {
     "data": {
      "text/markdown": [
       "<span style=\"color:#33cc33\">Correct</span>"
      ],
      "text/plain": [
       "Correct"
      ]
     },
     "metadata": {},
     "output_type": "display_data"
    },
    {
     "data": {
      "image/png": "[encoded data removed]",
      "text/plain": [
       "<Figure size 578.611x500 with 1 Axes>"
      ]
     },
     "metadata": {},
     "output_type": "display_data"
    }
   ],
   "source": [
    "# Color-coded scatter plot w/ regression lines\n",
    "sns.lmplot(x=\"pricepercent\", y=\"winpercent\", hue=\"chocolate\", data=candy_data)\n",
    "\n",
    "# Check your answer\n",
    "step_6.a.check()"
   ]
  },
  {
   "cell_type": "code",
   "execution_count": 19,
   "id": "4f4b3b60",
   "metadata": {
    "execution": {
     "iopub.execute_input": "2023-09-02T16:22:30.053542Z",
     "iopub.status.busy": "2023-09-02T16:22:30.053168Z",
     "iopub.status.idle": "2023-09-02T16:22:30.948071Z",
     "shell.execute_reply": "2023-09-02T16:22:30.946923Z"
    },
    "papermill": {
     "duration": 0.920219,
     "end_time": "2023-09-02T16:22:30.950509",
     "exception": false,
     "start_time": "2023-09-02T16:22:30.030290",
     "status": "completed"
    },
    "tags": []
   },
   "outputs": [
    {
     "data": {
      "application/javascript": [
       "parent.postMessage({\"jupyterEvent\": \"custom.exercise_interaction\", \"data\": {\"interactionType\": 3, \"questionType\": 2, \"questionId\": \"6.1_PlotColorReg\", \"learnToolsVersion\": \"0.3.4\", \"valueTowardsCompletion\": 0.0, \"failureMessage\": \"\", \"exceptionClass\": \"\", \"trace\": \"\", \"outcomeType\": 4}}, \"*\")"
      ],
      "text/plain": [
       "<IPython.core.display.Javascript object>"
      ]
     },
     "metadata": {},
     "output_type": "display_data"
    },
    {
     "data": {
      "text/markdown": [
       "<span style=\"color:#33cc99\">Solution:</span> \n",
       "```python\n",
       "# Color-coded scatter plot w/ regression lines\n",
       "sns.lmplot(x=\"pricepercent\", y=\"winpercent\", hue=\"chocolate\", data=candy_data)\n",
       "\n",
       "```"
      ],
      "text/plain": [
       "Solution: \n",
       "```python\n",
       "# Color-coded scatter plot w/ regression lines\n",
       "sns.lmplot(x=\"pricepercent\", y=\"winpercent\", hue=\"chocolate\", data=candy_data)\n",
       "\n",
       "```"
      ]
     },
     "metadata": {},
     "output_type": "display_data"
    },
    {
     "data": {
      "image/png": "[encoded data removed]",
      "text/plain": [
       "<Figure size 578.611x500 with 1 Axes>"
      ]
     },
     "metadata": {},
     "output_type": "display_data"
    }
   ],
   "source": [
    "# Lines below will give you a hint or solution code\n",
    "#step_6.a.hint()\n",
    "step_6.a.solution_plot()"
   ]
  },
  {
   "cell_type": "markdown",
   "id": "45361bde",
   "metadata": {
    "papermill": {
     "duration": 0.02017,
     "end_time": "2023-09-02T16:22:30.991095",
     "exception": false,
     "start_time": "2023-09-02T16:22:30.970925",
     "status": "completed"
    },
    "tags": []
   },
   "source": [
    "#### Part B\n",
    "\n",
    "Using the regression lines, what conclusions can you draw about the effects of chocolate and price on candy popularity?"
   ]
  },
  {
   "cell_type": "code",
   "execution_count": 20,
   "id": "59ac5e7c",
   "metadata": {
    "execution": {
     "iopub.execute_input": "2023-09-02T16:22:31.034254Z",
     "iopub.status.busy": "2023-09-02T16:22:31.033805Z",
     "iopub.status.idle": "2023-09-02T16:22:31.038868Z",
     "shell.execute_reply": "2023-09-02T16:22:31.037630Z"
    },
    "papermill": {
     "duration": 0.029692,
     "end_time": "2023-09-02T16:22:31.041261",
     "exception": false,
     "start_time": "2023-09-02T16:22:31.011569",
     "status": "completed"
    },
    "tags": []
   },
   "outputs": [],
   "source": [
    "#step_6.b.hint()"
   ]
  },
  {
   "cell_type": "code",
   "execution_count": 21,
   "id": "81cc9271",
   "metadata": {
    "execution": {
     "iopub.execute_input": "2023-09-02T16:22:31.085270Z",
     "iopub.status.busy": "2023-09-02T16:22:31.084851Z",
     "iopub.status.idle": "2023-09-02T16:22:31.093916Z",
     "shell.execute_reply": "2023-09-02T16:22:31.092893Z"
    },
    "papermill": {
     "duration": 0.034257,
     "end_time": "2023-09-02T16:22:31.095979",
     "exception": false,
     "start_time": "2023-09-02T16:22:31.061722",
     "status": "completed"
    },
    "tags": []
   },
   "outputs": [
    {
     "data": {
      "application/javascript": [
       "parent.postMessage({\"jupyterEvent\": \"custom.exercise_interaction\", \"data\": {\"interactionType\": 3, \"questionType\": 4, \"questionId\": \"6.2_ThinkColorReg\", \"learnToolsVersion\": \"0.3.4\", \"valueTowardsCompletion\": 0.0, \"failureMessage\": \"\", \"exceptionClass\": \"\", \"trace\": \"\", \"outcomeType\": 4}}, \"*\")"
      ],
      "text/plain": [
       "<IPython.core.display.Javascript object>"
      ]
     },
     "metadata": {},
     "output_type": "display_data"
    },
    {
     "data": {
      "text/markdown": [
       "<span style=\"color:#33cc99\">Solution:</span> We'll begin with the regression line for chocolate candies. Since this line has a slightly positive slope, we can say that more expensive chocolate candies tend to be more popular (than relatively cheaper chocolate candies).  Likewise, since the regression line for candies without chocolate has a negative slope, we can say that if candies don't contain chocolate, they tend to be more popular when they are cheaper.  One important note, however, is that the dataset is quite small -- so we shouldn't invest too much trust in these patterns!  To inspire more confidence in the results, we should add more candies to the dataset."
      ],
      "text/plain": [
       "Solution: We'll begin with the regression line for chocolate candies. Since this line has a slightly positive slope, we can say that more expensive chocolate candies tend to be more popular (than relatively cheaper chocolate candies).  Likewise, since the regression line for candies without chocolate has a negative slope, we can say that if candies don't contain chocolate, they tend to be more popular when they are cheaper.  One important note, however, is that the dataset is quite small -- so we shouldn't invest too much trust in these patterns!  To inspire more confidence in the results, we should add more candies to the dataset."
      ]
     },
     "metadata": {},
     "output_type": "display_data"
    }
   ],
   "source": [
    "# Check your answer (Run this code cell to receive credit!)\n",
    "step_6.b.solution()"
   ]
  },
  {
   "cell_type": "markdown",
   "id": "958edb69",
   "metadata": {
    "papermill": {
     "duration": 0.020714,
     "end_time": "2023-09-02T16:22:31.137391",
     "exception": false,
     "start_time": "2023-09-02T16:22:31.116677",
     "status": "completed"
    },
    "tags": []
   },
   "source": [
    "## Step 7: Everybody loves chocolate.\n",
    "\n",
    "#### Part A\n",
    "\n",
    "Create a categorical scatter plot to highlight the relationship between `'chocolate'` and `'winpercent'`.  Put `'chocolate'` on the (horizontal) x-axis, and `'winpercent'` on the (vertical) y-axis."
   ]
  },
  {
   "cell_type": "code",
   "execution_count": 22,
   "id": "acc2ebf4",
   "metadata": {
    "execution": {
     "iopub.execute_input": "2023-09-02T16:22:31.181520Z",
     "iopub.status.busy": "2023-09-02T16:22:31.180884Z",
     "iopub.status.idle": "2023-09-02T16:22:31.721157Z",
     "shell.execute_reply": "2023-09-02T16:22:31.719649Z"
    },
    "papermill": {
     "duration": 0.566679,
     "end_time": "2023-09-02T16:22:31.725372",
     "exception": false,
     "start_time": "2023-09-02T16:22:31.158693",
     "status": "completed"
    },
    "tags": []
   },
   "outputs": [
    {
     "data": {
      "application/javascript": [
       "parent.postMessage({\"jupyterEvent\": \"custom.exercise_interaction\", \"data\": {\"outcomeType\": 1, \"valueTowardsCompletion\": 0.3333333333333333, \"interactionType\": 1, \"questionType\": 2, \"questionId\": \"7.1_PlotSwarm\", \"learnToolsVersion\": \"0.3.4\", \"failureMessage\": \"\", \"exceptionClass\": \"\", \"trace\": \"\"}}, \"*\")"
      ],
      "text/plain": [
       "<IPython.core.display.Javascript object>"
      ]
     },
     "metadata": {},
     "output_type": "display_data"
    },
    {
     "data": {
      "text/markdown": [
       "<span style=\"color:#33cc33\">Correct</span>"
      ],
      "text/plain": [
       "Correct"
      ]
     },
     "metadata": {},
     "output_type": "display_data"
    },
    {
     "data": {
      "image/png": "[encoded data removed]",
      "text/plain": [
       "<Figure size 640x480 with 1 Axes>"
      ]
     },
     "metadata": {},
     "output_type": "display_data"
    }
   ],
   "source": [
    "# Scatter plot showing the relationship between 'chocolate' and 'winpercent'\n",
    "sns.swarmplot(x=candy_data['chocolate'], y=candy_data['winpercent'])\n",
    "\n",
    "# Check your answer\n",
    "step_7.a.check()"
   ]
  },
  {
   "cell_type": "code",
   "execution_count": 23,
   "id": "341db8ab",
   "metadata": {
    "execution": {
     "iopub.execute_input": "2023-09-02T16:22:31.782176Z",
     "iopub.status.busy": "2023-09-02T16:22:31.781735Z",
     "iopub.status.idle": "2023-09-02T16:22:31.786535Z",
     "shell.execute_reply": "2023-09-02T16:22:31.785571Z"
    },
    "papermill": {
     "duration": 0.029697,
     "end_time": "2023-09-02T16:22:31.788679",
     "exception": false,
     "start_time": "2023-09-02T16:22:31.758982",
     "status": "completed"
    },
    "tags": []
   },
   "outputs": [],
   "source": [
    "# Lines below will give you a hint or solution code\n",
    "#step_7.a.hint()\n",
    "#step_7.a.solution_plot()"
   ]
  },
  {
   "cell_type": "markdown",
   "id": "bb658dbb",
   "metadata": {
    "papermill": {
     "duration": 0.020957,
     "end_time": "2023-09-02T16:22:31.831545",
     "exception": false,
     "start_time": "2023-09-02T16:22:31.810588",
     "status": "completed"
    },
    "tags": []
   },
   "source": [
    "#### Part B\n",
    "\n",
    "You decide to dedicate a section of your report to the fact that chocolate candies tend to be more popular than candies without chocolate.  Which plot is more appropriate to tell this story: the plot from **Step 6**, or the plot from **Step 7**?"
   ]
  },
  {
   "cell_type": "code",
   "execution_count": 24,
   "id": "ca0f7027",
   "metadata": {
    "execution": {
     "iopub.execute_input": "2023-09-02T16:22:31.876264Z",
     "iopub.status.busy": "2023-09-02T16:22:31.875425Z",
     "iopub.status.idle": "2023-09-02T16:22:31.880210Z",
     "shell.execute_reply": "2023-09-02T16:22:31.879391Z"
    },
    "papermill": {
     "duration": 0.029552,
     "end_time": "2023-09-02T16:22:31.882392",
     "exception": false,
     "start_time": "2023-09-02T16:22:31.852840",
     "status": "completed"
    },
    "tags": []
   },
   "outputs": [],
   "source": [
    "#step_7.b.hint()"
   ]
  },
  {
   "cell_type": "code",
   "execution_count": 25,
   "id": "90467fc2",
   "metadata": {
    "execution": {
     "iopub.execute_input": "2023-09-02T16:22:31.928919Z",
     "iopub.status.busy": "2023-09-02T16:22:31.928174Z",
     "iopub.status.idle": "2023-09-02T16:22:31.936660Z",
     "shell.execute_reply": "2023-09-02T16:22:31.935753Z"
    },
    "papermill": {
     "duration": 0.034779,
     "end_time": "2023-09-02T16:22:31.938967",
     "exception": false,
     "start_time": "2023-09-02T16:22:31.904188",
     "status": "completed"
    },
    "tags": []
   },
   "outputs": [
    {
     "data": {
      "application/javascript": [
       "parent.postMessage({\"jupyterEvent\": \"custom.exercise_interaction\", \"data\": {\"interactionType\": 3, \"questionType\": 4, \"questionId\": \"7.2_ThinkSwarm\", \"learnToolsVersion\": \"0.3.4\", \"valueTowardsCompletion\": 0.0, \"failureMessage\": \"\", \"exceptionClass\": \"\", \"trace\": \"\", \"outcomeType\": 4}}, \"*\")"
      ],
      "text/plain": [
       "<IPython.core.display.Javascript object>"
      ]
     },
     "metadata": {},
     "output_type": "display_data"
    },
    {
     "data": {
      "text/markdown": [
       "<span style=\"color:#33cc99\">Solution:</span> In this case, the categorical scatter plot from **Step 7** is the more appropriate plot. While both plots tell the desired story, the plot from **Step 6** conveys far more information that could distract from the main point."
      ],
      "text/plain": [
       "Solution: In this case, the categorical scatter plot from **Step 7** is the more appropriate plot. While both plots tell the desired story, the plot from **Step 6** conveys far more information that could distract from the main point."
      ]
     },
     "metadata": {},
     "output_type": "display_data"
    }
   ],
   "source": [
    "# Check your answer (Run this code cell to receive credit!)\n",
    "step_7.b.solution()"
   ]
  },
  {
   "cell_type": "markdown",
   "id": "f0d63938",
   "metadata": {
    "papermill": {
     "duration": 0.021423,
     "end_time": "2023-09-02T16:22:31.982088",
     "exception": false,
     "start_time": "2023-09-02T16:22:31.960665",
     "status": "completed"
    },
    "tags": []
   },
   "source": [
    "## Keep going\n",
    "\n",
    "Explore **[histograms and density plots](https://www.kaggle.com/alexisbcook/distributions)**."
   ]
  },
  {
   "cell_type": "markdown",
   "id": "a1673fcb",
   "metadata": {
    "papermill": {
     "duration": 0.022686,
     "end_time": "2023-09-02T16:22:32.026859",
     "exception": false,
     "start_time": "2023-09-02T16:22:32.004173",
     "status": "completed"
    },
    "tags": []
   },
   "source": [
    "---\n",
    "\n",
    "\n",
    "\n",
    "\n",
    "*Have questions or comments? Visit the [course discussion forum](https://www.kaggle.com/learn/data-visualization/discussion) to chat with other learners.*"
   ]
  }
 ],
 "kernelspec": {
  "display_name": "Python 3",
  "language": "python",
  "name": "python3"
 },
 "language_info": {
  "codemirror_mode": {
   "name": "ipython",
   "version": 3
  },
  "file_extension": ".py",
  "mimetype": "text/x-python",
  "name": "python",
  "nbconvert_exporter": "python",
  "pygments_lexer": "ipython3",
  "version": "3.6.4"
 },
 "metadata": {
  "kernelspec": {
   "display_name": "Python 3",
   "language": "python",
   "name": "python3"
  },
  "language_info": {
   "codemirror_mode": {
    "name": "ipython",
    "version": 3
   },
   "file_extension": ".py",
   "mimetype": "text/x-python",
   "name": "python",
   "nbconvert_exporter": "python",
   "pygments_lexer": "ipython3",
   "version": "3.10.12"
  },
  "papermill": {
   "default_parameters": {},
   "duration": 11.662958,
   "end_time": "2023-09-02T16:22:32.669130",
   "environment_variables": {},
   "exception": null,
   "input_path": "__notebook__.ipynb",
   "output_path": "__notebook__.ipynb",
   "parameters": {},
   "start_time": "2023-09-02T16:22:21.006172",
   "version": "2.4.0"
  }
 },
 "nbformat": 4,
 "nbformat_minor": 5
}
