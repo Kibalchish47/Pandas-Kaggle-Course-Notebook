{
 "cells": [
  {
   "cell_type": "markdown",
   "id": "5f48c1d3",
   "metadata": {
    "papermill": {
     "duration": 0.005949,
     "end_time": "2023-08-22T18:19:52.884474",
     "exception": false,
     "start_time": "2023-08-22T18:19:52.878525",
     "status": "completed"
    },
    "tags": []
   },
   "source": [
    "**This notebook is an exercise in the [Pandas](https://www.kaggle.com/learn/pandas) course.  You can reference the tutorial at [this link](https://www.kaggle.com/residentmario/summary-functions-and-maps).**\n",
    "\n",
    "---\n"
   ]
  },
  {
   "cell_type": "markdown",
   "id": "c5de2a00",
   "metadata": {
    "papermill": {
     "duration": 0.005148,
     "end_time": "2023-08-22T18:19:52.895216",
     "exception": false,
     "start_time": "2023-08-22T18:19:52.890068",
     "status": "completed"
    },
    "tags": []
   },
   "source": [
    "# Introduction\n",
    "\n",
    "Now you are ready to get a deeper understanding of your data.\n",
    "\n",
    "Run the following cell to load your data and some utility functions (including code to check your answers)."
   ]
  },
  {
   "cell_type": "code",
   "execution_count": 1,
   "id": "ee49df3c",
   "metadata": {
    "execution": {
     "iopub.execute_input": "2023-08-22T18:19:52.907614Z",
     "iopub.status.busy": "2023-08-22T18:19:52.907244Z",
     "iopub.status.idle": "2023-08-22T18:19:59.497309Z",
     "shell.execute_reply": "2023-08-22T18:19:59.495998Z"
    },
    "papermill": {
     "duration": 6.599318,
     "end_time": "2023-08-22T18:19:59.499882",
     "exception": false,
     "start_time": "2023-08-22T18:19:52.900564",
     "status": "completed"
    },
    "tags": []
   },
   "outputs": [
    {
     "name": "stdout",
     "output_type": "stream",
     "text": [
      "Setup complete.\n"
     ]
    },
    {
     "data": {
      "text/html": [
       "<div>\n",
       "<style scoped>\n",
       "    .dataframe tbody tr th:only-of-type {\n",
       "        vertical-align: middle;\n",
       "    }\n",
       "\n",
       "    .dataframe tbody tr th {\n",
       "        vertical-align: top;\n",
       "    }\n",
       "\n",
       "    .dataframe thead th {\n",
       "        text-align: right;\n",
       "    }\n",
       "</style>\n",
       "<table border=\"1\" class=\"dataframe\">\n",
       "  <thead>\n",
       "    <tr style=\"text-align: right;\">\n",
       "      <th></th>\n",
       "      <th>country</th>\n",
       "      <th>description</th>\n",
       "      <th>designation</th>\n",
       "      <th>points</th>\n",
       "      <th>price</th>\n",
       "      <th>province</th>\n",
       "      <th>region_1</th>\n",
       "      <th>region_2</th>\n",
       "      <th>taster_name</th>\n",
       "      <th>taster_twitter_handle</th>\n",
       "      <th>title</th>\n",
       "      <th>variety</th>\n",
       "      <th>winery</th>\n",
       "    </tr>\n",
       "  </thead>\n",
       "  <tbody>\n",
       "    <tr>\n",
       "      <th>0</th>\n",
       "      <td>Italy</td>\n",
       "      <td>Aromas include tropical fruit, broom, brimston...</td>\n",
       "      <td>Vulkà Bianco</td>\n",
       "      <td>87</td>\n",
       "      <td>NaN</td>\n",
       "      <td>Sicily &amp; Sardinia</td>\n",
       "      <td>Etna</td>\n",
       "      <td>NaN</td>\n",
       "      <td>Kerin O’Keefe</td>\n",
       "      <td>@kerinokeefe</td>\n",
       "      <td>Nicosia 2013 Vulkà Bianco  (Etna)</td>\n",
       "      <td>White Blend</td>\n",
       "      <td>Nicosia</td>\n",
       "    </tr>\n",
       "    <tr>\n",
       "      <th>1</th>\n",
       "      <td>Portugal</td>\n",
       "      <td>This is ripe and fruity, a wine that is smooth...</td>\n",
       "      <td>Avidagos</td>\n",
       "      <td>87</td>\n",
       "      <td>15.0</td>\n",
       "      <td>Douro</td>\n",
       "      <td>NaN</td>\n",
       "      <td>NaN</td>\n",
       "      <td>Roger Voss</td>\n",
       "      <td>@vossroger</td>\n",
       "      <td>Quinta dos Avidagos 2011 Avidagos Red (Douro)</td>\n",
       "      <td>Portuguese Red</td>\n",
       "      <td>Quinta dos Avidagos</td>\n",
       "    </tr>\n",
       "    <tr>\n",
       "      <th>2</th>\n",
       "      <td>US</td>\n",
       "      <td>Tart and snappy, the flavors of lime flesh and...</td>\n",
       "      <td>NaN</td>\n",
       "      <td>87</td>\n",
       "      <td>14.0</td>\n",
       "      <td>Oregon</td>\n",
       "      <td>Willamette Valley</td>\n",
       "      <td>Willamette Valley</td>\n",
       "      <td>Paul Gregutt</td>\n",
       "      <td>@paulgwine</td>\n",
       "      <td>Rainstorm 2013 Pinot Gris (Willamette Valley)</td>\n",
       "      <td>Pinot Gris</td>\n",
       "      <td>Rainstorm</td>\n",
       "    </tr>\n",
       "    <tr>\n",
       "      <th>3</th>\n",
       "      <td>US</td>\n",
       "      <td>Pineapple rind, lemon pith and orange blossom ...</td>\n",
       "      <td>Reserve Late Harvest</td>\n",
       "      <td>87</td>\n",
       "      <td>13.0</td>\n",
       "      <td>Michigan</td>\n",
       "      <td>Lake Michigan Shore</td>\n",
       "      <td>NaN</td>\n",
       "      <td>Alexander Peartree</td>\n",
       "      <td>NaN</td>\n",
       "      <td>St. Julian 2013 Reserve Late Harvest Riesling ...</td>\n",
       "      <td>Riesling</td>\n",
       "      <td>St. Julian</td>\n",
       "    </tr>\n",
       "    <tr>\n",
       "      <th>4</th>\n",
       "      <td>US</td>\n",
       "      <td>Much like the regular bottling from 2012, this...</td>\n",
       "      <td>Vintner's Reserve Wild Child Block</td>\n",
       "      <td>87</td>\n",
       "      <td>65.0</td>\n",
       "      <td>Oregon</td>\n",
       "      <td>Willamette Valley</td>\n",
       "      <td>Willamette Valley</td>\n",
       "      <td>Paul Gregutt</td>\n",
       "      <td>@paulgwine</td>\n",
       "      <td>Sweet Cheeks 2012 Vintner's Reserve Wild Child...</td>\n",
       "      <td>Pinot Noir</td>\n",
       "      <td>Sweet Cheeks</td>\n",
       "    </tr>\n",
       "  </tbody>\n",
       "</table>\n",
       "</div>"
      ],
      "text/plain": [
       "    country                                        description  \\\n",
       "0     Italy  Aromas include tropical fruit, broom, brimston...   \n",
       "1  Portugal  This is ripe and fruity, a wine that is smooth...   \n",
       "2        US  Tart and snappy, the flavors of lime flesh and...   \n",
       "3        US  Pineapple rind, lemon pith and orange blossom ...   \n",
       "4        US  Much like the regular bottling from 2012, this...   \n",
       "\n",
       "                          designation  points  price           province  \\\n",
       "0                        Vulkà Bianco      87    NaN  Sicily & Sardinia   \n",
       "1                            Avidagos      87   15.0              Douro   \n",
       "2                                 NaN      87   14.0             Oregon   \n",
       "3                Reserve Late Harvest      87   13.0           Michigan   \n",
       "4  Vintner's Reserve Wild Child Block      87   65.0             Oregon   \n",
       "\n",
       "              region_1           region_2         taster_name  \\\n",
       "0                 Etna                NaN       Kerin O’Keefe   \n",
       "1                  NaN                NaN          Roger Voss   \n",
       "2    Willamette Valley  Willamette Valley        Paul Gregutt   \n",
       "3  Lake Michigan Shore                NaN  Alexander Peartree   \n",
       "4    Willamette Valley  Willamette Valley        Paul Gregutt   \n",
       "\n",
       "  taster_twitter_handle                                              title  \\\n",
       "0          @kerinokeefe                  Nicosia 2013 Vulkà Bianco  (Etna)   \n",
       "1            @vossroger      Quinta dos Avidagos 2011 Avidagos Red (Douro)   \n",
       "2           @paulgwine       Rainstorm 2013 Pinot Gris (Willamette Valley)   \n",
       "3                   NaN  St. Julian 2013 Reserve Late Harvest Riesling ...   \n",
       "4           @paulgwine   Sweet Cheeks 2012 Vintner's Reserve Wild Child...   \n",
       "\n",
       "          variety               winery  \n",
       "0     White Blend              Nicosia  \n",
       "1  Portuguese Red  Quinta dos Avidagos  \n",
       "2      Pinot Gris            Rainstorm  \n",
       "3        Riesling           St. Julian  \n",
       "4      Pinot Noir         Sweet Cheeks  "
      ]
     },
     "execution_count": 1,
     "metadata": {},
     "output_type": "execute_result"
    }
   ],
   "source": [
    "import pandas as pd\n",
    "pd.set_option(\"display.max_rows\", 5)\n",
    "reviews = pd.read_csv(\"../input/wine-reviews/winemag-data-130k-v2.csv\", index_col=0)\n",
    "\n",
    "from learntools.core import binder; binder.bind(globals())\n",
    "from learntools.pandas.summary_functions_and_maps import *\n",
    "print(\"Setup complete.\")\n",
    "\n",
    "reviews.head()"
   ]
  },
  {
   "cell_type": "markdown",
   "id": "a70b17c2",
   "metadata": {
    "papermill": {
     "duration": 0.005775,
     "end_time": "2023-08-22T18:19:59.511849",
     "exception": false,
     "start_time": "2023-08-22T18:19:59.506074",
     "status": "completed"
    },
    "tags": []
   },
   "source": [
    "# Exercises"
   ]
  },
  {
   "cell_type": "markdown",
   "id": "30080805",
   "metadata": {
    "papermill": {
     "duration": 0.005719,
     "end_time": "2023-08-22T18:19:59.523618",
     "exception": false,
     "start_time": "2023-08-22T18:19:59.517899",
     "status": "completed"
    },
    "tags": []
   },
   "source": [
    "## 1.\n",
    "\n",
    "What is the median of the `points` column in the `reviews` DataFrame?"
   ]
  },
  {
   "cell_type": "code",
   "execution_count": 2,
   "id": "f9978350",
   "metadata": {
    "execution": {
     "iopub.execute_input": "2023-08-22T18:19:59.537806Z",
     "iopub.status.busy": "2023-08-22T18:19:59.537177Z",
     "iopub.status.idle": "2023-08-22T18:19:59.546848Z",
     "shell.execute_reply": "2023-08-22T18:19:59.546055Z"
    },
    "papermill": {
     "duration": 0.019175,
     "end_time": "2023-08-22T18:19:59.548822",
     "exception": false,
     "start_time": "2023-08-22T18:19:59.529647",
     "status": "completed"
    },
    "tags": []
   },
   "outputs": [
    {
     "data": {
      "application/javascript": [
       "parent.postMessage({\"jupyterEvent\": \"custom.exercise_interaction\", \"data\": {\"outcomeType\": 1, \"valueTowardsCompletion\": 0.14285714285714285, \"interactionType\": 1, \"questionType\": 1, \"questionId\": \"1_MedianPoints\", \"learnToolsVersion\": \"0.3.4\", \"failureMessage\": \"\", \"exceptionClass\": \"\", \"trace\": \"\"}}, \"*\")"
      ],
      "text/plain": [
       "<IPython.core.display.Javascript object>"
      ]
     },
     "metadata": {},
     "output_type": "display_data"
    },
    {
     "data": {
      "text/markdown": [
       "<span style=\"color:#33cc33\">Correct</span>"
      ],
      "text/plain": [
       "Correct"
      ]
     },
     "metadata": {},
     "output_type": "display_data"
    }
   ],
   "source": [
    "median_points = reviews.points.median()\n",
    "\n",
    "# Check your answer\n",
    "q1.check()"
   ]
  },
  {
   "cell_type": "code",
   "execution_count": 3,
   "id": "0321154d",
   "metadata": {
    "execution": {
     "iopub.execute_input": "2023-08-22T18:19:59.564183Z",
     "iopub.status.busy": "2023-08-22T18:19:59.563490Z",
     "iopub.status.idle": "2023-08-22T18:19:59.567848Z",
     "shell.execute_reply": "2023-08-22T18:19:59.566774Z"
    },
    "papermill": {
     "duration": 0.014805,
     "end_time": "2023-08-22T18:19:59.570297",
     "exception": false,
     "start_time": "2023-08-22T18:19:59.555492",
     "status": "completed"
    },
    "tags": []
   },
   "outputs": [],
   "source": [
    "#q1.hint()\n",
    "#q1.solution()"
   ]
  },
  {
   "cell_type": "markdown",
   "id": "389d7ffe",
   "metadata": {
    "papermill": {
     "duration": 0.007288,
     "end_time": "2023-08-22T18:19:59.584079",
     "exception": false,
     "start_time": "2023-08-22T18:19:59.576791",
     "status": "completed"
    },
    "tags": []
   },
   "source": [
    "## 2. \n",
    "What countries are represented in the dataset? (Your answer should not include any duplicates.)"
   ]
  },
  {
   "cell_type": "code",
   "execution_count": 4,
   "id": "15bc7221",
   "metadata": {
    "execution": {
     "iopub.execute_input": "2023-08-22T18:19:59.599836Z",
     "iopub.status.busy": "2023-08-22T18:19:59.598710Z",
     "iopub.status.idle": "2023-08-22T18:19:59.613118Z",
     "shell.execute_reply": "2023-08-22T18:19:59.612098Z"
    },
    "papermill": {
     "duration": 0.024221,
     "end_time": "2023-08-22T18:19:59.615291",
     "exception": false,
     "start_time": "2023-08-22T18:19:59.591070",
     "status": "completed"
    },
    "tags": []
   },
   "outputs": [
    {
     "data": {
      "application/javascript": [
       "parent.postMessage({\"jupyterEvent\": \"custom.exercise_interaction\", \"data\": {\"outcomeType\": 1, \"valueTowardsCompletion\": 0.14285714285714285, \"interactionType\": 1, \"questionType\": 2, \"questionId\": \"2_UniqueCountries\", \"learnToolsVersion\": \"0.3.4\", \"failureMessage\": \"\", \"exceptionClass\": \"\", \"trace\": \"\"}}, \"*\")"
      ],
      "text/plain": [
       "<IPython.core.display.Javascript object>"
      ]
     },
     "metadata": {},
     "output_type": "display_data"
    },
    {
     "data": {
      "text/markdown": [
       "<span style=\"color:#33cc33\">Correct</span>"
      ],
      "text/plain": [
       "Correct"
      ]
     },
     "metadata": {},
     "output_type": "display_data"
    }
   ],
   "source": [
    "countries = reviews.country.unique()\n",
    "\n",
    "# Check your answer\n",
    "q2.check()"
   ]
  },
  {
   "cell_type": "code",
   "execution_count": 5,
   "id": "34c8dcc6",
   "metadata": {
    "execution": {
     "iopub.execute_input": "2023-08-22T18:19:59.630539Z",
     "iopub.status.busy": "2023-08-22T18:19:59.629905Z",
     "iopub.status.idle": "2023-08-22T18:19:59.633528Z",
     "shell.execute_reply": "2023-08-22T18:19:59.632823Z"
    },
    "papermill": {
     "duration": 0.013574,
     "end_time": "2023-08-22T18:19:59.635498",
     "exception": false,
     "start_time": "2023-08-22T18:19:59.621924",
     "status": "completed"
    },
    "tags": []
   },
   "outputs": [],
   "source": [
    "#q2.hint()\n",
    "#q2.solution()"
   ]
  },
  {
   "cell_type": "markdown",
   "id": "5d8db5eb",
   "metadata": {
    "papermill": {
     "duration": 0.006617,
     "end_time": "2023-08-22T18:19:59.648690",
     "exception": false,
     "start_time": "2023-08-22T18:19:59.642073",
     "status": "completed"
    },
    "tags": []
   },
   "source": [
    "## 3.\n",
    "How often does each country appear in the dataset? Create a Series `reviews_per_country` mapping countries to the count of reviews of wines from that country."
   ]
  },
  {
   "cell_type": "code",
   "execution_count": 6,
   "id": "3e364058",
   "metadata": {
    "execution": {
     "iopub.execute_input": "2023-08-22T18:19:59.663829Z",
     "iopub.status.busy": "2023-08-22T18:19:59.663164Z",
     "iopub.status.idle": "2023-08-22T18:19:59.679890Z",
     "shell.execute_reply": "2023-08-22T18:19:59.679137Z"
    },
    "papermill": {
     "duration": 0.026598,
     "end_time": "2023-08-22T18:19:59.681923",
     "exception": false,
     "start_time": "2023-08-22T18:19:59.655325",
     "status": "completed"
    },
    "tags": []
   },
   "outputs": [
    {
     "data": {
      "application/javascript": [
       "parent.postMessage({\"jupyterEvent\": \"custom.exercise_interaction\", \"data\": {\"outcomeType\": 1, \"valueTowardsCompletion\": 0.14285714285714285, \"interactionType\": 1, \"questionType\": 1, \"questionId\": \"3_ReviewsPerCountry\", \"learnToolsVersion\": \"0.3.4\", \"failureMessage\": \"\", \"exceptionClass\": \"\", \"trace\": \"\"}}, \"*\")"
      ],
      "text/plain": [
       "<IPython.core.display.Javascript object>"
      ]
     },
     "metadata": {},
     "output_type": "display_data"
    },
    {
     "data": {
      "text/markdown": [
       "<span style=\"color:#33cc33\">Correct</span>"
      ],
      "text/plain": [
       "Correct"
      ]
     },
     "metadata": {},
     "output_type": "display_data"
    }
   ],
   "source": [
    "reviews_per_country = reviews.country.value_counts()\n",
    "\n",
    "# Check your answer\n",
    "q3.check()"
   ]
  },
  {
   "cell_type": "code",
   "execution_count": 7,
   "id": "3a3f45d2",
   "metadata": {
    "execution": {
     "iopub.execute_input": "2023-08-22T18:19:59.698230Z",
     "iopub.status.busy": "2023-08-22T18:19:59.697343Z",
     "iopub.status.idle": "2023-08-22T18:19:59.701297Z",
     "shell.execute_reply": "2023-08-22T18:19:59.700434Z"
    },
    "papermill": {
     "duration": 0.014351,
     "end_time": "2023-08-22T18:19:59.703405",
     "exception": false,
     "start_time": "2023-08-22T18:19:59.689054",
     "status": "completed"
    },
    "tags": []
   },
   "outputs": [],
   "source": [
    "#q3.hint()\n",
    "#q3.solution()"
   ]
  },
  {
   "cell_type": "markdown",
   "id": "be09c976",
   "metadata": {
    "papermill": {
     "duration": 0.006432,
     "end_time": "2023-08-22T18:19:59.716701",
     "exception": false,
     "start_time": "2023-08-22T18:19:59.710269",
     "status": "completed"
    },
    "tags": []
   },
   "source": [
    "## 4.\n",
    "Create variable `centered_price` containing a version of the `price` column with the mean price subtracted.\n",
    "\n",
    "(Note: this 'centering' transformation is a common preprocessing step before applying various machine learning algorithms.) "
   ]
  },
  {
   "cell_type": "code",
   "execution_count": 8,
   "id": "52a63ca7",
   "metadata": {
    "execution": {
     "iopub.execute_input": "2023-08-22T18:19:59.732845Z",
     "iopub.status.busy": "2023-08-22T18:19:59.732394Z",
     "iopub.status.idle": "2023-08-22T18:19:59.743042Z",
     "shell.execute_reply": "2023-08-22T18:19:59.741738Z"
    },
    "papermill": {
     "duration": 0.021953,
     "end_time": "2023-08-22T18:19:59.745328",
     "exception": false,
     "start_time": "2023-08-22T18:19:59.723375",
     "status": "completed"
    },
    "tags": []
   },
   "outputs": [
    {
     "data": {
      "application/javascript": [
       "parent.postMessage({\"jupyterEvent\": \"custom.exercise_interaction\", \"data\": {\"outcomeType\": 1, \"valueTowardsCompletion\": 0.14285714285714285, \"interactionType\": 1, \"questionType\": 1, \"questionId\": \"4_CenteredPrice\", \"learnToolsVersion\": \"0.3.4\", \"failureMessage\": \"\", \"exceptionClass\": \"\", \"trace\": \"\"}}, \"*\")"
      ],
      "text/plain": [
       "<IPython.core.display.Javascript object>"
      ]
     },
     "metadata": {},
     "output_type": "display_data"
    },
    {
     "data": {
      "text/markdown": [
       "<span style=\"color:#33cc33\">Correct</span>"
      ],
      "text/plain": [
       "Correct"
      ]
     },
     "metadata": {},
     "output_type": "display_data"
    }
   ],
   "source": [
    "centered_price = reviews.price - reviews.price.mean()\n",
    "\n",
    "# Check your answer\n",
    "q4.check()"
   ]
  },
  {
   "cell_type": "code",
   "execution_count": 9,
   "id": "76790cb1",
   "metadata": {
    "execution": {
     "iopub.execute_input": "2023-08-22T18:19:59.761220Z",
     "iopub.status.busy": "2023-08-22T18:19:59.760852Z",
     "iopub.status.idle": "2023-08-22T18:19:59.765121Z",
     "shell.execute_reply": "2023-08-22T18:19:59.763937Z"
    },
    "papermill": {
     "duration": 0.014734,
     "end_time": "2023-08-22T18:19:59.767150",
     "exception": false,
     "start_time": "2023-08-22T18:19:59.752416",
     "status": "completed"
    },
    "tags": []
   },
   "outputs": [],
   "source": [
    "#q4.hint()\n",
    "#q4.solution()"
   ]
  },
  {
   "cell_type": "markdown",
   "id": "ddd0bc96",
   "metadata": {
    "papermill": {
     "duration": 0.006663,
     "end_time": "2023-08-22T18:19:59.781051",
     "exception": false,
     "start_time": "2023-08-22T18:19:59.774388",
     "status": "completed"
    },
    "tags": []
   },
   "source": [
    "## 5.\n",
    "I'm an economical wine buyer. Which wine is the \"best bargain\"? Create a variable `bargain_wine` with the title of the wine with the highest points-to-price ratio in the dataset."
   ]
  },
  {
   "cell_type": "code",
   "execution_count": 10,
   "id": "0cbc6b62",
   "metadata": {
    "execution": {
     "iopub.execute_input": "2023-08-22T18:19:59.796616Z",
     "iopub.status.busy": "2023-08-22T18:19:59.796218Z",
     "iopub.status.idle": "2023-08-22T18:19:59.809056Z",
     "shell.execute_reply": "2023-08-22T18:19:59.808057Z"
    },
    "papermill": {
     "duration": 0.023228,
     "end_time": "2023-08-22T18:19:59.811244",
     "exception": false,
     "start_time": "2023-08-22T18:19:59.788016",
     "status": "completed"
    },
    "tags": []
   },
   "outputs": [
    {
     "data": {
      "application/javascript": [
       "parent.postMessage({\"jupyterEvent\": \"custom.exercise_interaction\", \"data\": {\"outcomeType\": 1, \"valueTowardsCompletion\": 0.14285714285714285, \"interactionType\": 1, \"questionType\": 2, \"questionId\": \"5_BargainWine\", \"learnToolsVersion\": \"0.3.4\", \"failureMessage\": \"\", \"exceptionClass\": \"\", \"trace\": \"\"}}, \"*\")"
      ],
      "text/plain": [
       "<IPython.core.display.Javascript object>"
      ]
     },
     "metadata": {},
     "output_type": "display_data"
    },
    {
     "data": {
      "text/markdown": [
       "<span style=\"color:#33cc33\">Correct</span>"
      ],
      "text/plain": [
       "Correct"
      ]
     },
     "metadata": {},
     "output_type": "display_data"
    }
   ],
   "source": [
    "bargain_idx = (reviews.points / reviews.price).idxmax()\n",
    "bargain_wine = reviews.loc[bargain_idx, 'title']\n",
    "\n",
    "# Check your answer\n",
    "q5.check()"
   ]
  },
  {
   "cell_type": "code",
   "execution_count": 11,
   "id": "412c5184",
   "metadata": {
    "execution": {
     "iopub.execute_input": "2023-08-22T18:19:59.827822Z",
     "iopub.status.busy": "2023-08-22T18:19:59.827074Z",
     "iopub.status.idle": "2023-08-22T18:19:59.831897Z",
     "shell.execute_reply": "2023-08-22T18:19:59.830854Z"
    },
    "papermill": {
     "duration": 0.015611,
     "end_time": "2023-08-22T18:19:59.834033",
     "exception": false,
     "start_time": "2023-08-22T18:19:59.818422",
     "status": "completed"
    },
    "tags": []
   },
   "outputs": [],
   "source": [
    "#q5.hint()\n",
    "#q5.solution()"
   ]
  },
  {
   "cell_type": "markdown",
   "id": "46306863",
   "metadata": {
    "papermill": {
     "duration": 0.006965,
     "end_time": "2023-08-22T18:19:59.848405",
     "exception": false,
     "start_time": "2023-08-22T18:19:59.841440",
     "status": "completed"
    },
    "tags": []
   },
   "source": [
    "## 6.\n",
    "There are only so many words you can use when describing a bottle of wine. Is a wine more likely to be \"tropical\" or \"fruity\"? Create a Series `descriptor_counts` counting how many times each of these two words appears in the `description` column in the dataset. (For simplicity, let's ignore the capitalized versions of these words.)"
   ]
  },
  {
   "cell_type": "code",
   "execution_count": 12,
   "id": "1a70f378",
   "metadata": {
    "execution": {
     "iopub.execute_input": "2023-08-22T18:19:59.864840Z",
     "iopub.status.busy": "2023-08-22T18:19:59.864427Z",
     "iopub.status.idle": "2023-08-22T18:20:00.003965Z",
     "shell.execute_reply": "2023-08-22T18:20:00.002835Z"
    },
    "papermill": {
     "duration": 0.150586,
     "end_time": "2023-08-22T18:20:00.006182",
     "exception": false,
     "start_time": "2023-08-22T18:19:59.855596",
     "status": "completed"
    },
    "tags": []
   },
   "outputs": [
    {
     "data": {
      "application/javascript": [
       "parent.postMessage({\"jupyterEvent\": \"custom.exercise_interaction\", \"data\": {\"outcomeType\": 1, \"valueTowardsCompletion\": 0.14285714285714285, \"interactionType\": 1, \"questionType\": 1, \"questionId\": \"6_DescriptorCounts\", \"learnToolsVersion\": \"0.3.4\", \"failureMessage\": \"\", \"exceptionClass\": \"\", \"trace\": \"\"}}, \"*\")"
      ],
      "text/plain": [
       "<IPython.core.display.Javascript object>"
      ]
     },
     "metadata": {},
     "output_type": "display_data"
    },
    {
     "data": {
      "text/markdown": [
       "<span style=\"color:#33cc33\">Correct</span>"
      ],
      "text/plain": [
       "Correct"
      ]
     },
     "metadata": {},
     "output_type": "display_data"
    }
   ],
   "source": [
    "n_trop = reviews.description.map(lambda desc: \"tropical\" in desc).sum()\n",
    "n_fruity = reviews.description.map(lambda desc: \"fruity\" in desc).sum()\n",
    "descriptor_counts = pd.Series([n_trop, n_fruity], index=['tropical', 'fruity'])\n",
    "\n",
    "# Check your answer\n",
    "q6.check()"
   ]
  },
  {
   "cell_type": "code",
   "execution_count": 13,
   "id": "2f414fdd",
   "metadata": {
    "execution": {
     "iopub.execute_input": "2023-08-22T18:20:00.022969Z",
     "iopub.status.busy": "2023-08-22T18:20:00.022574Z",
     "iopub.status.idle": "2023-08-22T18:20:00.026990Z",
     "shell.execute_reply": "2023-08-22T18:20:00.025806Z"
    },
    "papermill": {
     "duration": 0.015284,
     "end_time": "2023-08-22T18:20:00.029071",
     "exception": false,
     "start_time": "2023-08-22T18:20:00.013787",
     "status": "completed"
    },
    "tags": []
   },
   "outputs": [],
   "source": [
    "#q6.hint()\n",
    "#q6.solution()"
   ]
  },
  {
   "cell_type": "markdown",
   "id": "a0e541f3",
   "metadata": {
    "papermill": {
     "duration": 0.007213,
     "end_time": "2023-08-22T18:20:00.043801",
     "exception": false,
     "start_time": "2023-08-22T18:20:00.036588",
     "status": "completed"
    },
    "tags": []
   },
   "source": [
    "## 7.\n",
    "We'd like to host these wine reviews on our website, but a rating system ranging from 80 to 100 points is too hard to understand - we'd like to translate them into simple star ratings. A score of 95 or higher counts as 3 stars, a score of at least 85 but less than 95 is 2 stars. Any other score is 1 star.\n",
    "\n",
    "Also, the Canadian Vintners Association bought a lot of ads on the site, so any wines from Canada should automatically get 3 stars, regardless of points.\n",
    "\n",
    "Create a series `star_ratings` with the number of stars corresponding to each review in the dataset."
   ]
  },
  {
   "cell_type": "code",
   "execution_count": 14,
   "id": "3f363471",
   "metadata": {
    "execution": {
     "iopub.execute_input": "2023-08-22T18:20:00.060495Z",
     "iopub.status.busy": "2023-08-22T18:20:00.060145Z",
     "iopub.status.idle": "2023-08-22T18:20:03.523425Z",
     "shell.execute_reply": "2023-08-22T18:20:03.522438Z"
    },
    "papermill": {
     "duration": 3.474343,
     "end_time": "2023-08-22T18:20:03.525547",
     "exception": false,
     "start_time": "2023-08-22T18:20:00.051204",
     "status": "completed"
    },
    "tags": []
   },
   "outputs": [
    {
     "data": {
      "application/javascript": [
       "parent.postMessage({\"jupyterEvent\": \"custom.exercise_interaction\", \"data\": {\"outcomeType\": 1, \"valueTowardsCompletion\": 0.14285714285714285, \"interactionType\": 1, \"questionType\": 1, \"questionId\": \"7_StarRatings\", \"learnToolsVersion\": \"0.3.4\", \"failureMessage\": \"\", \"exceptionClass\": \"\", \"trace\": \"\"}}, \"*\")"
      ],
      "text/plain": [
       "<IPython.core.display.Javascript object>"
      ]
     },
     "metadata": {},
     "output_type": "display_data"
    },
    {
     "data": {
      "text/markdown": [
       "<span style=\"color:#33cc33\">Correct</span>"
      ],
      "text/plain": [
       "Correct"
      ]
     },
     "metadata": {},
     "output_type": "display_data"
    }
   ],
   "source": [
    "def stars(row):\n",
    "    if row.country == 'Canada':\n",
    "        return 3\n",
    "    elif row.points >= 95:\n",
    "        return 3\n",
    "    elif row.points >= 85:\n",
    "        return 2\n",
    "    else:\n",
    "        return 1\n",
    "\n",
    "star_ratings = reviews.apply(stars, axis='columns')\n",
    "\n",
    "# Check your answer\n",
    "q7.check()"
   ]
  },
  {
   "cell_type": "code",
   "execution_count": 15,
   "id": "d8447e2e",
   "metadata": {
    "execution": {
     "iopub.execute_input": "2023-08-22T18:20:03.543177Z",
     "iopub.status.busy": "2023-08-22T18:20:03.542803Z",
     "iopub.status.idle": "2023-08-22T18:20:03.547113Z",
     "shell.execute_reply": "2023-08-22T18:20:03.546005Z"
    },
    "papermill": {
     "duration": 0.015625,
     "end_time": "2023-08-22T18:20:03.549245",
     "exception": false,
     "start_time": "2023-08-22T18:20:03.533620",
     "status": "completed"
    },
    "tags": []
   },
   "outputs": [],
   "source": [
    "#q7.hint()\n",
    "#q7.solution()"
   ]
  },
  {
   "cell_type": "markdown",
   "id": "8615cfff",
   "metadata": {
    "papermill": {
     "duration": 0.007505,
     "end_time": "2023-08-22T18:20:03.564522",
     "exception": false,
     "start_time": "2023-08-22T18:20:03.557017",
     "status": "completed"
    },
    "tags": []
   },
   "source": [
    "# Keep going\n",
    "Continue to **[grouping and sorting](https://www.kaggle.com/residentmario/grouping-and-sorting)**."
   ]
  },
  {
   "cell_type": "markdown",
   "id": "98d0ac4b",
   "metadata": {
    "papermill": {
     "duration": 0.007384,
     "end_time": "2023-08-22T18:20:03.579527",
     "exception": false,
     "start_time": "2023-08-22T18:20:03.572143",
     "status": "completed"
    },
    "tags": []
   },
   "source": [
    "---\n",
    "\n",
    "\n",
    "\n",
    "\n",
    "*Have questions or comments? Visit the [course discussion forum](https://www.kaggle.com/learn/pandas/discussion) to chat with other learners.*"
   ]
  }
 ],
 "metadata": {
  "kernelspec": {
   "display_name": "Python 3",
   "language": "python",
   "name": "python3"
  },
  "language_info": {
   "codemirror_mode": {
    "name": "ipython",
    "version": 3
   },
   "file_extension": ".py",
   "mimetype": "text/x-python",
   "name": "python",
   "nbconvert_exporter": "python",
   "pygments_lexer": "ipython3",
   "version": "3.10.12"
  },
  "papermill": {
   "default_parameters": {},
   "duration": 20.537303,
   "end_time": "2023-08-22T18:20:04.512832",
   "environment_variables": {},
   "exception": null,
   "input_path": "__notebook__.ipynb",
   "output_path": "__notebook__.ipynb",
   "parameters": {},
   "start_time": "2023-08-22T18:19:43.975529",
   "version": "2.4.0"
  }
 },
 "nbformat": 4,
 "nbformat_minor": 5
}
