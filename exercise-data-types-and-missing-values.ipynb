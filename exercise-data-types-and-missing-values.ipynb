{
 "cells": [
  {
   "cell_type": "markdown",
   "id": "1e21604b",
   "metadata": {
    "papermill": {
     "duration": 0.006478,
     "end_time": "2023-08-22T18:24:52.881105",
     "exception": false,
     "start_time": "2023-08-22T18:24:52.874627",
     "status": "completed"
    },
    "tags": []
   },
   "source": [
    "**This notebook is an exercise in the [Pandas](https://www.kaggle.com/learn/pandas) course.  You can reference the tutorial at [this link](https://www.kaggle.com/residentmario/data-types-and-missing-values).**\n",
    "\n",
    "---\n"
   ]
  },
  {
   "cell_type": "markdown",
   "id": "bb2a87d8",
   "metadata": {
    "papermill": {
     "duration": 0.005297,
     "end_time": "2023-08-22T18:24:52.892245",
     "exception": false,
     "start_time": "2023-08-22T18:24:52.886948",
     "status": "completed"
    },
    "tags": []
   },
   "source": [
    "# Introduction\n",
    "\n",
    "Run the following cell to load your data and some utility functions."
   ]
  },
  {
   "cell_type": "code",
   "execution_count": 1,
   "id": "0a0e5630",
   "metadata": {
    "execution": {
     "iopub.execute_input": "2023-08-22T18:24:52.905721Z",
     "iopub.status.busy": "2023-08-22T18:24:52.905091Z",
     "iopub.status.idle": "2023-08-22T18:24:56.173239Z",
     "shell.execute_reply": "2023-08-22T18:24:56.171970Z"
    },
    "papermill": {
     "duration": 3.27839,
     "end_time": "2023-08-22T18:24:56.176114",
     "exception": false,
     "start_time": "2023-08-22T18:24:52.897724",
     "status": "completed"
    },
    "tags": []
   },
   "outputs": [
    {
     "name": "stdout",
     "output_type": "stream",
     "text": [
      "Setup complete.\n"
     ]
    }
   ],
   "source": [
    "import pandas as pd\n",
    "\n",
    "reviews = pd.read_csv(\"../input/wine-reviews/winemag-data-130k-v2.csv\", index_col=0)\n",
    "\n",
    "from learntools.core import binder; binder.bind(globals())\n",
    "from learntools.pandas.data_types_and_missing_data import *\n",
    "print(\"Setup complete.\")"
   ]
  },
  {
   "cell_type": "markdown",
   "id": "bdc6c522",
   "metadata": {
    "papermill": {
     "duration": 0.005407,
     "end_time": "2023-08-22T18:24:56.187217",
     "exception": false,
     "start_time": "2023-08-22T18:24:56.181810",
     "status": "completed"
    },
    "tags": []
   },
   "source": [
    "# Exercises"
   ]
  },
  {
   "cell_type": "markdown",
   "id": "e2a45968",
   "metadata": {
    "papermill": {
     "duration": 0.005329,
     "end_time": "2023-08-22T18:24:56.198139",
     "exception": false,
     "start_time": "2023-08-22T18:24:56.192810",
     "status": "completed"
    },
    "tags": []
   },
   "source": [
    "## 1. \n",
    "What is the data type of the `points` column in the dataset?"
   ]
  },
  {
   "cell_type": "code",
   "execution_count": 2,
   "id": "3946d1d8",
   "metadata": {
    "execution": {
     "iopub.execute_input": "2023-08-22T18:24:56.223079Z",
     "iopub.status.busy": "2023-08-22T18:24:56.220874Z",
     "iopub.status.idle": "2023-08-22T18:24:56.234594Z",
     "shell.execute_reply": "2023-08-22T18:24:56.233282Z"
    },
    "papermill": {
     "duration": 0.033794,
     "end_time": "2023-08-22T18:24:56.237452",
     "exception": false,
     "start_time": "2023-08-22T18:24:56.203658",
     "status": "completed"
    },
    "tags": []
   },
   "outputs": [
    {
     "data": {
      "application/javascript": [
       "parent.postMessage({\"jupyterEvent\": \"custom.exercise_interaction\", \"data\": {\"outcomeType\": 1, \"valueTowardsCompletion\": 0.25, \"interactionType\": 1, \"questionType\": 1, \"questionId\": \"1_PointsDtype\", \"learnToolsVersion\": \"0.3.4\", \"failureMessage\": \"\", \"exceptionClass\": \"\", \"trace\": \"\"}}, \"*\")"
      ],
      "text/plain": [
       "<IPython.core.display.Javascript object>"
      ]
     },
     "metadata": {},
     "output_type": "display_data"
    },
    {
     "data": {
      "text/markdown": [
       "<span style=\"color:#33cc33\">Correct</span>"
      ],
      "text/plain": [
       "Correct"
      ]
     },
     "metadata": {},
     "output_type": "display_data"
    }
   ],
   "source": [
    "# Your code here\n",
    "dtype = reviews.points.dtype\n",
    "\n",
    "# Check your answer\n",
    "q1.check()"
   ]
  },
  {
   "cell_type": "code",
   "execution_count": 3,
   "id": "c56871b6",
   "metadata": {
    "execution": {
     "iopub.execute_input": "2023-08-22T18:24:56.251471Z",
     "iopub.status.busy": "2023-08-22T18:24:56.251081Z",
     "iopub.status.idle": "2023-08-22T18:24:56.255578Z",
     "shell.execute_reply": "2023-08-22T18:24:56.254776Z"
    },
    "papermill": {
     "duration": 0.014082,
     "end_time": "2023-08-22T18:24:56.257788",
     "exception": false,
     "start_time": "2023-08-22T18:24:56.243706",
     "status": "completed"
    },
    "tags": []
   },
   "outputs": [],
   "source": [
    "#q1.hint()\n",
    "#q1.solution()"
   ]
  },
  {
   "cell_type": "markdown",
   "id": "a6e7da03",
   "metadata": {
    "papermill": {
     "duration": 0.005726,
     "end_time": "2023-08-22T18:24:56.269597",
     "exception": false,
     "start_time": "2023-08-22T18:24:56.263871",
     "status": "completed"
    },
    "tags": []
   },
   "source": [
    "## 2. \n",
    "Create a Series from entries in the `points` column, but convert the entries to strings. Hint: strings are `str` in native Python."
   ]
  },
  {
   "cell_type": "code",
   "execution_count": 4,
   "id": "abacb7b3",
   "metadata": {
    "execution": {
     "iopub.execute_input": "2023-08-22T18:24:56.283786Z",
     "iopub.status.busy": "2023-08-22T18:24:56.283080Z",
     "iopub.status.idle": "2023-08-22T18:24:56.413880Z",
     "shell.execute_reply": "2023-08-22T18:24:56.412660Z"
    },
    "papermill": {
     "duration": 0.141135,
     "end_time": "2023-08-22T18:24:56.416707",
     "exception": false,
     "start_time": "2023-08-22T18:24:56.275572",
     "status": "completed"
    },
    "tags": []
   },
   "outputs": [
    {
     "data": {
      "application/javascript": [
       "parent.postMessage({\"jupyterEvent\": \"custom.exercise_interaction\", \"data\": {\"outcomeType\": 1, \"valueTowardsCompletion\": 0.25, \"interactionType\": 1, \"questionType\": 1, \"questionId\": \"2_StrPoints\", \"learnToolsVersion\": \"0.3.4\", \"failureMessage\": \"\", \"exceptionClass\": \"\", \"trace\": \"\"}}, \"*\")"
      ],
      "text/plain": [
       "<IPython.core.display.Javascript object>"
      ]
     },
     "metadata": {},
     "output_type": "display_data"
    },
    {
     "data": {
      "text/markdown": [
       "<span style=\"color:#33cc33\">Correct</span>"
      ],
      "text/plain": [
       "Correct"
      ]
     },
     "metadata": {},
     "output_type": "display_data"
    }
   ],
   "source": [
    "point_strings = reviews.points.astype(\"str\")\n",
    "\n",
    "# Check your answer\n",
    "q2.check()"
   ]
  },
  {
   "cell_type": "code",
   "execution_count": 5,
   "id": "8e3b154b",
   "metadata": {
    "execution": {
     "iopub.execute_input": "2023-08-22T18:24:56.438667Z",
     "iopub.status.busy": "2023-08-22T18:24:56.438271Z",
     "iopub.status.idle": "2023-08-22T18:24:56.443651Z",
     "shell.execute_reply": "2023-08-22T18:24:56.442389Z"
    },
    "papermill": {
     "duration": 0.019243,
     "end_time": "2023-08-22T18:24:56.446921",
     "exception": false,
     "start_time": "2023-08-22T18:24:56.427678",
     "status": "completed"
    },
    "tags": []
   },
   "outputs": [],
   "source": [
    "#q2.hint()\n",
    "#q2.solution()"
   ]
  },
  {
   "cell_type": "markdown",
   "id": "3a79e327",
   "metadata": {
    "papermill": {
     "duration": 0.009161,
     "end_time": "2023-08-22T18:24:56.468039",
     "exception": false,
     "start_time": "2023-08-22T18:24:56.458878",
     "status": "completed"
    },
    "tags": []
   },
   "source": [
    "## 3.\n",
    "Sometimes the price column is null. How many reviews in the dataset are missing a price?"
   ]
  },
  {
   "cell_type": "code",
   "execution_count": 6,
   "id": "177c1bdd",
   "metadata": {
    "execution": {
     "iopub.execute_input": "2023-08-22T18:24:56.487553Z",
     "iopub.status.busy": "2023-08-22T18:24:56.487166Z",
     "iopub.status.idle": "2023-08-22T18:24:56.496108Z",
     "shell.execute_reply": "2023-08-22T18:24:56.495326Z"
    },
    "papermill": {
     "duration": 0.022047,
     "end_time": "2023-08-22T18:24:56.499101",
     "exception": false,
     "start_time": "2023-08-22T18:24:56.477054",
     "status": "completed"
    },
    "tags": []
   },
   "outputs": [
    {
     "data": {
      "application/javascript": [
       "parent.postMessage({\"jupyterEvent\": \"custom.exercise_interaction\", \"data\": {\"outcomeType\": 1, \"valueTowardsCompletion\": 0.25, \"interactionType\": 1, \"questionType\": 1, \"questionId\": \"3_CountMissingPrices\", \"learnToolsVersion\": \"0.3.4\", \"failureMessage\": \"\", \"exceptionClass\": \"\", \"trace\": \"\"}}, \"*\")"
      ],
      "text/plain": [
       "<IPython.core.display.Javascript object>"
      ]
     },
     "metadata": {},
     "output_type": "display_data"
    },
    {
     "data": {
      "text/markdown": [
       "<span style=\"color:#33cc33\">Correct</span>"
      ],
      "text/plain": [
       "Correct"
      ]
     },
     "metadata": {},
     "output_type": "display_data"
    }
   ],
   "source": [
    "n_missing_prices = pd.isnull(reviews.price).sum()\n",
    "\n",
    "# Check your answer\n",
    "q3.check()"
   ]
  },
  {
   "cell_type": "code",
   "execution_count": 7,
   "id": "b9073259",
   "metadata": {
    "execution": {
     "iopub.execute_input": "2023-08-22T18:24:56.521112Z",
     "iopub.status.busy": "2023-08-22T18:24:56.519204Z",
     "iopub.status.idle": "2023-08-22T18:24:56.525717Z",
     "shell.execute_reply": "2023-08-22T18:24:56.524922Z"
    },
    "papermill": {
     "duration": 0.019291,
     "end_time": "2023-08-22T18:24:56.527933",
     "exception": false,
     "start_time": "2023-08-22T18:24:56.508642",
     "status": "completed"
    },
    "tags": []
   },
   "outputs": [],
   "source": [
    "#q3.hint()\n",
    "#q3.solution()"
   ]
  },
  {
   "cell_type": "markdown",
   "id": "17108578",
   "metadata": {
    "papermill": {
     "duration": 0.006348,
     "end_time": "2023-08-22T18:24:56.541203",
     "exception": false,
     "start_time": "2023-08-22T18:24:56.534855",
     "status": "completed"
    },
    "tags": []
   },
   "source": [
    "## 4.\n",
    "What are the most common wine-producing regions? Create a Series counting the number of times each value occurs in the `region_1` field. This field is often missing data, so replace missing values with `Unknown`. Sort in descending order.  Your output should look something like this:\n",
    "\n",
    "```\n",
    "Unknown                    21247\n",
    "Napa Valley                 4480\n",
    "                           ...  \n",
    "Bardolino Superiore            1\n",
    "Primitivo del Tarantino        1\n",
    "Name: region_1, Length: 1230, dtype: int64\n",
    "```"
   ]
  },
  {
   "cell_type": "code",
   "execution_count": 8,
   "id": "4326f258",
   "metadata": {
    "execution": {
     "iopub.execute_input": "2023-08-22T18:24:56.557175Z",
     "iopub.status.busy": "2023-08-22T18:24:56.555962Z",
     "iopub.status.idle": "2023-08-22T18:24:56.653144Z",
     "shell.execute_reply": "2023-08-22T18:24:56.652034Z"
    },
    "papermill": {
     "duration": 0.107612,
     "end_time": "2023-08-22T18:24:56.655581",
     "exception": false,
     "start_time": "2023-08-22T18:24:56.547969",
     "status": "completed"
    },
    "tags": []
   },
   "outputs": [
    {
     "data": {
      "application/javascript": [
       "parent.postMessage({\"jupyterEvent\": \"custom.exercise_interaction\", \"data\": {\"outcomeType\": 1, \"valueTowardsCompletion\": 0.25, \"interactionType\": 1, \"questionType\": 2, \"questionId\": \"4_ReviewsPerRegion\", \"learnToolsVersion\": \"0.3.4\", \"failureMessage\": \"\", \"exceptionClass\": \"\", \"trace\": \"\"}}, \"*\")"
      ],
      "text/plain": [
       "<IPython.core.display.Javascript object>"
      ]
     },
     "metadata": {},
     "output_type": "display_data"
    },
    {
     "data": {
      "text/markdown": [
       "<span style=\"color:#33cc33\">Correct</span>"
      ],
      "text/plain": [
       "Correct"
      ]
     },
     "metadata": {},
     "output_type": "display_data"
    }
   ],
   "source": [
    "reviews_per_region = reviews.region_1.fillna('Unknown').value_counts().sort_values(ascending=False)\n",
    "\n",
    "# Check your answer\n",
    "q4.check()"
   ]
  },
  {
   "cell_type": "code",
   "execution_count": 9,
   "id": "a9cb716f",
   "metadata": {
    "execution": {
     "iopub.execute_input": "2023-08-22T18:24:56.672085Z",
     "iopub.status.busy": "2023-08-22T18:24:56.670894Z",
     "iopub.status.idle": "2023-08-22T18:24:56.675652Z",
     "shell.execute_reply": "2023-08-22T18:24:56.674938Z"
    },
    "papermill": {
     "duration": 0.015069,
     "end_time": "2023-08-22T18:24:56.677762",
     "exception": false,
     "start_time": "2023-08-22T18:24:56.662693",
     "status": "completed"
    },
    "tags": []
   },
   "outputs": [],
   "source": [
    "#q4.hint()\n",
    "#q4.solution()"
   ]
  },
  {
   "cell_type": "markdown",
   "id": "28efed13",
   "metadata": {
    "papermill": {
     "duration": 0.007017,
     "end_time": "2023-08-22T18:24:56.691890",
     "exception": false,
     "start_time": "2023-08-22T18:24:56.684873",
     "status": "completed"
    },
    "tags": []
   },
   "source": [
    "# Keep going\n",
    "\n",
    "Move on to **[renaming and combining](https://www.kaggle.com/residentmario/renaming-and-combining)**."
   ]
  },
  {
   "cell_type": "markdown",
   "id": "618a4f8a",
   "metadata": {
    "papermill": {
     "duration": 0.006845,
     "end_time": "2023-08-22T18:24:56.705833",
     "exception": false,
     "start_time": "2023-08-22T18:24:56.698988",
     "status": "completed"
    },
    "tags": []
   },
   "source": [
    "---\n",
    "\n",
    "\n",
    "\n",
    "\n",
    "*Have questions or comments? Visit the [course discussion forum](https://www.kaggle.com/learn/pandas/discussion) to chat with other learners.*"
   ]
  }
 ],
 "metadata": {
  "kernelspec": {
   "display_name": "Python 3",
   "language": "python",
   "name": "python3"
  },
  "language_info": {
   "codemirror_mode": {
    "name": "ipython",
    "version": 3
   },
   "file_extension": ".py",
   "mimetype": "text/x-python",
   "name": "python",
   "nbconvert_exporter": "python",
   "pygments_lexer": "ipython3",
   "version": "3.10.12"
  },
  "papermill": {
   "default_parameters": {},
   "duration": 18.05929,
   "end_time": "2023-08-22T18:24:57.635077",
   "environment_variables": {},
   "exception": null,
   "input_path": "__notebook__.ipynb",
   "output_path": "__notebook__.ipynb",
   "parameters": {},
   "start_time": "2023-08-22T18:24:39.575787",
   "version": "2.4.0"
  }
 },
 "nbformat": 4,
 "nbformat_minor": 5
}
