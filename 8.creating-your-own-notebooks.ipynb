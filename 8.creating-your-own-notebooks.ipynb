{
 "cells": [
  {
   "cell_type": "markdown",
   "id": "5d4656c2",
   "metadata": {
    "papermill": {
     "duration": 0.00468,
     "end_time": "2023-09-02T16:29:24.269508",
     "exception": false,
     "start_time": "2023-09-02T16:29:24.264828",
     "status": "completed"
    },
    "tags": []
   },
   "source": [
    "Congratulations for making it to the end of the course!\n",
    "\n",
    "In this final tutorial, you'll learn an efficient workflow that you can use to continue creating your own stunning data visualizations on the Kaggle website."
   ]
  },
  {
   "cell_type": "markdown",
   "id": "4ab41da1",
   "metadata": {
    "papermill": {
     "duration": 0.003771,
     "end_time": "2023-09-02T16:29:24.277494",
     "exception": false,
     "start_time": "2023-09-02T16:29:24.273723",
     "status": "completed"
    },
    "tags": []
   },
   "source": [
    "## Workflow\n",
    "\n",
    "Begin by navigating to the site for Kaggle Notebooks:\n",
    "> https://www.kaggle.com/code\n",
    "\n",
    "Then, in the top left corner, click on **[+ New Notebook]**.\n",
    "\n",
    "![tut7_new_kernel](https://storage.googleapis.com/kaggle-media/learn/images/kw9cct2.png)\n",
    "\n",
    "This opens a notebook.  As a first step, check the language of the notebook by selecting **File > Language**.  If it's not Python, change the language to Python now.\n",
    "\n",
    "![tut7_default_lang](https://storage.googleapis.com/kaggle-media/learn/images/FcQhCjF.png)\n",
    "\n",
    "The notebook should hvae some default code.  **_Please erase this code, and replace it with the code in the cell below._**  (_This is the same code that you used in all of the exercises to set up your Python environment._)"
   ]
  },
  {
   "cell_type": "code",
   "execution_count": 1,
   "id": "97d96722",
   "metadata": {
    "execution": {
     "iopub.execute_input": "2023-09-02T16:29:24.287876Z",
     "iopub.status.busy": "2023-09-02T16:29:24.287427Z",
     "iopub.status.idle": "2023-09-02T16:29:26.523540Z",
     "shell.execute_reply": "2023-09-02T16:29:26.522229Z"
    },
    "papermill": {
     "duration": 2.244605,
     "end_time": "2023-09-02T16:29:26.525934",
     "exception": false,
     "start_time": "2023-09-02T16:29:24.281329",
     "status": "completed"
    },
    "tags": []
   },
   "outputs": [
    {
     "name": "stdout",
     "output_type": "stream",
     "text": [
      "Setup Complete\n"
     ]
    }
   ],
   "source": [
    "import pandas as pd\n",
    "pd.plotting.register_matplotlib_converters()\n",
    "import matplotlib.pyplot as plt\n",
    "%matplotlib inline\n",
    "import seaborn as sns\n",
    "print(\"Setup Complete\")"
   ]
  },
  {
   "cell_type": "markdown",
   "id": "9e97b336",
   "metadata": {
    "papermill": {
     "duration": 0.004293,
     "end_time": "2023-09-02T16:29:26.534787",
     "exception": false,
     "start_time": "2023-09-02T16:29:26.530494",
     "status": "completed"
    },
    "tags": []
   },
   "source": [
    "The next step is to attach a dataset, before writing code to visualize it.  (_You learned how to do that in the previous tutorial._) \n",
    "\n",
    "Then, once you have generated a figure, you need only save it as an image file that you can easily add to your presentations!"
   ]
  },
  {
   "cell_type": "markdown",
   "id": "d0cfc192",
   "metadata": {
    "papermill": {
     "duration": 0.003859,
     "end_time": "2023-09-02T16:29:26.542954",
     "exception": false,
     "start_time": "2023-09-02T16:29:26.539095",
     "status": "completed"
    },
    "tags": []
   },
   "source": [
    "---\n",
    "\n",
    "\n",
    "\n",
    "\n",
    "*Have questions or comments? Visit the [course discussion forum](https://www.kaggle.com/learn/data-visualization/discussion) to chat with other learners.*"
   ]
  }
 ],
 "kernelspec": {
  "display_name": "Python 3",
  "language": "python",
  "name": "python3"
 },
 "language_info": {
  "codemirror_mode": {
   "name": "ipython",
   "version": 3
  },
  "file_extension": ".py",
  "mimetype": "text/x-python",
  "name": "python",
  "nbconvert_exporter": "python",
  "pygments_lexer": "ipython3",
  "version": "3.6.4"
 },
 "metadata": {
  "kernelspec": {
   "display_name": "Python 3",
   "language": "python",
   "name": "python3"
  },
  "language_info": {
   "codemirror_mode": {
    "name": "ipython",
    "version": 3
   },
   "file_extension": ".py",
   "mimetype": "text/x-python",
   "name": "python",
   "nbconvert_exporter": "python",
   "pygments_lexer": "ipython3",
   "version": "3.10.12"
  },
  "papermill": {
   "default_parameters": {},
   "duration": 6.963925,
   "end_time": "2023-09-02T16:29:27.269777",
   "environment_variables": {},
   "exception": null,
   "input_path": "__notebook__.ipynb",
   "output_path": "__notebook__.ipynb",
   "parameters": {},
   "start_time": "2023-09-02T16:29:20.305852",
   "version": "2.4.0"
  }
 },
 "nbformat": 4,
 "nbformat_minor": 5
}
